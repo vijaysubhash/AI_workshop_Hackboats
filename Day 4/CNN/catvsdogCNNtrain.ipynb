{
 "cells": [
  {
   "cell_type": "markdown",
   "source": [
    "# Installing Libraries"
   ],
   "metadata": {
    "collapsed": false
   },
   "id": "f4c7b2863aff34a4"
  },
  {
   "cell_type": "code",
   "execution_count": 45,
   "id": "initial_id",
   "metadata": {
    "collapsed": true,
    "ExecuteTime": {
     "end_time": "2023-12-25T12:15:11.133322400Z",
     "start_time": "2023-12-25T12:15:11.083834100Z"
    }
   },
   "outputs": [],
   "source": [
    "from keras import layers\n",
    "import tensorflow as tf\n",
    "from tensorflow.keras.models import Sequential \n",
    "# from tensorflow.keras.layers import Activation, Dropout, Flatten, Dense \n",
    "# from tensorflow.keras.layers import Conv2D, MaxPooling2D \n",
    "# from tensorflow.keras.utils import image_dataset_from_directory \n",
    "from tensorflow.keras.preprocessing.image import ImageDataGenerator \n",
    "import matplotlib.pyplot as plt"
   ]
  },
  {
   "cell_type": "markdown",
   "source": [
    "### Define paths to train and test datasets"
   ],
   "metadata": {
    "collapsed": false
   },
   "id": "d5ca4b176a7bdae6"
  },
  {
   "cell_type": "code",
   "execution_count": 46,
   "outputs": [],
   "source": [
    "train_path = 'dataset/train'\n",
    "test_path = 'dataset/test'"
   ],
   "metadata": {
    "collapsed": false,
    "ExecuteTime": {
     "end_time": "2023-12-25T12:15:11.176841Z",
     "start_time": "2023-12-25T12:15:11.091067400Z"
    }
   },
   "id": "67b2914310c40ee0"
  },
  {
   "cell_type": "markdown",
   "source": [
    "### Define the CNN model"
   ],
   "metadata": {
    "collapsed": false
   },
   "id": "22c70e8b19e82486"
  },
  {
   "cell_type": "code",
   "execution_count": 47,
   "outputs": [],
   "source": [
    "model = Sequential()\n",
    "model.add(layers.Conv2D(16, (3, 3), activation='relu', input_shape=(150, 150, 3)))\n",
    "model.add(layers.MaxPooling2D((2, 2)))\n",
    "model.add(layers.Conv2D(32, (3, 3), activation='relu'))\n",
    "model.add(layers.MaxPooling2D((2, 2)))\n",
    "model.add(layers.Conv2D(64, (3, 3), activation='relu'))\n",
    "model.add(layers.MaxPooling2D((2, 2)))\n",
    "model.add(layers.Flatten())\n",
    "model.add(layers.Dropout(0.6)) # For regularization\n",
    "model.add(layers.Dense(256, activation='relu'))\n",
    "model.add(layers.Dropout(0.6))\n",
    "model.add(layers.Dense(1, activation='sigmoid'))"
   ],
   "metadata": {
    "collapsed": false,
    "ExecuteTime": {
     "end_time": "2023-12-25T12:15:11.246857Z",
     "start_time": "2023-12-25T12:15:11.105312600Z"
    }
   },
   "id": "a1b8a51832f58da9"
  },
  {
   "cell_type": "markdown",
   "source": [
    "# Compile the model"
   ],
   "metadata": {
    "collapsed": false
   },
   "id": "1b11a1fac9765910"
  },
  {
   "cell_type": "code",
   "execution_count": 48,
   "outputs": [],
   "source": [
    "model.compile(optimizer=tf.keras.optimizers.Adam(learning_rate = 0.0005), loss='binary_crossentropy', metrics=['accuracy'])"
   ],
   "metadata": {
    "collapsed": false,
    "ExecuteTime": {
     "end_time": "2023-12-25T12:15:11.278027400Z",
     "start_time": "2023-12-25T12:15:11.253025400Z"
    }
   },
   "id": "5907531e11ec7164"
  },
  {
   "cell_type": "markdown",
   "source": [
    "### Image Data Augmentation for train set"
   ],
   "metadata": {
    "collapsed": false
   },
   "id": "26c3b6088d39841d"
  },
  {
   "cell_type": "code",
   "execution_count": 49,
   "outputs": [],
   "source": [
    "train_datagen = ImageDataGenerator(rescale=1./255,\n",
    "                                   shear_range=0.2,\n",
    "                                   zoom_range=0.2,\n",
    "                                   horizontal_flip=True)"
   ],
   "metadata": {
    "collapsed": false,
    "ExecuteTime": {
     "end_time": "2023-12-25T12:15:11.292368100Z",
     "start_time": "2023-12-25T12:15:11.279025900Z"
    }
   },
   "id": "d301eb606185238d"
  },
  {
   "cell_type": "markdown",
   "source": [
    "### Image Data Augmentation for test set"
   ],
   "metadata": {
    "collapsed": false
   },
   "id": "2c6a6e58c3c05750"
  },
  {
   "cell_type": "code",
   "execution_count": 50,
   "outputs": [],
   "source": [
    "test_datagen = ImageDataGenerator(rescale=1./255)"
   ],
   "metadata": {
    "collapsed": false,
    "ExecuteTime": {
     "end_time": "2023-12-25T12:15:11.319535500Z",
     "start_time": "2023-12-25T12:15:11.294370700Z"
    }
   },
   "id": "f5ce8e3ff221e8e1"
  },
  {
   "cell_type": "markdown",
   "source": [
    "### Generate batches of augmented data for training and testing"
   ],
   "metadata": {
    "collapsed": false
   },
   "id": "19f7b06c0647f0cd"
  },
  {
   "cell_type": "code",
   "execution_count": 51,
   "outputs": [
    {
     "name": "stdout",
     "output_type": "stream",
     "text": [
      "Found 338 images belonging to 2 classes.\n",
      "Found 62 images belonging to 2 classes.\n"
     ]
    }
   ],
   "source": [
    "train_generator = train_datagen.flow_from_directory(train_path,\n",
    "                                                    target_size=(150, 150),\n",
    "                                                    batch_size=16,\n",
    "                                                    class_mode='binary')\n",
    "\n",
    "test_generator = test_datagen.flow_from_directory(test_path,\n",
    "                                                  target_size=(150, 150),\n",
    "                                                  batch_size=16,\n",
    "                                                  class_mode='binary')"
   ],
   "metadata": {
    "collapsed": false,
    "ExecuteTime": {
     "end_time": "2023-12-25T12:15:11.383062900Z",
     "start_time": "2023-12-25T12:15:11.309537100Z"
    }
   },
   "id": "bad1c8d9706bef8"
  },
  {
   "cell_type": "markdown",
   "source": [
    "### Train the model"
   ],
   "metadata": {
    "collapsed": false
   },
   "id": "8c44a42a8e1a6ebe"
  },
  {
   "cell_type": "code",
   "execution_count": 52,
   "outputs": [
    {
     "name": "stdout",
     "output_type": "stream",
     "text": [
      "Epoch 1/15\n",
      "22/22 [==============================] - 5s 164ms/step - loss: 0.7025 - accuracy: 0.5266 - val_loss: 0.6881 - val_accuracy: 0.4839\n",
      "Epoch 2/15\n",
      "22/22 [==============================] - 3s 152ms/step - loss: 0.6928 - accuracy: 0.4882 - val_loss: 0.6887 - val_accuracy: 0.4839\n",
      "Epoch 3/15\n",
      "22/22 [==============================] - 4s 167ms/step - loss: 0.6673 - accuracy: 0.5799 - val_loss: 0.6767 - val_accuracy: 0.5323\n",
      "Epoch 4/15\n",
      "22/22 [==============================] - 3s 146ms/step - loss: 0.6729 - accuracy: 0.5828 - val_loss: 0.6707 - val_accuracy: 0.5806\n",
      "Epoch 5/15\n",
      "22/22 [==============================] - 3s 144ms/step - loss: 0.6650 - accuracy: 0.6154 - val_loss: 0.6811 - val_accuracy: 0.5968\n",
      "Epoch 6/15\n",
      "22/22 [==============================] - 3s 144ms/step - loss: 0.6203 - accuracy: 0.6509 - val_loss: 0.6561 - val_accuracy: 0.6129\n",
      "Epoch 7/15\n",
      "22/22 [==============================] - 3s 145ms/step - loss: 0.6129 - accuracy: 0.6746 - val_loss: 0.6713 - val_accuracy: 0.5645\n",
      "Epoch 8/15\n",
      "22/22 [==============================] - 3s 147ms/step - loss: 0.6048 - accuracy: 0.6716 - val_loss: 0.6315 - val_accuracy: 0.6613\n",
      "Epoch 9/15\n",
      "22/22 [==============================] - 3s 145ms/step - loss: 0.5932 - accuracy: 0.6834 - val_loss: 0.6264 - val_accuracy: 0.6774\n",
      "Epoch 10/15\n",
      "22/22 [==============================] - 3s 145ms/step - loss: 0.5762 - accuracy: 0.6834 - val_loss: 0.6491 - val_accuracy: 0.6452\n",
      "Epoch 11/15\n",
      "22/22 [==============================] - 3s 153ms/step - loss: 0.5606 - accuracy: 0.7041 - val_loss: 0.6573 - val_accuracy: 0.6452\n",
      "Epoch 12/15\n",
      "22/22 [==============================] - 3s 147ms/step - loss: 0.5531 - accuracy: 0.7189 - val_loss: 0.6465 - val_accuracy: 0.6613\n",
      "Epoch 13/15\n",
      "22/22 [==============================] - 3s 152ms/step - loss: 0.5813 - accuracy: 0.6953 - val_loss: 0.7028 - val_accuracy: 0.5645\n",
      "Epoch 14/15\n",
      "22/22 [==============================] - 3s 149ms/step - loss: 0.5439 - accuracy: 0.7189 - val_loss: 0.6136 - val_accuracy: 0.6935\n",
      "Epoch 15/15\n",
      "22/22 [==============================] - 3s 145ms/step - loss: 0.4906 - accuracy: 0.7456 - val_loss: 0.6530 - val_accuracy: 0.7258\n"
     ]
    }
   ],
   "source": [
    "history = model.fit(train_generator, epochs=15, validation_data=test_generator)"
   ],
   "metadata": {
    "collapsed": false,
    "ExecuteTime": {
     "end_time": "2023-12-25T12:16:03.031118200Z",
     "start_time": "2023-12-25T12:15:11.356061400Z"
    }
   },
   "id": "37027d60487b9982"
  },
  {
   "cell_type": "markdown",
   "source": [
    "### Plot training history"
   ],
   "metadata": {
    "collapsed": false
   },
   "id": "670f2499002d9a08"
  },
  {
   "cell_type": "code",
   "execution_count": 53,
   "outputs": [
    {
     "data": {
      "text/plain": "<Figure size 640x480 with 1 Axes>",
      "image/png": "[encoded data removed]"
     },
     "metadata": {},
     "output_type": "display_data"
    }
   ],
   "source": [
    "plt.plot(history.history['accuracy'], label='Training Accuracy')\n",
    "plt.plot(history.history['val_accuracy'], label='Validation Accuracy')\n",
    "plt.xlabel('Epoch')\n",
    "plt.ylabel('Accuracy')\n",
    "plt.legend()\n",
    "plt.show()"
   ],
   "metadata": {
    "collapsed": false,
    "ExecuteTime": {
     "end_time": "2023-12-25T12:16:03.170480700Z",
     "start_time": "2023-12-25T12:16:03.035127500Z"
    }
   },
   "id": "d03f7678a5bb2aa8"
  },
  {
   "cell_type": "markdown",
   "source": [
    "### Save the model"
   ],
   "metadata": {
    "collapsed": false
   },
   "id": "a5aee41ec7c87b0b"
  },
  {
   "cell_type": "code",
   "execution_count": 55,
   "outputs": [],
   "source": [
    "model.save('cat_dog_classifier.h5')"
   ],
   "metadata": {
    "collapsed": false,
    "ExecuteTime": {
     "end_time": "2023-12-25T12:16:25.606242500Z",
     "start_time": "2023-12-25T12:16:25.522736400Z"
    }
   },
   "id": "f4be34f86d3616a"
  },
  {
   "cell_type": "code",
   "execution_count": 54,
   "outputs": [],
   "source": [],
   "metadata": {
    "collapsed": false,
    "ExecuteTime": {
     "end_time": "2023-12-25T12:16:03.281877900Z",
     "start_time": "2023-12-25T12:16:03.265872800Z"
    }
   },
   "id": "48f70b395e560ee6"
  }
 ],
 "metadata": {
  "kernelspec": {
   "display_name": "Python 3",
   "language": "python",
   "name": "python3"
  },
  "language_info": {
   "codemirror_mode": {
    "name": "ipython",
    "version": 2
   },
   "file_extension": ".py",
   "mimetype": "text/x-python",
   "name": "python",
   "nbconvert_exporter": "python",
   "pygments_lexer": "ipython2",
   "version": "2.7.6"
  }
 },
 "nbformat": 4,
 "nbformat_minor": 5
}
