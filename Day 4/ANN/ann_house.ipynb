{
 "cells": [
  {
   "cell_type": "markdown",
   "source": [
    "# Importing Libraries"
   ],
   "metadata": {
    "collapsed": false
   },
   "id": "62696c588deeed96"
  },
  {
   "cell_type": "code",
   "execution_count": 106,
   "id": "initial_id",
   "metadata": {
    "collapsed": true,
    "ExecuteTime": {
     "end_time": "2023-12-02T13:52:04.534026600Z",
     "start_time": "2023-12-02T13:52:04.471008300Z"
    }
   },
   "outputs": [],
   "source": [
    "import numpy as np\n",
    "import pandas as pd\n",
    "import matplotlib.pyplot as plt\n",
    "\n",
    "from sklearn.model_selection import train_test_split\n",
    "from sklearn.preprocessing import MinMaxScaler"
   ]
  },
  {
   "cell_type": "markdown",
   "source": [
    "## Importing Data"
   ],
   "metadata": {
    "collapsed": false
   },
   "id": "8d04b251ddacaff6"
  },
  {
   "cell_type": "code",
   "execution_count": 107,
   "outputs": [],
   "source": [
    "df = pd.read_csv(\"kc_house_data.csv\")"
   ],
   "metadata": {
    "collapsed": false,
    "ExecuteTime": {
     "end_time": "2023-12-02T13:52:04.633119600Z",
     "start_time": "2023-12-02T13:52:04.480004900Z"
    }
   },
   "id": "9018d925aa94c87"
  },
  {
   "cell_type": "markdown",
   "source": [
    "### Describe Data"
   ],
   "metadata": {
    "collapsed": false
   },
   "id": "74d353c5dace79a8"
  },
  {
   "cell_type": "code",
   "execution_count": 108,
   "outputs": [
    {
     "data": {
      "text/plain": "array(['id', 'date', 'price', 'bedrooms', 'bathrooms', 'sqft_living',\n       'sqft_lot', 'floors', 'waterfront', 'view', 'condition', 'grade',\n       'sqft_above', 'sqft_basement', 'yr_built', 'yr_renovated',\n       'zipcode', 'lat', 'long', 'sqft_living15', 'sqft_lot15'],\n      dtype=object)"
     },
     "execution_count": 108,
     "metadata": {},
     "output_type": "execute_result"
    }
   ],
   "source": [
    "df.columns.values"
   ],
   "metadata": {
    "collapsed": false,
    "ExecuteTime": {
     "end_time": "2023-12-02T13:52:04.634124200Z",
     "start_time": "2023-12-02T13:52:04.544033400Z"
    }
   },
   "id": "6720ef382d7273fc"
  },
  {
   "cell_type": "code",
   "execution_count": 109,
   "outputs": [
    {
     "data": {
      "text/plain": "           id             date     price  bedrooms  bathrooms  sqft_living  \\\n0  7129300520  20141013T000000  221900.0         3       1.00         1180   \n1  6414100192  20141209T000000  538000.0         3       2.25         2570   \n2  5631500400  20150225T000000  180000.0         2       1.00          770   \n3  2487200875  20141209T000000  604000.0         4       3.00         1960   \n4  1954400510  20150218T000000  510000.0         3       2.00         1680   \n\n   sqft_lot  floors  waterfront  view  ...  grade  sqft_above  sqft_basement  \\\n0      5650     1.0           0     0  ...      7        1180              0   \n1      7242     2.0           0     0  ...      7        2170            400   \n2     10000     1.0           0     0  ...      6         770              0   \n3      5000     1.0           0     0  ...      7        1050            910   \n4      8080     1.0           0     0  ...      8        1680              0   \n\n   yr_built  yr_renovated  zipcode      lat     long  sqft_living15  \\\n0      1955             0    98178  47.5112 -122.257           1340   \n1      1951          1991    98125  47.7210 -122.319           1690   \n2      1933             0    98028  47.7379 -122.233           2720   \n3      1965             0    98136  47.5208 -122.393           1360   \n4      1987             0    98074  47.6168 -122.045           1800   \n\n   sqft_lot15  \n0        5650  \n1        7639  \n2        8062  \n3        5000  \n4        7503  \n\n[5 rows x 21 columns]",
      "text/html": "<div>\n<style scoped>\n    .dataframe tbody tr th:only-of-type {\n        vertical-align: middle;\n    }\n\n    .dataframe tbody tr th {\n        vertical-align: top;\n    }\n\n    .dataframe thead th {\n        text-align: right;\n    }\n</style>\n<table border=\"1\" class=\"dataframe\">\n  <thead>\n    <tr style=\"text-align: right;\">\n      <th></th>\n      <th>id</th>\n      <th>date</th>\n      <th>price</th>\n      <th>bedrooms</th>\n      <th>bathrooms</th>\n      <th>sqft_living</th>\n      <th>sqft_lot</th>\n      <th>floors</th>\n      <th>waterfront</th>\n      <th>view</th>\n      <th>...</th>\n      <th>grade</th>\n      <th>sqft_above</th>\n      <th>sqft_basement</th>\n      <th>yr_built</th>\n      <th>yr_renovated</th>\n      <th>zipcode</th>\n      <th>lat</th>\n      <th>long</th>\n      <th>sqft_living15</th>\n      <th>sqft_lot15</th>\n    </tr>\n  </thead>\n  <tbody>\n    <tr>\n      <th>0</th>\n      <td>7129300520</td>\n      <td>20141013T000000</td>\n      <td>221900.0</td>\n      <td>3</td>\n      <td>1.00</td>\n      <td>1180</td>\n      <td>5650</td>\n      <td>1.0</td>\n      <td>0</td>\n      <td>0</td>\n      <td>...</td>\n      <td>7</td>\n      <td>1180</td>\n      <td>0</td>\n      <td>1955</td>\n      <td>0</td>\n      <td>98178</td>\n      <td>47.5112</td>\n      <td>-122.257</td>\n      <td>1340</td>\n      <td>5650</td>\n    </tr>\n    <tr>\n      <th>1</th>\n      <td>6414100192</td>\n      <td>20141209T000000</td>\n      <td>538000.0</td>\n      <td>3</td>\n      <td>2.25</td>\n      <td>2570</td>\n      <td>7242</td>\n      <td>2.0</td>\n      <td>0</td>\n      <td>0</td>\n      <td>...</td>\n      <td>7</td>\n      <td>2170</td>\n      <td>400</td>\n      <td>1951</td>\n      <td>1991</td>\n      <td>98125</td>\n      <td>47.7210</td>\n      <td>-122.319</td>\n      <td>1690</td>\n      <td>7639</td>\n    </tr>\n    <tr>\n      <th>2</th>\n      <td>5631500400</td>\n      <td>20150225T000000</td>\n      <td>180000.0</td>\n      <td>2</td>\n      <td>1.00</td>\n      <td>770</td>\n      <td>10000</td>\n      <td>1.0</td>\n      <td>0</td>\n      <td>0</td>\n      <td>...</td>\n      <td>6</td>\n      <td>770</td>\n      <td>0</td>\n      <td>1933</td>\n      <td>0</td>\n      <td>98028</td>\n      <td>47.7379</td>\n      <td>-122.233</td>\n      <td>2720</td>\n      <td>8062</td>\n    </tr>\n    <tr>\n      <th>3</th>\n      <td>2487200875</td>\n      <td>20141209T000000</td>\n      <td>604000.0</td>\n      <td>4</td>\n      <td>3.00</td>\n      <td>1960</td>\n      <td>5000</td>\n      <td>1.0</td>\n      <td>0</td>\n      <td>0</td>\n      <td>...</td>\n      <td>7</td>\n      <td>1050</td>\n      <td>910</td>\n      <td>1965</td>\n      <td>0</td>\n      <td>98136</td>\n      <td>47.5208</td>\n      <td>-122.393</td>\n      <td>1360</td>\n      <td>5000</td>\n    </tr>\n    <tr>\n      <th>4</th>\n      <td>1954400510</td>\n      <td>20150218T000000</td>\n      <td>510000.0</td>\n      <td>3</td>\n      <td>2.00</td>\n      <td>1680</td>\n      <td>8080</td>\n      <td>1.0</td>\n      <td>0</td>\n      <td>0</td>\n      <td>...</td>\n      <td>8</td>\n      <td>1680</td>\n      <td>0</td>\n      <td>1987</td>\n      <td>0</td>\n      <td>98074</td>\n      <td>47.6168</td>\n      <td>-122.045</td>\n      <td>1800</td>\n      <td>7503</td>\n    </tr>\n  </tbody>\n</table>\n<p>5 rows × 21 columns</p>\n</div>"
     },
     "execution_count": 109,
     "metadata": {},
     "output_type": "execute_result"
    }
   ],
   "source": [
    "df.head()"
   ],
   "metadata": {
    "collapsed": false,
    "ExecuteTime": {
     "end_time": "2023-12-02T13:52:04.636136100Z",
     "start_time": "2023-12-02T13:52:04.567552100Z"
    }
   },
   "id": "662d94f0ed6161e7"
  },
  {
   "cell_type": "code",
   "execution_count": 110,
   "outputs": [
    {
     "data": {
      "text/plain": "                 id         price      bedrooms     bathrooms   sqft_living  \\\ncount  2.161300e+04  2.161300e+04  21613.000000  21613.000000  21613.000000   \nmean   4.580302e+09  5.400881e+05      3.370842      2.114757   2079.899736   \nstd    2.876566e+09  3.671272e+05      0.930062      0.770163    918.440897   \nmin    1.000102e+06  7.500000e+04      0.000000      0.000000    290.000000   \n25%    2.123049e+09  3.219500e+05      3.000000      1.750000   1427.000000   \n50%    3.904930e+09  4.500000e+05      3.000000      2.250000   1910.000000   \n75%    7.308900e+09  6.450000e+05      4.000000      2.500000   2550.000000   \nmax    9.900000e+09  7.700000e+06     33.000000      8.000000  13540.000000   \n\n           sqft_lot        floors    waterfront          view     condition  \\\ncount  2.161300e+04  21613.000000  21613.000000  21613.000000  21613.000000   \nmean   1.510697e+04      1.494309      0.007542      0.234303      3.409430   \nstd    4.142051e+04      0.539989      0.086517      0.766318      0.650743   \nmin    5.200000e+02      1.000000      0.000000      0.000000      1.000000   \n25%    5.040000e+03      1.000000      0.000000      0.000000      3.000000   \n50%    7.618000e+03      1.500000      0.000000      0.000000      3.000000   \n75%    1.068800e+04      2.000000      0.000000      0.000000      4.000000   \nmax    1.651359e+06      3.500000      1.000000      4.000000      5.000000   \n\n              grade    sqft_above  sqft_basement      yr_built  yr_renovated  \\\ncount  21613.000000  21613.000000   21613.000000  21613.000000  21613.000000   \nmean       7.656873   1788.390691     291.509045   1971.005136     84.402258   \nstd        1.175459    828.090978     442.575043     29.373411    401.679240   \nmin        1.000000    290.000000       0.000000   1900.000000      0.000000   \n25%        7.000000   1190.000000       0.000000   1951.000000      0.000000   \n50%        7.000000   1560.000000       0.000000   1975.000000      0.000000   \n75%        8.000000   2210.000000     560.000000   1997.000000      0.000000   \nmax       13.000000   9410.000000    4820.000000   2015.000000   2015.000000   \n\n            zipcode           lat          long  sqft_living15     sqft_lot15  \ncount  21613.000000  21613.000000  21613.000000   21613.000000   21613.000000  \nmean   98077.939805     47.560053   -122.213896    1986.552492   12768.455652  \nstd       53.505026      0.138564      0.140828     685.391304   27304.179631  \nmin    98001.000000     47.155900   -122.519000     399.000000     651.000000  \n25%    98033.000000     47.471000   -122.328000    1490.000000    5100.000000  \n50%    98065.000000     47.571800   -122.230000    1840.000000    7620.000000  \n75%    98118.000000     47.678000   -122.125000    2360.000000   10083.000000  \nmax    98199.000000     47.777600   -121.315000    6210.000000  871200.000000  ",
      "text/html": "<div>\n<style scoped>\n    .dataframe tbody tr th:only-of-type {\n        vertical-align: middle;\n    }\n\n    .dataframe tbody tr th {\n        vertical-align: top;\n    }\n\n    .dataframe thead th {\n        text-align: right;\n    }\n</style>\n<table border=\"1\" class=\"dataframe\">\n  <thead>\n    <tr style=\"text-align: right;\">\n      <th></th>\n      <th>id</th>\n      <th>price</th>\n      <th>bedrooms</th>\n      <th>bathrooms</th>\n      <th>sqft_living</th>\n      <th>sqft_lot</th>\n      <th>floors</th>\n      <th>waterfront</th>\n      <th>view</th>\n      <th>condition</th>\n      <th>grade</th>\n      <th>sqft_above</th>\n      <th>sqft_basement</th>\n      <th>yr_built</th>\n      <th>yr_renovated</th>\n      <th>zipcode</th>\n      <th>lat</th>\n      <th>long</th>\n      <th>sqft_living15</th>\n      <th>sqft_lot15</th>\n    </tr>\n  </thead>\n  <tbody>\n    <tr>\n      <th>count</th>\n      <td>2.161300e+04</td>\n      <td>2.161300e+04</td>\n      <td>21613.000000</td>\n      <td>21613.000000</td>\n      <td>21613.000000</td>\n      <td>2.161300e+04</td>\n      <td>21613.000000</td>\n      <td>21613.000000</td>\n      <td>21613.000000</td>\n      <td>21613.000000</td>\n      <td>21613.000000</td>\n      <td>21613.000000</td>\n      <td>21613.000000</td>\n      <td>21613.000000</td>\n      <td>21613.000000</td>\n      <td>21613.000000</td>\n      <td>21613.000000</td>\n      <td>21613.000000</td>\n      <td>21613.000000</td>\n      <td>21613.000000</td>\n    </tr>\n    <tr>\n      <th>mean</th>\n      <td>4.580302e+09</td>\n      <td>5.400881e+05</td>\n      <td>3.370842</td>\n      <td>2.114757</td>\n      <td>2079.899736</td>\n      <td>1.510697e+04</td>\n      <td>1.494309</td>\n      <td>0.007542</td>\n      <td>0.234303</td>\n      <td>3.409430</td>\n      <td>7.656873</td>\n      <td>1788.390691</td>\n      <td>291.509045</td>\n      <td>1971.005136</td>\n      <td>84.402258</td>\n      <td>98077.939805</td>\n      <td>47.560053</td>\n      <td>-122.213896</td>\n      <td>1986.552492</td>\n      <td>12768.455652</td>\n    </tr>\n    <tr>\n      <th>std</th>\n      <td>2.876566e+09</td>\n      <td>3.671272e+05</td>\n      <td>0.930062</td>\n      <td>0.770163</td>\n      <td>918.440897</td>\n      <td>4.142051e+04</td>\n      <td>0.539989</td>\n      <td>0.086517</td>\n      <td>0.766318</td>\n      <td>0.650743</td>\n      <td>1.175459</td>\n      <td>828.090978</td>\n      <td>442.575043</td>\n      <td>29.373411</td>\n      <td>401.679240</td>\n      <td>53.505026</td>\n      <td>0.138564</td>\n      <td>0.140828</td>\n      <td>685.391304</td>\n      <td>27304.179631</td>\n    </tr>\n    <tr>\n      <th>min</th>\n      <td>1.000102e+06</td>\n      <td>7.500000e+04</td>\n      <td>0.000000</td>\n      <td>0.000000</td>\n      <td>290.000000</td>\n      <td>5.200000e+02</td>\n      <td>1.000000</td>\n      <td>0.000000</td>\n      <td>0.000000</td>\n      <td>1.000000</td>\n      <td>1.000000</td>\n      <td>290.000000</td>\n      <td>0.000000</td>\n      <td>1900.000000</td>\n      <td>0.000000</td>\n      <td>98001.000000</td>\n      <td>47.155900</td>\n      <td>-122.519000</td>\n      <td>399.000000</td>\n      <td>651.000000</td>\n    </tr>\n    <tr>\n      <th>25%</th>\n      <td>2.123049e+09</td>\n      <td>3.219500e+05</td>\n      <td>3.000000</td>\n      <td>1.750000</td>\n      <td>1427.000000</td>\n      <td>5.040000e+03</td>\n      <td>1.000000</td>\n      <td>0.000000</td>\n      <td>0.000000</td>\n      <td>3.000000</td>\n      <td>7.000000</td>\n      <td>1190.000000</td>\n      <td>0.000000</td>\n      <td>1951.000000</td>\n      <td>0.000000</td>\n      <td>98033.000000</td>\n      <td>47.471000</td>\n      <td>-122.328000</td>\n      <td>1490.000000</td>\n      <td>5100.000000</td>\n    </tr>\n    <tr>\n      <th>50%</th>\n      <td>3.904930e+09</td>\n      <td>4.500000e+05</td>\n      <td>3.000000</td>\n      <td>2.250000</td>\n      <td>1910.000000</td>\n      <td>7.618000e+03</td>\n      <td>1.500000</td>\n      <td>0.000000</td>\n      <td>0.000000</td>\n      <td>3.000000</td>\n      <td>7.000000</td>\n      <td>1560.000000</td>\n      <td>0.000000</td>\n      <td>1975.000000</td>\n      <td>0.000000</td>\n      <td>98065.000000</td>\n      <td>47.571800</td>\n      <td>-122.230000</td>\n      <td>1840.000000</td>\n      <td>7620.000000</td>\n    </tr>\n    <tr>\n      <th>75%</th>\n      <td>7.308900e+09</td>\n      <td>6.450000e+05</td>\n      <td>4.000000</td>\n      <td>2.500000</td>\n      <td>2550.000000</td>\n      <td>1.068800e+04</td>\n      <td>2.000000</td>\n      <td>0.000000</td>\n      <td>0.000000</td>\n      <td>4.000000</td>\n      <td>8.000000</td>\n      <td>2210.000000</td>\n      <td>560.000000</td>\n      <td>1997.000000</td>\n      <td>0.000000</td>\n      <td>98118.000000</td>\n      <td>47.678000</td>\n      <td>-122.125000</td>\n      <td>2360.000000</td>\n      <td>10083.000000</td>\n    </tr>\n    <tr>\n      <th>max</th>\n      <td>9.900000e+09</td>\n      <td>7.700000e+06</td>\n      <td>33.000000</td>\n      <td>8.000000</td>\n      <td>13540.000000</td>\n      <td>1.651359e+06</td>\n      <td>3.500000</td>\n      <td>1.000000</td>\n      <td>4.000000</td>\n      <td>5.000000</td>\n      <td>13.000000</td>\n      <td>9410.000000</td>\n      <td>4820.000000</td>\n      <td>2015.000000</td>\n      <td>2015.000000</td>\n      <td>98199.000000</td>\n      <td>47.777600</td>\n      <td>-121.315000</td>\n      <td>6210.000000</td>\n      <td>871200.000000</td>\n    </tr>\n  </tbody>\n</table>\n</div>"
     },
     "execution_count": 110,
     "metadata": {},
     "output_type": "execute_result"
    }
   ],
   "source": [
    "df.describe()"
   ],
   "metadata": {
    "collapsed": false,
    "ExecuteTime": {
     "end_time": "2023-12-02T13:52:04.661646500Z",
     "start_time": "2023-12-02T13:52:04.586603Z"
    }
   },
   "id": "7b6929d1ea657aa6"
  },
  {
   "cell_type": "code",
   "execution_count": 111,
   "outputs": [
    {
     "name": "stdout",
     "output_type": "stream",
     "text": [
      "<class 'pandas.core.frame.DataFrame'>\n",
      "RangeIndex: 21613 entries, 0 to 21612\n",
      "Data columns (total 21 columns):\n",
      " #   Column         Non-Null Count  Dtype  \n",
      "---  ------         --------------  -----  \n",
      " 0   id             21613 non-null  int64  \n",
      " 1   date           21613 non-null  object \n",
      " 2   price          21613 non-null  float64\n",
      " 3   bedrooms       21613 non-null  int64  \n",
      " 4   bathrooms      21613 non-null  float64\n",
      " 5   sqft_living    21613 non-null  int64  \n",
      " 6   sqft_lot       21613 non-null  int64  \n",
      " 7   floors         21613 non-null  float64\n",
      " 8   waterfront     21613 non-null  int64  \n",
      " 9   view           21613 non-null  int64  \n",
      " 10  condition      21613 non-null  int64  \n",
      " 11  grade          21613 non-null  int64  \n",
      " 12  sqft_above     21613 non-null  int64  \n",
      " 13  sqft_basement  21613 non-null  int64  \n",
      " 14  yr_built       21613 non-null  int64  \n",
      " 15  yr_renovated   21613 non-null  int64  \n",
      " 16  zipcode        21613 non-null  int64  \n",
      " 17  lat            21613 non-null  float64\n",
      " 18  long           21613 non-null  float64\n",
      " 19  sqft_living15  21613 non-null  int64  \n",
      " 20  sqft_lot15     21613 non-null  int64  \n",
      "dtypes: float64(5), int64(15), object(1)\n",
      "memory usage: 3.5+ MB\n"
     ]
    }
   ],
   "source": [
    "df.info()"
   ],
   "metadata": {
    "collapsed": false,
    "ExecuteTime": {
     "end_time": "2023-12-02T13:52:04.719003300Z",
     "start_time": "2023-12-02T13:52:04.652646300Z"
    }
   },
   "id": "79ad96959f63d255"
  },
  {
   "cell_type": "markdown",
   "source": [
    "## Checking for null values"
   ],
   "metadata": {
    "collapsed": false
   },
   "id": "6cb75e64aa58904b"
  },
  {
   "cell_type": "code",
   "execution_count": 112,
   "outputs": [
    {
     "data": {
      "text/plain": "id               0\ndate             0\nprice            0\nbedrooms         0\nbathrooms        0\nsqft_living      0\nsqft_lot         0\nfloors           0\nwaterfront       0\nview             0\ncondition        0\ngrade            0\nsqft_above       0\nsqft_basement    0\nyr_built         0\nyr_renovated     0\nzipcode          0\nlat              0\nlong             0\nsqft_living15    0\nsqft_lot15       0\ndtype: int64"
     },
     "execution_count": 112,
     "metadata": {},
     "output_type": "execute_result"
    }
   ],
   "source": [
    "df.isnull().sum()"
   ],
   "metadata": {
    "collapsed": false,
    "ExecuteTime": {
     "end_time": "2023-12-02T13:52:04.816242600Z",
     "start_time": "2023-12-02T13:52:04.683423300Z"
    }
   },
   "id": "c72a33fa8fc30fca"
  },
  {
   "cell_type": "markdown",
   "source": [
    "## Checking for duplicates"
   ],
   "metadata": {
    "collapsed": false
   },
   "id": "14e134485b72f4b0"
  },
  {
   "cell_type": "code",
   "execution_count": 113,
   "outputs": [
    {
     "data": {
      "text/plain": "0"
     },
     "execution_count": 113,
     "metadata": {},
     "output_type": "execute_result"
    }
   ],
   "source": [
    "df.duplicated().sum()"
   ],
   "metadata": {
    "collapsed": false,
    "ExecuteTime": {
     "end_time": "2023-12-02T13:52:04.837249400Z",
     "start_time": "2023-12-02T13:52:04.699427600Z"
    }
   },
   "id": "77715c3030ededef"
  },
  {
   "cell_type": "markdown",
   "source": [
    "## Dropping unnecessary features"
   ],
   "metadata": {
    "collapsed": false
   },
   "id": "ce8846462173a35a"
  },
  {
   "cell_type": "code",
   "execution_count": 114,
   "outputs": [],
   "source": [
    "df = df.drop(['id', 'zipcode'], axis=1)\n",
    "# df = df.drop('zipcode',axis=1)"
   ],
   "metadata": {
    "collapsed": false,
    "ExecuteTime": {
     "end_time": "2023-12-02T13:52:04.914771200Z",
     "start_time": "2023-12-02T13:52:04.731004900Z"
    }
   },
   "id": "98b90eeecce0c1cb"
  },
  {
   "cell_type": "code",
   "execution_count": 115,
   "outputs": [],
   "source": [
    "df_date = df.drop('date', axis = 1)"
   ],
   "metadata": {
    "collapsed": false,
    "ExecuteTime": {
     "end_time": "2023-12-02T13:52:04.942760500Z",
     "start_time": "2023-12-02T13:52:04.748319500Z"
    }
   },
   "id": "dd79f5343d40a0fd"
  },
  {
   "cell_type": "markdown",
   "source": [
    "## Correlation of features"
   ],
   "metadata": {
    "collapsed": false
   },
   "id": "4176aa9c189367d1"
  },
  {
   "cell_type": "code",
   "execution_count": 116,
   "outputs": [
    {
     "name": "stdout",
     "output_type": "stream",
     "text": [
      "price            1.000000\n",
      "sqft_living      0.702035\n",
      "grade            0.667434\n",
      "sqft_above       0.605567\n",
      "sqft_living15    0.585379\n",
      "bathrooms        0.525138\n",
      "view             0.397293\n",
      "sqft_basement    0.323816\n",
      "bedrooms         0.308350\n",
      "lat              0.307003\n",
      "waterfront       0.266369\n",
      "floors           0.256794\n",
      "yr_renovated     0.126434\n",
      "sqft_lot         0.089661\n",
      "sqft_lot15       0.082447\n",
      "yr_built         0.054012\n",
      "condition        0.036362\n",
      "long             0.021626\n",
      "Name: price, dtype: float64\n"
     ]
    }
   ],
   "source": [
    "price_corr = df_date.corr()['price'].sort_values(ascending=False)\n",
    "print(price_corr)"
   ],
   "metadata": {
    "collapsed": false,
    "ExecuteTime": {
     "end_time": "2023-12-02T13:52:04.968904800Z",
     "start_time": "2023-12-02T13:52:04.764245400Z"
    }
   },
   "id": "2b55f5db87c4a097"
  },
  {
   "cell_type": "markdown",
   "source": [
    "## Feature Engineering"
   ],
   "metadata": {
    "collapsed": false
   },
   "id": "2239c87fb8389e51"
  },
  {
   "cell_type": "code",
   "execution_count": 117,
   "outputs": [
    {
     "name": "stdout",
     "output_type": "stream",
     "text": [
      "['price' 'bedrooms' 'bathrooms' 'sqft_living' 'sqft_lot' 'floors'\n",
      " 'waterfront' 'view' 'condition' 'grade' 'sqft_above' 'sqft_basement'\n",
      " 'yr_built' 'yr_renovated' 'lat' 'long' 'sqft_living15' 'sqft_lot15'\n",
      " 'month' 'year']\n"
     ]
    }
   ],
   "source": [
    "df['date'] = pd.to_datetime(df['date'])\n",
    "\n",
    "df['month'] = df['date'].apply(lambda date:date.month)\n",
    "df['year'] = df['date'].apply(lambda date:date.year)\n",
    "\n",
    "df = df.drop('date',axis=1)\n",
    "\n",
    "# Check the new columns\n",
    "print(df.columns.values)"
   ],
   "metadata": {
    "collapsed": false,
    "ExecuteTime": {
     "end_time": "2023-12-02T13:52:05.264895200Z",
     "start_time": "2023-12-02T13:52:04.794246100Z"
    }
   },
   "id": "9a5d43888a9d2c8d"
  },
  {
   "cell_type": "markdown",
   "source": [
    "## Train Test split"
   ],
   "metadata": {
    "collapsed": false
   },
   "id": "4c9985223ce6affa"
  },
  {
   "cell_type": "code",
   "execution_count": 119,
   "outputs": [],
   "source": [
    "x = df.drop('price', axis =1)\n",
    "y = df['price']\n",
    "\n",
    "x_train, x_test, y_train, y_test = train_test_split(x, y, test_size= 0.3, random_state = 42)"
   ],
   "metadata": {
    "collapsed": false,
    "ExecuteTime": {
     "end_time": "2023-12-02T14:00:26.064791300Z",
     "start_time": "2023-12-02T14:00:26.031790800Z"
    }
   },
   "id": "95134bf24e571aeb"
  },
  {
   "cell_type": "code",
   "execution_count": 123,
   "outputs": [
    {
     "name": "stdout",
     "output_type": "stream",
     "text": [
      "(15129, 19)\n",
      "(6484, 19)\n",
      "(15129,)\n",
      "(6484,)\n"
     ]
    }
   ],
   "source": [
    "print(x_train.shape)\n",
    "print(x_test.shape)\n",
    "print(y_train.shape)\n",
    "print(y_test.shape)"
   ],
   "metadata": {
    "collapsed": false,
    "ExecuteTime": {
     "end_time": "2023-12-02T14:01:34.982613100Z",
     "start_time": "2023-12-02T14:01:34.966598700Z"
    }
   },
   "id": "cf18f1f50b049fad"
  },
  {
   "cell_type": "markdown",
   "source": [
    "## Scaling the data"
   ],
   "metadata": {
    "collapsed": false
   },
   "id": "f7dfeb3d78b3b604"
  },
  {
   "cell_type": "code",
   "execution_count": 124,
   "outputs": [],
   "source": [
    "scaler = MinMaxScaler()\n",
    "\n",
    "x_train = scaler.fit_transform(x_train)\n",
    "x_test = scaler.transform(x_test)"
   ],
   "metadata": {
    "collapsed": false,
    "ExecuteTime": {
     "end_time": "2023-12-02T14:02:25.338154100Z",
     "start_time": "2023-12-02T14:02:25.314154600Z"
    }
   },
   "id": "82e732df056a3abb"
  },
  {
   "cell_type": "code",
   "execution_count": 130,
   "outputs": [
    {
     "name": "stdout",
     "output_type": "stream",
     "text": [
      "1.0\n"
     ]
    }
   ],
   "source": [
    "print(x_train.max())"
   ],
   "metadata": {
    "collapsed": false,
    "ExecuteTime": {
     "end_time": "2023-12-02T14:03:13.072604200Z",
     "start_time": "2023-12-02T14:03:13.056574100Z"
    }
   },
   "id": "4227d52abe05a227"
  },
  {
   "cell_type": "markdown",
   "source": [
    "## Creating the model"
   ],
   "metadata": {
    "collapsed": false
   },
   "id": "d35903284904bf18"
  },
  {
   "cell_type": "code",
   "execution_count": 136,
   "outputs": [],
   "source": [
    "from tensorflow.keras.models import Sequential\n",
    "from tensorflow.keras.layers import Dense, Activation\n",
    "from tensorflow.keras.optimizers import Adam"
   ],
   "metadata": {
    "collapsed": false,
    "ExecuteTime": {
     "end_time": "2023-12-02T14:09:22.227548900Z",
     "start_time": "2023-12-02T14:09:22.212520Z"
    }
   },
   "id": "cb913c5289d0c622"
  },
  {
   "cell_type": "code",
   "execution_count": 137,
   "outputs": [],
   "source": [
    "model = Sequential()\n",
    "\n",
    "# input layer\n",
    "model.add(Dense(19,activation='relu'))\n",
    "\n",
    "# hidden layers\n",
    "model.add(Dense(19,activation='relu'))\n",
    "model.add(Dense(19,activation='relu'))\n",
    "model.add(Dense(19,activation='relu'))\n",
    "\n",
    "# output layer\n",
    "model.add(Dense(1))\n",
    "\n",
    "model.compile(optimizer='adam',loss='mse')"
   ],
   "metadata": {
    "collapsed": false,
    "ExecuteTime": {
     "end_time": "2023-12-02T14:09:23.373306700Z",
     "start_time": "2023-12-02T14:09:23.226145500Z"
    }
   },
   "id": "6e363c63a6532eea"
  },
  {
   "cell_type": "markdown",
   "source": [
    "## Training the model"
   ],
   "metadata": {
    "collapsed": false
   },
   "id": "91d297e15e7c7cee"
  },
  {
   "cell_type": "markdown",
   "source": [
    "Smaller the batch size, longer it takes"
   ],
   "metadata": {
    "collapsed": false
   },
   "id": "9a2a8741dc15ea66"
  },
  {
   "cell_type": "code",
   "execution_count": 148,
   "outputs": [
    {
     "name": "stdout",
     "output_type": "stream",
     "text": [
      "Epoch 1/400\n",
      "15/15 [==============================] - 0s 8ms/step - loss: 24044673024.0000 - val_loss: 29546555392.0000\n",
      "Epoch 2/400\n",
      "15/15 [==============================] - 0s 4ms/step - loss: 24046379008.0000 - val_loss: 29514303488.0000\n",
      "Epoch 3/400\n",
      "15/15 [==============================] - 0s 5ms/step - loss: 24068952064.0000 - val_loss: 29537837056.0000\n",
      "Epoch 4/400\n",
      "15/15 [==============================] - 0s 5ms/step - loss: 24052596736.0000 - val_loss: 29519499264.0000\n",
      "Epoch 5/400\n",
      "15/15 [==============================] - 0s 5ms/step - loss: 24040445952.0000 - val_loss: 29542260736.0000\n",
      "Epoch 6/400\n",
      "15/15 [==============================] - 0s 4ms/step - loss: 24038535168.0000 - val_loss: 29522792448.0000\n",
      "Epoch 7/400\n",
      "15/15 [==============================] - 0s 5ms/step - loss: 24048232448.0000 - val_loss: 29537662976.0000\n",
      "Epoch 8/400\n",
      "15/15 [==============================] - 0s 5ms/step - loss: 24091557888.0000 - val_loss: 29550028800.0000\n",
      "Epoch 9/400\n",
      "15/15 [==============================] - 0s 5ms/step - loss: 24047190016.0000 - val_loss: 29565591552.0000\n",
      "Epoch 10/400\n",
      "15/15 [==============================] - 0s 6ms/step - loss: 24063610880.0000 - val_loss: 29510502400.0000\n",
      "Epoch 11/400\n",
      "15/15 [==============================] - 0s 6ms/step - loss: 24046229504.0000 - val_loss: 29551704064.0000\n",
      "Epoch 12/400\n",
      "15/15 [==============================] - 0s 5ms/step - loss: 24034863104.0000 - val_loss: 29538574336.0000\n",
      "Epoch 13/400\n",
      "15/15 [==============================] - 0s 6ms/step - loss: 24031373312.0000 - val_loss: 29540274176.0000\n",
      "Epoch 14/400\n",
      "15/15 [==============================] - 0s 6ms/step - loss: 24045344768.0000 - val_loss: 29566494720.0000\n",
      "Epoch 15/400\n",
      "15/15 [==============================] - 0s 6ms/step - loss: 24047380480.0000 - val_loss: 29537112064.0000\n",
      "Epoch 16/400\n",
      "15/15 [==============================] - 0s 5ms/step - loss: 24030005248.0000 - val_loss: 29535123456.0000\n",
      "Epoch 17/400\n",
      "15/15 [==============================] - 0s 5ms/step - loss: 24030826496.0000 - val_loss: 29544300544.0000\n",
      "Epoch 18/400\n",
      "15/15 [==============================] - 0s 5ms/step - loss: 24033994752.0000 - val_loss: 29555503104.0000\n",
      "Epoch 19/400\n",
      "15/15 [==============================] - 0s 5ms/step - loss: 24032268288.0000 - val_loss: 29528748032.0000\n",
      "Epoch 20/400\n",
      "15/15 [==============================] - 0s 5ms/step - loss: 24043937792.0000 - val_loss: 29549074432.0000\n",
      "Epoch 21/400\n",
      "15/15 [==============================] - 0s 5ms/step - loss: 24044734464.0000 - val_loss: 29525975040.0000\n",
      "Epoch 22/400\n",
      "15/15 [==============================] - 0s 5ms/step - loss: 24044650496.0000 - val_loss: 29575784448.0000\n",
      "Epoch 23/400\n",
      "15/15 [==============================] - 0s 5ms/step - loss: 24036417536.0000 - val_loss: 29546809344.0000\n",
      "Epoch 24/400\n",
      "15/15 [==============================] - 0s 5ms/step - loss: 24027682816.0000 - val_loss: 29541388288.0000\n",
      "Epoch 25/400\n",
      "15/15 [==============================] - 0s 5ms/step - loss: 24023476224.0000 - val_loss: 29535393792.0000\n",
      "Epoch 26/400\n",
      "15/15 [==============================] - 0s 5ms/step - loss: 24026224640.0000 - val_loss: 29532774400.0000\n",
      "Epoch 27/400\n",
      "15/15 [==============================] - 0s 5ms/step - loss: 24034244608.0000 - val_loss: 29575215104.0000\n",
      "Epoch 28/400\n",
      "15/15 [==============================] - 0s 4ms/step - loss: 24037881856.0000 - val_loss: 29545721856.0000\n",
      "Epoch 29/400\n",
      "15/15 [==============================] - 0s 5ms/step - loss: 24019087360.0000 - val_loss: 29536563200.0000\n",
      "Epoch 30/400\n",
      "15/15 [==============================] - 0s 5ms/step - loss: 24023930880.0000 - val_loss: 29554077696.0000\n",
      "Epoch 31/400\n",
      "15/15 [==============================] - 0s 5ms/step - loss: 24026146816.0000 - val_loss: 29552365568.0000\n",
      "Epoch 32/400\n",
      "15/15 [==============================] - 0s 5ms/step - loss: 24019499008.0000 - val_loss: 29551257600.0000\n",
      "Epoch 33/400\n",
      "15/15 [==============================] - 0s 5ms/step - loss: 24047869952.0000 - val_loss: 29558155264.0000\n",
      "Epoch 34/400\n",
      "15/15 [==============================] - 0s 5ms/step - loss: 24003727360.0000 - val_loss: 29534197760.0000\n",
      "Epoch 35/400\n",
      "15/15 [==============================] - 0s 5ms/step - loss: 24026152960.0000 - val_loss: 29540513792.0000\n",
      "Epoch 36/400\n",
      "15/15 [==============================] - 0s 5ms/step - loss: 24025497600.0000 - val_loss: 29530628096.0000\n",
      "Epoch 37/400\n",
      "15/15 [==============================] - 0s 5ms/step - loss: 24022773760.0000 - val_loss: 29542928384.0000\n",
      "Epoch 38/400\n",
      "15/15 [==============================] - 0s 4ms/step - loss: 24024090624.0000 - val_loss: 29557792768.0000\n",
      "Epoch 39/400\n",
      "15/15 [==============================] - 0s 5ms/step - loss: 24041517056.0000 - val_loss: 29556217856.0000\n",
      "Epoch 40/400\n",
      "15/15 [==============================] - 0s 5ms/step - loss: 24010090496.0000 - val_loss: 29534296064.0000\n",
      "Epoch 41/400\n",
      "15/15 [==============================] - 0s 5ms/step - loss: 24014620672.0000 - val_loss: 29540780032.0000\n",
      "Epoch 42/400\n",
      "15/15 [==============================] - 0s 4ms/step - loss: 24008083456.0000 - val_loss: 29552115712.0000\n",
      "Epoch 43/400\n",
      "15/15 [==============================] - 0s 4ms/step - loss: 24013105152.0000 - val_loss: 29539551232.0000\n",
      "Epoch 44/400\n",
      "15/15 [==============================] - 0s 5ms/step - loss: 24011958272.0000 - val_loss: 29535131648.0000\n",
      "Epoch 45/400\n",
      "15/15 [==============================] - 0s 5ms/step - loss: 24005957632.0000 - val_loss: 29545365504.0000\n",
      "Epoch 46/400\n",
      "15/15 [==============================] - 0s 5ms/step - loss: 24017272832.0000 - val_loss: 29563582464.0000\n",
      "Epoch 47/400\n",
      "15/15 [==============================] - 0s 5ms/step - loss: 24004470784.0000 - val_loss: 29555177472.0000\n",
      "Epoch 48/400\n",
      "15/15 [==============================] - 0s 5ms/step - loss: 24016367616.0000 - val_loss: 29531678720.0000\n",
      "Epoch 49/400\n",
      "15/15 [==============================] - 0s 5ms/step - loss: 24009668608.0000 - val_loss: 29532712960.0000\n",
      "Epoch 50/400\n",
      "15/15 [==============================] - 0s 5ms/step - loss: 24009578496.0000 - val_loss: 29576396800.0000\n",
      "Epoch 51/400\n",
      "15/15 [==============================] - 0s 5ms/step - loss: 24032272384.0000 - val_loss: 29562081280.0000\n",
      "Epoch 52/400\n",
      "15/15 [==============================] - 0s 5ms/step - loss: 24003141632.0000 - val_loss: 29544452096.0000\n",
      "Epoch 53/400\n",
      "15/15 [==============================] - 0s 5ms/step - loss: 24008906752.0000 - val_loss: 29544097792.0000\n",
      "Epoch 54/400\n",
      "15/15 [==============================] - 0s 5ms/step - loss: 24013737984.0000 - val_loss: 29529923584.0000\n",
      "Epoch 55/400\n",
      "15/15 [==============================] - 0s 5ms/step - loss: 24004046848.0000 - val_loss: 29556453376.0000\n",
      "Epoch 56/400\n",
      "15/15 [==============================] - 0s 5ms/step - loss: 24000561152.0000 - val_loss: 29539719168.0000\n",
      "Epoch 57/400\n",
      "15/15 [==============================] - 0s 5ms/step - loss: 24001642496.0000 - val_loss: 29550776320.0000\n",
      "Epoch 58/400\n",
      "15/15 [==============================] - 0s 4ms/step - loss: 24000638976.0000 - val_loss: 29564164096.0000\n",
      "Epoch 59/400\n",
      "15/15 [==============================] - 0s 4ms/step - loss: 23997472768.0000 - val_loss: 29555716096.0000\n",
      "Epoch 60/400\n",
      "15/15 [==============================] - 0s 4ms/step - loss: 24026767360.0000 - val_loss: 29564712960.0000\n",
      "Epoch 61/400\n",
      "15/15 [==============================] - 0s 4ms/step - loss: 24017170432.0000 - val_loss: 29548034048.0000\n",
      "Epoch 62/400\n",
      "15/15 [==============================] - 0s 4ms/step - loss: 23998193664.0000 - val_loss: 29544046592.0000\n",
      "Epoch 63/400\n",
      "15/15 [==============================] - 0s 5ms/step - loss: 24017442816.0000 - val_loss: 29528604672.0000\n",
      "Epoch 64/400\n",
      "15/15 [==============================] - 0s 5ms/step - loss: 24006316032.0000 - val_loss: 29565032448.0000\n",
      "Epoch 65/400\n",
      "15/15 [==============================] - 0s 5ms/step - loss: 23998507008.0000 - val_loss: 29529374720.0000\n",
      "Epoch 66/400\n",
      "15/15 [==============================] - 0s 5ms/step - loss: 23995209728.0000 - val_loss: 29552318464.0000\n",
      "Epoch 67/400\n",
      "15/15 [==============================] - 0s 5ms/step - loss: 24002859008.0000 - val_loss: 29565020160.0000\n",
      "Epoch 68/400\n",
      "15/15 [==============================] - 0s 5ms/step - loss: 23995959296.0000 - val_loss: 29555941376.0000\n",
      "Epoch 69/400\n",
      "15/15 [==============================] - 0s 5ms/step - loss: 23989114880.0000 - val_loss: 29556178944.0000\n",
      "Epoch 70/400\n",
      "15/15 [==============================] - 0s 5ms/step - loss: 24028762112.0000 - val_loss: 29519136768.0000\n",
      "Epoch 71/400\n",
      "15/15 [==============================] - 0s 5ms/step - loss: 24000403456.0000 - val_loss: 29572304896.0000\n",
      "Epoch 72/400\n",
      "15/15 [==============================] - 0s 4ms/step - loss: 23996598272.0000 - val_loss: 29560424448.0000\n",
      "Epoch 73/400\n",
      "15/15 [==============================] - 0s 4ms/step - loss: 23990888448.0000 - val_loss: 29549234176.0000\n",
      "Epoch 74/400\n",
      "15/15 [==============================] - 0s 5ms/step - loss: 24011468800.0000 - val_loss: 29549510656.0000\n",
      "Epoch 75/400\n",
      "15/15 [==============================] - 0s 5ms/step - loss: 23987111936.0000 - val_loss: 29549174784.0000\n",
      "Epoch 76/400\n",
      "15/15 [==============================] - 0s 5ms/step - loss: 24005732352.0000 - val_loss: 29575370752.0000\n",
      "Epoch 77/400\n",
      "15/15 [==============================] - 0s 5ms/step - loss: 23985778688.0000 - val_loss: 29564221440.0000\n",
      "Epoch 78/400\n",
      "15/15 [==============================] - 0s 4ms/step - loss: 24000983040.0000 - val_loss: 29552361472.0000\n",
      "Epoch 79/400\n",
      "15/15 [==============================] - 0s 5ms/step - loss: 24002056192.0000 - val_loss: 29528375296.0000\n",
      "Epoch 80/400\n",
      "15/15 [==============================] - 0s 4ms/step - loss: 23983843328.0000 - val_loss: 29551339520.0000\n",
      "Epoch 81/400\n",
      "15/15 [==============================] - 0s 4ms/step - loss: 24012689408.0000 - val_loss: 29575921664.0000\n",
      "Epoch 82/400\n",
      "15/15 [==============================] - 0s 4ms/step - loss: 24001542144.0000 - val_loss: 29531203584.0000\n",
      "Epoch 83/400\n",
      "15/15 [==============================] - 0s 5ms/step - loss: 23982120960.0000 - val_loss: 29521170432.0000\n",
      "Epoch 84/400\n",
      "15/15 [==============================] - 0s 5ms/step - loss: 23988609024.0000 - val_loss: 29542897664.0000\n",
      "Epoch 85/400\n",
      "15/15 [==============================] - 0s 4ms/step - loss: 23981467648.0000 - val_loss: 29538832384.0000\n",
      "Epoch 86/400\n",
      "15/15 [==============================] - 0s 4ms/step - loss: 23979216896.0000 - val_loss: 29542111232.0000\n",
      "Epoch 87/400\n",
      "15/15 [==============================] - 0s 5ms/step - loss: 23990743040.0000 - val_loss: 29581355008.0000\n",
      "Epoch 88/400\n",
      "15/15 [==============================] - 0s 5ms/step - loss: 23978188800.0000 - val_loss: 29568212992.0000\n",
      "Epoch 89/400\n",
      "15/15 [==============================] - 0s 5ms/step - loss: 23973066752.0000 - val_loss: 29550370816.0000\n",
      "Epoch 90/400\n",
      "15/15 [==============================] - 0s 5ms/step - loss: 23977474048.0000 - val_loss: 29538246656.0000\n",
      "Epoch 91/400\n",
      "15/15 [==============================] - 0s 5ms/step - loss: 23992262656.0000 - val_loss: 29553836032.0000\n",
      "Epoch 92/400\n",
      "15/15 [==============================] - 0s 5ms/step - loss: 23992010752.0000 - val_loss: 29542129664.0000\n",
      "Epoch 93/400\n",
      "15/15 [==============================] - 0s 5ms/step - loss: 23993397248.0000 - val_loss: 29552297984.0000\n",
      "Epoch 94/400\n",
      "15/15 [==============================] - 0s 4ms/step - loss: 23982858240.0000 - val_loss: 29548480512.0000\n",
      "Epoch 95/400\n",
      "15/15 [==============================] - 0s 5ms/step - loss: 23986823168.0000 - val_loss: 29557620736.0000\n",
      "Epoch 96/400\n",
      "15/15 [==============================] - 0s 4ms/step - loss: 23970707456.0000 - val_loss: 29535571968.0000\n",
      "Epoch 97/400\n",
      "15/15 [==============================] - 0s 4ms/step - loss: 23972837376.0000 - val_loss: 29532995584.0000\n",
      "Epoch 98/400\n",
      "15/15 [==============================] - 0s 4ms/step - loss: 23975983104.0000 - val_loss: 29563754496.0000\n",
      "Epoch 99/400\n",
      "15/15 [==============================] - 0s 5ms/step - loss: 23973431296.0000 - val_loss: 29554479104.0000\n",
      "Epoch 100/400\n",
      "15/15 [==============================] - 0s 5ms/step - loss: 23982520320.0000 - val_loss: 29570603008.0000\n",
      "Epoch 101/400\n",
      "15/15 [==============================] - 0s 4ms/step - loss: 23988215808.0000 - val_loss: 29536086016.0000\n",
      "Epoch 102/400\n",
      "15/15 [==============================] - 0s 5ms/step - loss: 23996366848.0000 - val_loss: 29581010944.0000\n",
      "Epoch 103/400\n",
      "15/15 [==============================] - 0s 5ms/step - loss: 23976796160.0000 - val_loss: 29536059392.0000\n",
      "Epoch 104/400\n",
      "15/15 [==============================] - 0s 4ms/step - loss: 23973982208.0000 - val_loss: 29544402944.0000\n",
      "Epoch 105/400\n",
      "15/15 [==============================] - 0s 4ms/step - loss: 23970267136.0000 - val_loss: 29558841344.0000\n",
      "Epoch 106/400\n",
      "15/15 [==============================] - 0s 5ms/step - loss: 23973029888.0000 - val_loss: 29557960704.0000\n",
      "Epoch 107/400\n",
      "15/15 [==============================] - 0s 5ms/step - loss: 23961008128.0000 - val_loss: 29542264832.0000\n",
      "Epoch 108/400\n",
      "15/15 [==============================] - 0s 5ms/step - loss: 23983890432.0000 - val_loss: 29551169536.0000\n",
      "Epoch 109/400\n",
      "15/15 [==============================] - 0s 5ms/step - loss: 23988252672.0000 - val_loss: 29536536576.0000\n",
      "Epoch 110/400\n",
      "15/15 [==============================] - 0s 4ms/step - loss: 23966748672.0000 - val_loss: 29546829824.0000\n",
      "Epoch 111/400\n",
      "15/15 [==============================] - 0s 5ms/step - loss: 23972950016.0000 - val_loss: 29560776704.0000\n",
      "Epoch 112/400\n",
      "15/15 [==============================] - 0s 4ms/step - loss: 23965689856.0000 - val_loss: 29557831680.0000\n",
      "Epoch 113/400\n",
      "15/15 [==============================] - 0s 5ms/step - loss: 23964116992.0000 - val_loss: 29553520640.0000\n",
      "Epoch 114/400\n",
      "15/15 [==============================] - 0s 5ms/step - loss: 23955984384.0000 - val_loss: 29557985280.0000\n",
      "Epoch 115/400\n",
      "15/15 [==============================] - 0s 4ms/step - loss: 23964250112.0000 - val_loss: 29542676480.0000\n",
      "Epoch 116/400\n",
      "15/15 [==============================] - 0s 5ms/step - loss: 23966832640.0000 - val_loss: 29571526656.0000\n",
      "Epoch 117/400\n",
      "15/15 [==============================] - 0s 4ms/step - loss: 23975725056.0000 - val_loss: 29535946752.0000\n",
      "Epoch 118/400\n",
      "15/15 [==============================] - 0s 5ms/step - loss: 23962906624.0000 - val_loss: 29555245056.0000\n",
      "Epoch 119/400\n",
      "15/15 [==============================] - 0s 5ms/step - loss: 23954421760.0000 - val_loss: 29556432896.0000\n",
      "Epoch 120/400\n",
      "15/15 [==============================] - 0s 5ms/step - loss: 23954358272.0000 - val_loss: 29538736128.0000\n",
      "Epoch 121/400\n",
      "15/15 [==============================] - 0s 4ms/step - loss: 23960047616.0000 - val_loss: 29554442240.0000\n",
      "Epoch 122/400\n",
      "15/15 [==============================] - 0s 4ms/step - loss: 23956070400.0000 - val_loss: 29557966848.0000\n",
      "Epoch 123/400\n",
      "15/15 [==============================] - 0s 4ms/step - loss: 23960860672.0000 - val_loss: 29557800960.0000\n",
      "Epoch 124/400\n",
      "15/15 [==============================] - 0s 4ms/step - loss: 23953502208.0000 - val_loss: 29551310848.0000\n",
      "Epoch 125/400\n",
      "15/15 [==============================] - 0s 4ms/step - loss: 23964977152.0000 - val_loss: 29574213632.0000\n",
      "Epoch 126/400\n",
      "15/15 [==============================] - 0s 5ms/step - loss: 23952754688.0000 - val_loss: 29549797376.0000\n",
      "Epoch 127/400\n",
      "15/15 [==============================] - 0s 4ms/step - loss: 23949729792.0000 - val_loss: 29546913792.0000\n",
      "Epoch 128/400\n",
      "15/15 [==============================] - 0s 5ms/step - loss: 23955036160.0000 - val_loss: 29542514688.0000\n",
      "Epoch 129/400\n",
      "15/15 [==============================] - 0s 4ms/step - loss: 23958665216.0000 - val_loss: 29563086848.0000\n",
      "Epoch 130/400\n",
      "15/15 [==============================] - 0s 4ms/step - loss: 23949809664.0000 - val_loss: 29556162560.0000\n",
      "Epoch 131/400\n",
      "15/15 [==============================] - 0s 5ms/step - loss: 23951269888.0000 - val_loss: 29556422656.0000\n",
      "Epoch 132/400\n",
      "15/15 [==============================] - 0s 4ms/step - loss: 23944984576.0000 - val_loss: 29561028608.0000\n",
      "Epoch 133/400\n",
      "15/15 [==============================] - 0s 4ms/step - loss: 23958315008.0000 - val_loss: 29559031808.0000\n",
      "Epoch 134/400\n",
      "15/15 [==============================] - 0s 4ms/step - loss: 23978029056.0000 - val_loss: 29547438080.0000\n",
      "Epoch 135/400\n",
      "15/15 [==============================] - 0s 4ms/step - loss: 23955179520.0000 - val_loss: 29561065472.0000\n",
      "Epoch 136/400\n",
      "15/15 [==============================] - 0s 5ms/step - loss: 23946887168.0000 - val_loss: 29559029760.0000\n",
      "Epoch 137/400\n",
      "15/15 [==============================] - 0s 4ms/step - loss: 23943041024.0000 - val_loss: 29556385792.0000\n",
      "Epoch 138/400\n",
      "15/15 [==============================] - 0s 5ms/step - loss: 23965708288.0000 - val_loss: 29567258624.0000\n",
      "Epoch 139/400\n",
      "15/15 [==============================] - 0s 4ms/step - loss: 23980214272.0000 - val_loss: 29525315584.0000\n",
      "Epoch 140/400\n",
      "15/15 [==============================] - 0s 4ms/step - loss: 23951865856.0000 - val_loss: 29566525440.0000\n",
      "Epoch 141/400\n",
      "15/15 [==============================] - 0s 5ms/step - loss: 23941715968.0000 - val_loss: 29566160896.0000\n",
      "Epoch 142/400\n",
      "15/15 [==============================] - 0s 5ms/step - loss: 23948740608.0000 - val_loss: 29548636160.0000\n",
      "Epoch 143/400\n",
      "15/15 [==============================] - 0s 5ms/step - loss: 23946323968.0000 - val_loss: 29566093312.0000\n",
      "Epoch 144/400\n",
      "15/15 [==============================] - 0s 5ms/step - loss: 23941658624.0000 - val_loss: 29556895744.0000\n",
      "Epoch 145/400\n",
      "15/15 [==============================] - 0s 5ms/step - loss: 23937982464.0000 - val_loss: 29560621056.0000\n",
      "Epoch 146/400\n",
      "15/15 [==============================] - 0s 4ms/step - loss: 23941361664.0000 - val_loss: 29546649600.0000\n",
      "Epoch 147/400\n",
      "15/15 [==============================] - 0s 4ms/step - loss: 23939780608.0000 - val_loss: 29564145664.0000\n",
      "Epoch 148/400\n",
      "15/15 [==============================] - 0s 4ms/step - loss: 23944304640.0000 - val_loss: 29549006848.0000\n",
      "Epoch 149/400\n",
      "15/15 [==============================] - 0s 4ms/step - loss: 23953377280.0000 - val_loss: 29575346176.0000\n",
      "Epoch 150/400\n",
      "15/15 [==============================] - 0s 4ms/step - loss: 23956316160.0000 - val_loss: 29549111296.0000\n",
      "Epoch 151/400\n",
      "15/15 [==============================] - 0s 5ms/step - loss: 23947866112.0000 - val_loss: 29579603968.0000\n",
      "Epoch 152/400\n",
      "15/15 [==============================] - 0s 5ms/step - loss: 23962695680.0000 - val_loss: 29531463680.0000\n",
      "Epoch 153/400\n",
      "15/15 [==============================] - 0s 4ms/step - loss: 23957848064.0000 - val_loss: 29560430592.0000\n",
      "Epoch 154/400\n",
      "15/15 [==============================] - 0s 4ms/step - loss: 23936075776.0000 - val_loss: 29572399104.0000\n",
      "Epoch 155/400\n",
      "15/15 [==============================] - 0s 4ms/step - loss: 23945785344.0000 - val_loss: 29560543232.0000\n",
      "Epoch 156/400\n",
      "15/15 [==============================] - 0s 4ms/step - loss: 23937830912.0000 - val_loss: 29538138112.0000\n",
      "Epoch 157/400\n",
      "15/15 [==============================] - 0s 4ms/step - loss: 23952945152.0000 - val_loss: 29571405824.0000\n",
      "Epoch 158/400\n",
      "15/15 [==============================] - 0s 5ms/step - loss: 23941142528.0000 - val_loss: 29571856384.0000\n",
      "Epoch 159/400\n",
      "15/15 [==============================] - 0s 5ms/step - loss: 23950706688.0000 - val_loss: 29564266496.0000\n",
      "Epoch 160/400\n",
      "15/15 [==============================] - 0s 5ms/step - loss: 23971696640.0000 - val_loss: 29543966720.0000\n",
      "Epoch 161/400\n",
      "15/15 [==============================] - 0s 5ms/step - loss: 23968239616.0000 - val_loss: 29573298176.0000\n",
      "Epoch 162/400\n",
      "15/15 [==============================] - 0s 4ms/step - loss: 23938435072.0000 - val_loss: 29537122304.0000\n",
      "Epoch 163/400\n",
      "15/15 [==============================] - 0s 4ms/step - loss: 23948484608.0000 - val_loss: 29584388096.0000\n",
      "Epoch 164/400\n",
      "15/15 [==============================] - 0s 5ms/step - loss: 23926337536.0000 - val_loss: 29544452096.0000\n",
      "Epoch 165/400\n",
      "15/15 [==============================] - 0s 5ms/step - loss: 23940880384.0000 - val_loss: 29559142400.0000\n",
      "Epoch 166/400\n",
      "15/15 [==============================] - 0s 5ms/step - loss: 23946825728.0000 - val_loss: 29582553088.0000\n",
      "Epoch 167/400\n",
      "15/15 [==============================] - 0s 5ms/step - loss: 23934267392.0000 - val_loss: 29544658944.0000\n",
      "Epoch 168/400\n",
      "15/15 [==============================] - 0s 4ms/step - loss: 23926575104.0000 - val_loss: 29552924672.0000\n",
      "Epoch 169/400\n",
      "15/15 [==============================] - 0s 4ms/step - loss: 23926392832.0000 - val_loss: 29550303232.0000\n",
      "Epoch 170/400\n",
      "15/15 [==============================] - 0s 4ms/step - loss: 23929454592.0000 - val_loss: 29550688256.0000\n",
      "Epoch 171/400\n",
      "15/15 [==============================] - 0s 5ms/step - loss: 23932088320.0000 - val_loss: 29555042304.0000\n",
      "Epoch 172/400\n",
      "15/15 [==============================] - 0s 4ms/step - loss: 23931727872.0000 - val_loss: 29564928000.0000\n",
      "Epoch 173/400\n",
      "15/15 [==============================] - 0s 5ms/step - loss: 23926691840.0000 - val_loss: 29566169088.0000\n",
      "Epoch 174/400\n",
      "15/15 [==============================] - 0s 8ms/step - loss: 23935623168.0000 - val_loss: 29527592960.0000\n",
      "Epoch 175/400\n",
      "15/15 [==============================] - 0s 5ms/step - loss: 23940155392.0000 - val_loss: 29567270912.0000\n",
      "Epoch 176/400\n",
      "15/15 [==============================] - 0s 4ms/step - loss: 23922868224.0000 - val_loss: 29554020352.0000\n",
      "Epoch 177/400\n",
      "15/15 [==============================] - 0s 5ms/step - loss: 23927453696.0000 - val_loss: 29562032128.0000\n",
      "Epoch 178/400\n",
      "15/15 [==============================] - 0s 4ms/step - loss: 23933136896.0000 - val_loss: 29561171968.0000\n",
      "Epoch 179/400\n",
      "15/15 [==============================] - 0s 5ms/step - loss: 23930970112.0000 - val_loss: 29564325888.0000\n",
      "Epoch 180/400\n",
      "15/15 [==============================] - 0s 5ms/step - loss: 23921737728.0000 - val_loss: 29555916800.0000\n",
      "Epoch 181/400\n",
      "15/15 [==============================] - 0s 4ms/step - loss: 23932039168.0000 - val_loss: 29562556416.0000\n",
      "Epoch 182/400\n",
      "15/15 [==============================] - 0s 5ms/step - loss: 23925510144.0000 - val_loss: 29551355904.0000\n",
      "Epoch 183/400\n",
      "15/15 [==============================] - 0s 5ms/step - loss: 23929688064.0000 - val_loss: 29541142528.0000\n",
      "Epoch 184/400\n",
      "15/15 [==============================] - 0s 5ms/step - loss: 23945195520.0000 - val_loss: 29561434112.0000\n",
      "Epoch 185/400\n",
      "15/15 [==============================] - 0s 4ms/step - loss: 23920422912.0000 - val_loss: 29542969344.0000\n",
      "Epoch 186/400\n",
      "15/15 [==============================] - 0s 4ms/step - loss: 23926919168.0000 - val_loss: 29563084800.0000\n",
      "Epoch 187/400\n",
      "15/15 [==============================] - 0s 5ms/step - loss: 23927758848.0000 - val_loss: 29558255616.0000\n",
      "Epoch 188/400\n",
      "15/15 [==============================] - 0s 5ms/step - loss: 23924310016.0000 - val_loss: 29561217024.0000\n",
      "Epoch 189/400\n",
      "15/15 [==============================] - 0s 5ms/step - loss: 23934031872.0000 - val_loss: 29547804672.0000\n",
      "Epoch 190/400\n",
      "15/15 [==============================] - 0s 5ms/step - loss: 23916453888.0000 - val_loss: 29567633408.0000\n",
      "Epoch 191/400\n",
      "15/15 [==============================] - 0s 4ms/step - loss: 23918047232.0000 - val_loss: 29570902016.0000\n",
      "Epoch 192/400\n",
      "15/15 [==============================] - 0s 4ms/step - loss: 23936423936.0000 - val_loss: 29558298624.0000\n",
      "Epoch 193/400\n",
      "15/15 [==============================] - 0s 4ms/step - loss: 23929155584.0000 - val_loss: 29591681024.0000\n",
      "Epoch 194/400\n",
      "15/15 [==============================] - 0s 5ms/step - loss: 23913955328.0000 - val_loss: 29560688640.0000\n",
      "Epoch 195/400\n",
      "15/15 [==============================] - 0s 4ms/step - loss: 23916087296.0000 - val_loss: 29552289792.0000\n",
      "Epoch 196/400\n",
      "15/15 [==============================] - 0s 4ms/step - loss: 23919204352.0000 - val_loss: 29594564608.0000\n",
      "Epoch 197/400\n",
      "15/15 [==============================] - 0s 4ms/step - loss: 23910690816.0000 - val_loss: 29572364288.0000\n",
      "Epoch 198/400\n",
      "15/15 [==============================] - 0s 4ms/step - loss: 23919257600.0000 - val_loss: 29569855488.0000\n",
      "Epoch 199/400\n",
      "15/15 [==============================] - 0s 4ms/step - loss: 23912691712.0000 - val_loss: 29580185600.0000\n",
      "Epoch 200/400\n",
      "15/15 [==============================] - 0s 4ms/step - loss: 23922649088.0000 - val_loss: 29584580608.0000\n",
      "Epoch 201/400\n",
      "15/15 [==============================] - 0s 4ms/step - loss: 23928518656.0000 - val_loss: 29548408832.0000\n",
      "Epoch 202/400\n",
      "15/15 [==============================] - 0s 4ms/step - loss: 23908300800.0000 - val_loss: 29563457536.0000\n",
      "Epoch 203/400\n",
      "15/15 [==============================] - 0s 4ms/step - loss: 23917549568.0000 - val_loss: 29598928896.0000\n",
      "Epoch 204/400\n",
      "15/15 [==============================] - 0s 4ms/step - loss: 23907387392.0000 - val_loss: 29567281152.0000\n",
      "Epoch 205/400\n",
      "15/15 [==============================] - 0s 4ms/step - loss: 23905882112.0000 - val_loss: 29552340992.0000\n",
      "Epoch 206/400\n",
      "15/15 [==============================] - 0s 5ms/step - loss: 23906717696.0000 - val_loss: 29563635712.0000\n",
      "Epoch 207/400\n",
      "15/15 [==============================] - 0s 5ms/step - loss: 23912267776.0000 - val_loss: 29573124096.0000\n",
      "Epoch 208/400\n",
      "15/15 [==============================] - 0s 4ms/step - loss: 23916496896.0000 - val_loss: 29568882688.0000\n",
      "Epoch 209/400\n",
      "15/15 [==============================] - 0s 4ms/step - loss: 23917213696.0000 - val_loss: 29587316736.0000\n",
      "Epoch 210/400\n",
      "15/15 [==============================] - 0s 4ms/step - loss: 23911974912.0000 - val_loss: 29564844032.0000\n",
      "Epoch 211/400\n",
      "15/15 [==============================] - 0s 4ms/step - loss: 23905265664.0000 - val_loss: 29575766016.0000\n",
      "Epoch 212/400\n",
      "15/15 [==============================] - 0s 4ms/step - loss: 23901683712.0000 - val_loss: 29553213440.0000\n",
      "Epoch 213/400\n",
      "15/15 [==============================] - 0s 5ms/step - loss: 23897970688.0000 - val_loss: 29588142080.0000\n",
      "Epoch 214/400\n",
      "15/15 [==============================] - 0s 4ms/step - loss: 23902730240.0000 - val_loss: 29586415616.0000\n",
      "Epoch 215/400\n",
      "15/15 [==============================] - 0s 4ms/step - loss: 23909126144.0000 - val_loss: 29564604416.0000\n",
      "Epoch 216/400\n",
      "15/15 [==============================] - 0s 5ms/step - loss: 23899316224.0000 - val_loss: 29581651968.0000\n",
      "Epoch 217/400\n",
      "15/15 [==============================] - 0s 5ms/step - loss: 23916247040.0000 - val_loss: 29566830592.0000\n",
      "Epoch 218/400\n",
      "15/15 [==============================] - 0s 5ms/step - loss: 23918071808.0000 - val_loss: 29596758016.0000\n",
      "Epoch 219/400\n",
      "15/15 [==============================] - 0s 4ms/step - loss: 23912146944.0000 - val_loss: 29571887104.0000\n",
      "Epoch 220/400\n",
      "15/15 [==============================] - 0s 4ms/step - loss: 23900123136.0000 - val_loss: 29565845504.0000\n",
      "Epoch 221/400\n",
      "15/15 [==============================] - 0s 5ms/step - loss: 23909619712.0000 - val_loss: 29579302912.0000\n",
      "Epoch 222/400\n",
      "15/15 [==============================] - 0s 5ms/step - loss: 23900973056.0000 - val_loss: 29588664320.0000\n",
      "Epoch 223/400\n",
      "15/15 [==============================] - 0s 5ms/step - loss: 23906375680.0000 - val_loss: 29583929344.0000\n",
      "Epoch 224/400\n",
      "15/15 [==============================] - 0s 4ms/step - loss: 23898261504.0000 - val_loss: 29562787840.0000\n",
      "Epoch 225/400\n",
      "15/15 [==============================] - 0s 5ms/step - loss: 23898939392.0000 - val_loss: 29580185600.0000\n",
      "Epoch 226/400\n",
      "15/15 [==============================] - 0s 4ms/step - loss: 23891668992.0000 - val_loss: 29577672704.0000\n",
      "Epoch 227/400\n",
      "15/15 [==============================] - 0s 4ms/step - loss: 23903275008.0000 - val_loss: 29584103424.0000\n",
      "Epoch 228/400\n",
      "15/15 [==============================] - 0s 4ms/step - loss: 23894448128.0000 - val_loss: 29588439040.0000\n",
      "Epoch 229/400\n",
      "15/15 [==============================] - 0s 5ms/step - loss: 23906359296.0000 - val_loss: 29570783232.0000\n",
      "Epoch 230/400\n",
      "15/15 [==============================] - 0s 5ms/step - loss: 23903674368.0000 - val_loss: 29570985984.0000\n",
      "Epoch 231/400\n",
      "15/15 [==============================] - 0s 4ms/step - loss: 23905644544.0000 - val_loss: 29591721984.0000\n",
      "Epoch 232/400\n",
      "15/15 [==============================] - 0s 5ms/step - loss: 23897470976.0000 - val_loss: 29613590528.0000\n",
      "Epoch 233/400\n",
      "15/15 [==============================] - 0s 4ms/step - loss: 23890384896.0000 - val_loss: 29576962048.0000\n",
      "Epoch 234/400\n",
      "15/15 [==============================] - 0s 5ms/step - loss: 23888029696.0000 - val_loss: 29582000128.0000\n",
      "Epoch 235/400\n",
      "15/15 [==============================] - 0s 5ms/step - loss: 23886452736.0000 - val_loss: 29580109824.0000\n",
      "Epoch 236/400\n",
      "15/15 [==============================] - 0s 5ms/step - loss: 23904806912.0000 - val_loss: 29585334272.0000\n",
      "Epoch 237/400\n",
      "15/15 [==============================] - 0s 4ms/step - loss: 23891736576.0000 - val_loss: 29584447488.0000\n",
      "Epoch 238/400\n",
      "15/15 [==============================] - 0s 5ms/step - loss: 23886645248.0000 - val_loss: 29569069056.0000\n",
      "Epoch 239/400\n",
      "15/15 [==============================] - 0s 5ms/step - loss: 23893055488.0000 - val_loss: 29575065600.0000\n",
      "Epoch 240/400\n",
      "15/15 [==============================] - 0s 4ms/step - loss: 23891658752.0000 - val_loss: 29598535680.0000\n",
      "Epoch 241/400\n",
      "15/15 [==============================] - 0s 5ms/step - loss: 23895619584.0000 - val_loss: 29573263360.0000\n",
      "Epoch 242/400\n",
      "15/15 [==============================] - 0s 5ms/step - loss: 23903664128.0000 - val_loss: 29592639488.0000\n",
      "Epoch 243/400\n",
      "15/15 [==============================] - 0s 4ms/step - loss: 23907534848.0000 - val_loss: 29559281664.0000\n",
      "Epoch 244/400\n",
      "15/15 [==============================] - 0s 5ms/step - loss: 23888961536.0000 - val_loss: 29589929984.0000\n",
      "Epoch 245/400\n",
      "15/15 [==============================] - 0s 5ms/step - loss: 23915272192.0000 - val_loss: 29620047872.0000\n",
      "Epoch 246/400\n",
      "15/15 [==============================] - 0s 5ms/step - loss: 23927441408.0000 - val_loss: 29557297152.0000\n",
      "Epoch 247/400\n",
      "15/15 [==============================] - 0s 5ms/step - loss: 23904782336.0000 - val_loss: 29601331200.0000\n",
      "Epoch 248/400\n",
      "15/15 [==============================] - 0s 6ms/step - loss: 23894702080.0000 - val_loss: 29563977728.0000\n",
      "Epoch 249/400\n",
      "15/15 [==============================] - 0s 6ms/step - loss: 23886979072.0000 - val_loss: 29581776896.0000\n",
      "Epoch 250/400\n",
      "15/15 [==============================] - 0s 4ms/step - loss: 23878377472.0000 - val_loss: 29579714560.0000\n",
      "Epoch 251/400\n",
      "15/15 [==============================] - 0s 5ms/step - loss: 23880116224.0000 - val_loss: 29584427008.0000\n",
      "Epoch 252/400\n",
      "15/15 [==============================] - 0s 5ms/step - loss: 23876868096.0000 - val_loss: 29556346880.0000\n",
      "Epoch 253/400\n",
      "15/15 [==============================] - 0s 5ms/step - loss: 23875819520.0000 - val_loss: 29568645120.0000\n",
      "Epoch 254/400\n",
      "15/15 [==============================] - 0s 5ms/step - loss: 23912656896.0000 - val_loss: 29589716992.0000\n",
      "Epoch 255/400\n",
      "15/15 [==============================] - 0s 5ms/step - loss: 23914694656.0000 - val_loss: 29624625152.0000\n",
      "Epoch 256/400\n",
      "15/15 [==============================] - 0s 4ms/step - loss: 23887437824.0000 - val_loss: 29583544320.0000\n",
      "Epoch 257/400\n",
      "15/15 [==============================] - 0s 5ms/step - loss: 23874267136.0000 - val_loss: 29568104448.0000\n",
      "Epoch 258/400\n",
      "15/15 [==============================] - 0s 4ms/step - loss: 23879876608.0000 - val_loss: 29591902208.0000\n",
      "Epoch 259/400\n",
      "15/15 [==============================] - 0s 4ms/step - loss: 23880067072.0000 - val_loss: 29562906624.0000\n",
      "Epoch 260/400\n",
      "15/15 [==============================] - 0s 4ms/step - loss: 23887726592.0000 - val_loss: 29600055296.0000\n",
      "Epoch 261/400\n",
      "15/15 [==============================] - 0s 4ms/step - loss: 23871987712.0000 - val_loss: 29582012416.0000\n",
      "Epoch 262/400\n",
      "15/15 [==============================] - 0s 4ms/step - loss: 23875463168.0000 - val_loss: 29564055552.0000\n",
      "Epoch 263/400\n",
      "15/15 [==============================] - 0s 5ms/step - loss: 23873114112.0000 - val_loss: 29596119040.0000\n",
      "Epoch 264/400\n",
      "15/15 [==============================] - 0s 5ms/step - loss: 23872980992.0000 - val_loss: 29582712832.0000\n",
      "Epoch 265/400\n",
      "15/15 [==============================] - 0s 5ms/step - loss: 23872630784.0000 - val_loss: 29587050496.0000\n",
      "Epoch 266/400\n",
      "15/15 [==============================] - 0s 5ms/step - loss: 23871811584.0000 - val_loss: 29596033024.0000\n",
      "Epoch 267/400\n",
      "15/15 [==============================] - 0s 5ms/step - loss: 23878946816.0000 - val_loss: 29566543872.0000\n",
      "Epoch 268/400\n",
      "15/15 [==============================] - 0s 4ms/step - loss: 23880034304.0000 - val_loss: 29602304000.0000\n",
      "Epoch 269/400\n",
      "15/15 [==============================] - 0s 4ms/step - loss: 23881914368.0000 - val_loss: 29570164736.0000\n",
      "Epoch 270/400\n",
      "15/15 [==============================] - 0s 4ms/step - loss: 23900370944.0000 - val_loss: 29588494336.0000\n",
      "Epoch 271/400\n",
      "15/15 [==============================] - 0s 4ms/step - loss: 23879667712.0000 - val_loss: 29582649344.0000\n",
      "Epoch 272/400\n",
      "15/15 [==============================] - 0s 5ms/step - loss: 23894536192.0000 - val_loss: 29598724096.0000\n",
      "Epoch 273/400\n",
      "15/15 [==============================] - 0s 5ms/step - loss: 23873988608.0000 - val_loss: 29572347904.0000\n",
      "Epoch 274/400\n",
      "15/15 [==============================] - 0s 4ms/step - loss: 23875297280.0000 - val_loss: 29603860480.0000\n",
      "Epoch 275/400\n",
      "15/15 [==============================] - 0s 5ms/step - loss: 23863228416.0000 - val_loss: 29586829312.0000\n",
      "Epoch 276/400\n",
      "15/15 [==============================] - 0s 5ms/step - loss: 23881750528.0000 - val_loss: 29613258752.0000\n",
      "Epoch 277/400\n",
      "15/15 [==============================] - 0s 5ms/step - loss: 23882326016.0000 - val_loss: 29555632128.0000\n",
      "Epoch 278/400\n",
      "15/15 [==============================] - 0s 5ms/step - loss: 23874287616.0000 - val_loss: 29599576064.0000\n",
      "Epoch 279/400\n",
      "15/15 [==============================] - 0s 5ms/step - loss: 23861088256.0000 - val_loss: 29588480000.0000\n",
      "Epoch 280/400\n",
      "15/15 [==============================] - 0s 4ms/step - loss: 23873380352.0000 - val_loss: 29590149120.0000\n",
      "Epoch 281/400\n",
      "15/15 [==============================] - 0s 4ms/step - loss: 23869722624.0000 - val_loss: 29576208384.0000\n",
      "Epoch 282/400\n",
      "15/15 [==============================] - 0s 4ms/step - loss: 23869122560.0000 - val_loss: 29591877632.0000\n",
      "Epoch 283/400\n",
      "15/15 [==============================] - 0s 4ms/step - loss: 23870646272.0000 - val_loss: 29585344512.0000\n",
      "Epoch 284/400\n",
      "15/15 [==============================] - 0s 5ms/step - loss: 23863279616.0000 - val_loss: 29564172288.0000\n",
      "Epoch 285/400\n",
      "15/15 [==============================] - 0s 4ms/step - loss: 23865407488.0000 - val_loss: 29573730304.0000\n",
      "Epoch 286/400\n",
      "15/15 [==============================] - 0s 4ms/step - loss: 23866656768.0000 - val_loss: 29576916992.0000\n",
      "Epoch 287/400\n",
      "15/15 [==============================] - 0s 4ms/step - loss: 23866724352.0000 - val_loss: 29574539264.0000\n",
      "Epoch 288/400\n",
      "15/15 [==============================] - 0s 4ms/step - loss: 23862794240.0000 - val_loss: 29591916544.0000\n",
      "Epoch 289/400\n",
      "15/15 [==============================] - 0s 5ms/step - loss: 23874734080.0000 - val_loss: 29584447488.0000\n",
      "Epoch 290/400\n",
      "15/15 [==============================] - 0s 5ms/step - loss: 23857412096.0000 - val_loss: 29588113408.0000\n",
      "Epoch 291/400\n",
      "15/15 [==============================] - 0s 4ms/step - loss: 23860643840.0000 - val_loss: 29564715008.0000\n",
      "Epoch 292/400\n",
      "15/15 [==============================] - 0s 5ms/step - loss: 23849142272.0000 - val_loss: 29572651008.0000\n",
      "Epoch 293/400\n",
      "15/15 [==============================] - 0s 4ms/step - loss: 23863187456.0000 - val_loss: 29594750976.0000\n",
      "Epoch 294/400\n",
      "15/15 [==============================] - 0s 5ms/step - loss: 23866447872.0000 - val_loss: 29580785664.0000\n",
      "Epoch 295/400\n",
      "15/15 [==============================] - 0s 5ms/step - loss: 23856175104.0000 - val_loss: 29593100288.0000\n",
      "Epoch 296/400\n",
      "15/15 [==============================] - 0s 5ms/step - loss: 23858997248.0000 - val_loss: 29589331968.0000\n",
      "Epoch 297/400\n",
      "15/15 [==============================] - 0s 5ms/step - loss: 23875565568.0000 - val_loss: 29559326720.0000\n",
      "Epoch 298/400\n",
      "15/15 [==============================] - 0s 5ms/step - loss: 23860963328.0000 - val_loss: 29572976640.0000\n",
      "Epoch 299/400\n",
      "15/15 [==============================] - 0s 5ms/step - loss: 23850788864.0000 - val_loss: 29588928512.0000\n",
      "Epoch 300/400\n",
      "15/15 [==============================] - 0s 4ms/step - loss: 23864907776.0000 - val_loss: 29610518528.0000\n",
      "Epoch 301/400\n",
      "15/15 [==============================] - 0s 5ms/step - loss: 23860750336.0000 - val_loss: 29566283776.0000\n",
      "Epoch 302/400\n",
      "15/15 [==============================] - 0s 5ms/step - loss: 23856576512.0000 - val_loss: 29603065856.0000\n",
      "Epoch 303/400\n",
      "15/15 [==============================] - 0s 4ms/step - loss: 23859630080.0000 - val_loss: 29610393600.0000\n",
      "Epoch 304/400\n",
      "15/15 [==============================] - 0s 4ms/step - loss: 23847235584.0000 - val_loss: 29566072832.0000\n",
      "Epoch 305/400\n",
      "15/15 [==============================] - 0s 5ms/step - loss: 23845773312.0000 - val_loss: 29576736768.0000\n",
      "Epoch 306/400\n",
      "15/15 [==============================] - 0s 4ms/step - loss: 23846377472.0000 - val_loss: 29582168064.0000\n",
      "Epoch 307/400\n",
      "15/15 [==============================] - 0s 5ms/step - loss: 23861624832.0000 - val_loss: 29598060544.0000\n",
      "Epoch 308/400\n",
      "15/15 [==============================] - 0s 5ms/step - loss: 23856300032.0000 - val_loss: 29578459136.0000\n",
      "Epoch 309/400\n",
      "15/15 [==============================] - 0s 4ms/step - loss: 23851999232.0000 - val_loss: 29593616384.0000\n",
      "Epoch 310/400\n",
      "15/15 [==============================] - 0s 4ms/step - loss: 23843596288.0000 - val_loss: 29579528192.0000\n",
      "Epoch 311/400\n",
      "15/15 [==============================] - 0s 4ms/step - loss: 23839805440.0000 - val_loss: 29572761600.0000\n",
      "Epoch 312/400\n",
      "15/15 [==============================] - 0s 4ms/step - loss: 23861530624.0000 - val_loss: 29581314048.0000\n",
      "Epoch 313/400\n",
      "15/15 [==============================] - 0s 4ms/step - loss: 23864664064.0000 - val_loss: 29601193984.0000\n",
      "Epoch 314/400\n",
      "15/15 [==============================] - 0s 5ms/step - loss: 23848321024.0000 - val_loss: 29594490880.0000\n",
      "Epoch 315/400\n",
      "15/15 [==============================] - 0s 5ms/step - loss: 23843211264.0000 - val_loss: 29593620480.0000\n",
      "Epoch 316/400\n",
      "15/15 [==============================] - 0s 5ms/step - loss: 23841835008.0000 - val_loss: 29579407360.0000\n",
      "Epoch 317/400\n",
      "15/15 [==============================] - 0s 4ms/step - loss: 23844339712.0000 - val_loss: 29583976448.0000\n",
      "Epoch 318/400\n",
      "15/15 [==============================] - 0s 5ms/step - loss: 23847557120.0000 - val_loss: 29608525824.0000\n",
      "Epoch 319/400\n",
      "15/15 [==============================] - 0s 4ms/step - loss: 23849760768.0000 - val_loss: 29576550400.0000\n",
      "Epoch 320/400\n",
      "15/15 [==============================] - 0s 4ms/step - loss: 23850313728.0000 - val_loss: 29594245120.0000\n",
      "Epoch 321/400\n",
      "15/15 [==============================] - 0s 4ms/step - loss: 23846266880.0000 - val_loss: 29603860480.0000\n",
      "Epoch 322/400\n",
      "15/15 [==============================] - 0s 4ms/step - loss: 23840888832.0000 - val_loss: 29584005120.0000\n",
      "Epoch 323/400\n",
      "15/15 [==============================] - 0s 5ms/step - loss: 23841675264.0000 - val_loss: 29582196736.0000\n",
      "Epoch 324/400\n",
      "15/15 [==============================] - 0s 5ms/step - loss: 23860764672.0000 - val_loss: 29621936128.0000\n",
      "Epoch 325/400\n",
      "15/15 [==============================] - 0s 4ms/step - loss: 23835502592.0000 - val_loss: 29580032000.0000\n",
      "Epoch 326/400\n",
      "15/15 [==============================] - 0s 4ms/step - loss: 23841316864.0000 - val_loss: 29573982208.0000\n",
      "Epoch 327/400\n",
      "15/15 [==============================] - 0s 4ms/step - loss: 23842201600.0000 - val_loss: 29567973376.0000\n",
      "Epoch 328/400\n",
      "15/15 [==============================] - 0s 4ms/step - loss: 23840925696.0000 - val_loss: 29582262272.0000\n",
      "Epoch 329/400\n",
      "15/15 [==============================] - 0s 4ms/step - loss: 23839535104.0000 - val_loss: 29600487424.0000\n",
      "Epoch 330/400\n",
      "15/15 [==============================] - 0s 4ms/step - loss: 23852210176.0000 - val_loss: 29589624832.0000\n",
      "Epoch 331/400\n",
      "15/15 [==============================] - 0s 4ms/step - loss: 23844395008.0000 - val_loss: 29592975360.0000\n",
      "Epoch 332/400\n",
      "15/15 [==============================] - 0s 4ms/step - loss: 23841533952.0000 - val_loss: 29574113280.0000\n",
      "Epoch 333/400\n",
      "15/15 [==============================] - 0s 5ms/step - loss: 23843518464.0000 - val_loss: 29612118016.0000\n",
      "Epoch 334/400\n",
      "15/15 [==============================] - 0s 4ms/step - loss: 23837886464.0000 - val_loss: 29580746752.0000\n",
      "Epoch 335/400\n",
      "15/15 [==============================] - 0s 4ms/step - loss: 23830833152.0000 - val_loss: 29592406016.0000\n",
      "Epoch 336/400\n",
      "15/15 [==============================] - 0s 5ms/step - loss: 23828930560.0000 - val_loss: 29563830272.0000\n",
      "Epoch 337/400\n",
      "15/15 [==============================] - 0s 4ms/step - loss: 23835404288.0000 - val_loss: 29567916032.0000\n",
      "Epoch 338/400\n",
      "15/15 [==============================] - 0s 4ms/step - loss: 23828082688.0000 - val_loss: 29601146880.0000\n",
      "Epoch 339/400\n",
      "15/15 [==============================] - 0s 4ms/step - loss: 23844853760.0000 - val_loss: 29591963648.0000\n",
      "Epoch 340/400\n",
      "15/15 [==============================] - 0s 5ms/step - loss: 23844548608.0000 - val_loss: 29596643328.0000\n",
      "Epoch 341/400\n",
      "15/15 [==============================] - 0s 5ms/step - loss: 23861807104.0000 - val_loss: 29566437376.0000\n",
      "Epoch 342/400\n",
      "15/15 [==============================] - 0s 5ms/step - loss: 23843672064.0000 - val_loss: 29585164288.0000\n",
      "Epoch 343/400\n",
      "15/15 [==============================] - 0s 4ms/step - loss: 23855841280.0000 - val_loss: 29596524544.0000\n",
      "Epoch 344/400\n",
      "15/15 [==============================] - 0s 4ms/step - loss: 23838668800.0000 - val_loss: 29610256384.0000\n",
      "Epoch 345/400\n",
      "15/15 [==============================] - 0s 5ms/step - loss: 23826540544.0000 - val_loss: 29571244032.0000\n",
      "Epoch 346/400\n",
      "15/15 [==============================] - 0s 4ms/step - loss: 23822993408.0000 - val_loss: 29577103360.0000\n",
      "Epoch 347/400\n",
      "15/15 [==============================] - 0s 4ms/step - loss: 23821692928.0000 - val_loss: 29575876608.0000\n",
      "Epoch 348/400\n",
      "15/15 [==============================] - 0s 5ms/step - loss: 23826450432.0000 - val_loss: 29601607680.0000\n",
      "Epoch 349/400\n",
      "15/15 [==============================] - 0s 5ms/step - loss: 23818330112.0000 - val_loss: 29585678336.0000\n",
      "Epoch 350/400\n",
      "15/15 [==============================] - 0s 7ms/step - loss: 23822198784.0000 - val_loss: 29581307904.0000\n",
      "Epoch 351/400\n",
      "15/15 [==============================] - 0s 5ms/step - loss: 23822794752.0000 - val_loss: 29576357888.0000\n",
      "Epoch 352/400\n",
      "15/15 [==============================] - 0s 4ms/step - loss: 23831853056.0000 - val_loss: 29611757568.0000\n",
      "Epoch 353/400\n",
      "15/15 [==============================] - 0s 4ms/step - loss: 23843854336.0000 - val_loss: 29574584320.0000\n",
      "Epoch 354/400\n",
      "15/15 [==============================] - 0s 4ms/step - loss: 23825948672.0000 - val_loss: 29593980928.0000\n",
      "Epoch 355/400\n",
      "15/15 [==============================] - 0s 5ms/step - loss: 23827927040.0000 - val_loss: 29584900096.0000\n",
      "Epoch 356/400\n",
      "15/15 [==============================] - 0s 5ms/step - loss: 23818807296.0000 - val_loss: 29588860928.0000\n",
      "Epoch 357/400\n",
      "15/15 [==============================] - 0s 5ms/step - loss: 23824605184.0000 - val_loss: 29585125376.0000\n",
      "Epoch 358/400\n",
      "15/15 [==============================] - 0s 4ms/step - loss: 23824773120.0000 - val_loss: 29587079168.0000\n",
      "Epoch 359/400\n",
      "15/15 [==============================] - 0s 7ms/step - loss: 23814041600.0000 - val_loss: 29579036672.0000\n",
      "Epoch 360/400\n",
      "15/15 [==============================] - 0s 5ms/step - loss: 23821142016.0000 - val_loss: 29596551168.0000\n",
      "Epoch 361/400\n",
      "15/15 [==============================] - 0s 4ms/step - loss: 23842441216.0000 - val_loss: 29606098944.0000\n",
      "Epoch 362/400\n",
      "15/15 [==============================] - 0s 5ms/step - loss: 23825377280.0000 - val_loss: 29574744064.0000\n",
      "Epoch 363/400\n",
      "15/15 [==============================] - 0s 5ms/step - loss: 23817654272.0000 - val_loss: 29571897344.0000\n",
      "Epoch 364/400\n",
      "15/15 [==============================] - 0s 4ms/step - loss: 23817717760.0000 - val_loss: 29577015296.0000\n",
      "Epoch 365/400\n",
      "15/15 [==============================] - 0s 5ms/step - loss: 23819122688.0000 - val_loss: 29586626560.0000\n",
      "Epoch 366/400\n",
      "15/15 [==============================] - 0s 4ms/step - loss: 23819175936.0000 - val_loss: 29590532096.0000\n",
      "Epoch 367/400\n",
      "15/15 [==============================] - 0s 4ms/step - loss: 23831486464.0000 - val_loss: 29577984000.0000\n",
      "Epoch 368/400\n",
      "15/15 [==============================] - 0s 5ms/step - loss: 23815755776.0000 - val_loss: 29582012416.0000\n",
      "Epoch 369/400\n",
      "15/15 [==============================] - 0s 4ms/step - loss: 23828764672.0000 - val_loss: 29576984576.0000\n",
      "Epoch 370/400\n",
      "15/15 [==============================] - 0s 4ms/step - loss: 23821619200.0000 - val_loss: 29573277696.0000\n",
      "Epoch 371/400\n",
      "15/15 [==============================] - 0s 5ms/step - loss: 23814443008.0000 - val_loss: 29591658496.0000\n",
      "Epoch 372/400\n",
      "15/15 [==============================] - 0s 4ms/step - loss: 23813582848.0000 - val_loss: 29601337344.0000\n",
      "Epoch 373/400\n",
      "15/15 [==============================] - 0s 5ms/step - loss: 23819345920.0000 - val_loss: 29569988608.0000\n",
      "Epoch 374/400\n",
      "15/15 [==============================] - 0s 5ms/step - loss: 23814512640.0000 - val_loss: 29567410176.0000\n",
      "Epoch 375/400\n",
      "15/15 [==============================] - 0s 4ms/step - loss: 23824619520.0000 - val_loss: 29582016512.0000\n",
      "Epoch 376/400\n",
      "15/15 [==============================] - 0s 5ms/step - loss: 23819300864.0000 - val_loss: 29577119744.0000\n",
      "Epoch 377/400\n",
      "15/15 [==============================] - 0s 4ms/step - loss: 23806959616.0000 - val_loss: 29599416320.0000\n",
      "Epoch 378/400\n",
      "15/15 [==============================] - 0s 4ms/step - loss: 23817013248.0000 - val_loss: 29581219840.0000\n",
      "Epoch 379/400\n",
      "15/15 [==============================] - 0s 5ms/step - loss: 23807997952.0000 - val_loss: 29579118592.0000\n",
      "Epoch 380/400\n",
      "15/15 [==============================] - 0s 4ms/step - loss: 23821053952.0000 - val_loss: 29588699136.0000\n",
      "Epoch 381/400\n",
      "15/15 [==============================] - 0s 5ms/step - loss: 23806527488.0000 - val_loss: 29584078848.0000\n",
      "Epoch 382/400\n",
      "15/15 [==============================] - 0s 4ms/step - loss: 23818846208.0000 - val_loss: 29583290368.0000\n",
      "Epoch 383/400\n",
      "15/15 [==============================] - 0s 5ms/step - loss: 23814440960.0000 - val_loss: 29579266048.0000\n",
      "Epoch 384/400\n",
      "15/15 [==============================] - 0s 4ms/step - loss: 23808417792.0000 - val_loss: 29582897152.0000\n",
      "Epoch 385/400\n",
      "15/15 [==============================] - 0s 4ms/step - loss: 23806427136.0000 - val_loss: 29595811840.0000\n",
      "Epoch 386/400\n",
      "15/15 [==============================] - 0s 4ms/step - loss: 23820787712.0000 - val_loss: 29563928576.0000\n",
      "Epoch 387/400\n",
      "15/15 [==============================] - 0s 5ms/step - loss: 23813914624.0000 - val_loss: 29583093760.0000\n",
      "Epoch 388/400\n",
      "15/15 [==============================] - 0s 5ms/step - loss: 23812302848.0000 - val_loss: 29577093120.0000\n",
      "Epoch 389/400\n",
      "15/15 [==============================] - 0s 5ms/step - loss: 23799990272.0000 - val_loss: 29558833152.0000\n",
      "Epoch 390/400\n",
      "15/15 [==============================] - 0s 4ms/step - loss: 23804895232.0000 - val_loss: 29574387712.0000\n",
      "Epoch 391/400\n",
      "15/15 [==============================] - 0s 4ms/step - loss: 23805046784.0000 - val_loss: 29584750592.0000\n",
      "Epoch 392/400\n",
      "15/15 [==============================] - 0s 4ms/step - loss: 23805554688.0000 - val_loss: 29581217792.0000\n",
      "Epoch 393/400\n",
      "15/15 [==============================] - 0s 4ms/step - loss: 23805263872.0000 - val_loss: 29585268736.0000\n",
      "Epoch 394/400\n",
      "15/15 [==============================] - 0s 5ms/step - loss: 23801626624.0000 - val_loss: 29567217664.0000\n",
      "Epoch 395/400\n",
      "15/15 [==============================] - 0s 5ms/step - loss: 23822768128.0000 - val_loss: 29612570624.0000\n",
      "Epoch 396/400\n",
      "15/15 [==============================] - 0s 5ms/step - loss: 23808948224.0000 - val_loss: 29584420864.0000\n",
      "Epoch 397/400\n",
      "15/15 [==============================] - 0s 5ms/step - loss: 23797047296.0000 - val_loss: 29580304384.0000\n",
      "Epoch 398/400\n",
      "15/15 [==============================] - 0s 4ms/step - loss: 23809574912.0000 - val_loss: 29579214848.0000\n",
      "Epoch 399/400\n",
      "15/15 [==============================] - 0s 5ms/step - loss: 23813218304.0000 - val_loss: 29571788800.0000\n",
      "Epoch 400/400\n",
      "15/15 [==============================] - 0s 5ms/step - loss: 23797983232.0000 - val_loss: 29578407936.0000\n"
     ]
    },
    {
     "data": {
      "text/plain": "<keras.src.callbacks.History at 0x26415bf0250>"
     },
     "execution_count": 148,
     "metadata": {},
     "output_type": "execute_result"
    }
   ],
   "source": [
    "model.fit(x = x_train, y = y_train.values,\n",
    "          validation_data=(x_test, y_test.values),\n",
    "          batch_size=1024,epochs=400)"
   ],
   "metadata": {
    "collapsed": false,
    "ExecuteTime": {
     "end_time": "2023-12-02T14:24:11.298158600Z",
     "start_time": "2023-12-02T14:23:44.262033400Z"
    }
   },
   "id": "45aabc8b764da966"
  },
  {
   "cell_type": "markdown",
   "source": [
    "## Predictions on test data"
   ],
   "metadata": {
    "collapsed": false
   },
   "id": "4408a4da52104903"
  },
  {
   "cell_type": "code",
   "execution_count": 149,
   "outputs": [
    {
     "name": "stdout",
     "output_type": "stream",
     "text": [
      "203/203 [==============================] - 0s 1ms/step\n"
     ]
    }
   ],
   "source": [
    "predictions = model.predict(x_test)"
   ],
   "metadata": {
    "collapsed": false,
    "ExecuteTime": {
     "end_time": "2023-12-02T14:25:00.718597Z",
     "start_time": "2023-12-02T14:25:00.346485100Z"
    }
   },
   "id": "9cdc373f4f593d79"
  },
  {
   "cell_type": "code",
   "execution_count": 150,
   "outputs": [],
   "source": [
    "from sklearn.metrics import mean_squared_error,mean_absolute_error"
   ],
   "metadata": {
    "collapsed": false,
    "ExecuteTime": {
     "end_time": "2023-12-02T14:25:02.519329500Z",
     "start_time": "2023-12-02T14:25:02.503107500Z"
    }
   },
   "id": "8c9056d9e7e84833"
  },
  {
   "cell_type": "code",
   "execution_count": 151,
   "outputs": [
    {
     "name": "stdout",
     "output_type": "stream",
     "text": [
      "MAE:  102251.20859519587\n",
      "MSE:  29578408642.80603\n"
     ]
    }
   ],
   "source": [
    "print('MAE: ',mean_absolute_error(y_test,predictions))\n",
    "print('MSE: ',mean_squared_error(y_test,predictions))"
   ],
   "metadata": {
    "collapsed": false,
    "ExecuteTime": {
     "end_time": "2023-12-02T14:25:03.412910Z",
     "start_time": "2023-12-02T14:25:03.388911300Z"
    }
   },
   "id": "7cb40b2ae41224a"
  },
  {
   "cell_type": "code",
   "execution_count": null,
   "outputs": [],
   "source": [],
   "metadata": {
    "collapsed": false
   },
   "id": "227c1d61f726dbe7"
  }
 ],
 "metadata": {
  "kernelspec": {
   "display_name": "Python 3",
   "language": "python",
   "name": "python3"
  },
  "language_info": {
   "codemirror_mode": {
    "name": "ipython",
    "version": 2
   },
   "file_extension": ".py",
   "mimetype": "text/x-python",
   "name": "python",
   "nbconvert_exporter": "python",
   "pygments_lexer": "ipython2",
   "version": "2.7.6"
  }
 },
 "nbformat": 4,
 "nbformat_minor": 5
}
