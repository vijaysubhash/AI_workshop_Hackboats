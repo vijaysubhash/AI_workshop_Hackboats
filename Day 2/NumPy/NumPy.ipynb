{
  "nbformat": 4,
  "nbformat_minor": 0,
  "metadata": {
    "colab": {
      "provenance": [],
      "collapsed_sections": [
        "QgWc24pWEToU"
      ]
    },
    "kernelspec": {
      "name": "python3",
      "display_name": "Python 3"
    },
    "language_info": {
      "name": "python"
    }
  },
  "cells": [
    {
      "cell_type": "markdown",
      "source": [
        "## NumPy library"
      ],
      "metadata": {
        "id": "QgWc24pWEToU"
      }
    },
    {
      "cell_type": "markdown",
      "source": [
        "Installing library"
      ],
      "metadata": {
        "id": "KJKcl8-5EaLS"
      }
    },
    {
      "cell_type": "code",
      "execution_count": 2,
      "metadata": {
        "colab": {
          "base_uri": "https://localhost:8080/"
        },
        "id": "HUWif9kYEQOt",
        "outputId": "c44534b9-3fdd-40b1-f5aa-e04e4e88aff4"
      },
      "outputs": [
        {
          "output_type": "stream",
          "name": "stdout",
          "text": [
            "Requirement already satisfied: numpy in /usr/local/lib/python3.10/dist-packages (1.23.5)\n"
          ]
        }
      ],
      "source": [
        "!pip install numpy"
      ]
    },
    {
      "cell_type": "markdown",
      "source": [
        "Importing the library"
      ],
      "metadata": {
        "id": "4BXFz6B9EmPO"
      }
    },
    {
      "cell_type": "code",
      "source": [
        "import numpy as np"
      ],
      "metadata": {
        "id": "mz7jhhE6EoV2"
      },
      "execution_count": 3,
      "outputs": []
    },
    {
      "cell_type": "markdown",
      "source": [
        "## Creating Arrays"
      ],
      "metadata": {
        "id": "2QfenlI4E1eA"
      }
    },
    {
      "cell_type": "code",
      "source": [
        "a = np.array([1,2,3])\n",
        "b = np.array([(1,2,3), (4,5,6)], dtype = float)\n",
        "c = np.array([[(1,2,3), (4,5,6)],[(3,2,1), (4,5,6)]], dtype = float)\n",
        "\n",
        "print(\"a: \",a)\n",
        "print(\"\\n\")\n",
        "print(\"b: \",b)\n",
        "print(\"\\n\")\n",
        "print(\"c: \",c)"
      ],
      "metadata": {
        "colab": {
          "base_uri": "https://localhost:8080/"
        },
        "id": "rrhf1uBeGBxH",
        "outputId": "ba01399c-8ddb-4753-f55f-2fdb0a4cc299"
      },
      "execution_count": 46,
      "outputs": [
        {
          "output_type": "stream",
          "name": "stdout",
          "text": [
            "a:  [1 2 3]\n",
            "\n",
            "\n",
            "b:  [[1. 2. 3.]\n",
            " [4. 5. 6.]]\n",
            "\n",
            "\n",
            "c:  [[[1. 2. 3.]\n",
            "  [4. 5. 6.]]\n",
            "\n",
            " [[3. 2. 1.]\n",
            "  [4. 5. 6.]]]\n"
          ]
        }
      ]
    },
    {
      "cell_type": "code",
      "source": [
        "print(type(a))\n",
        "print(type(b))\n",
        "print(type(c))"
      ],
      "metadata": {
        "colab": {
          "base_uri": "https://localhost:8080/"
        },
        "id": "dNyIl8mVHhNE",
        "outputId": "04602aeb-e48d-43cd-97ab-a70c80d9df2c"
      },
      "execution_count": 10,
      "outputs": [
        {
          "output_type": "stream",
          "name": "stdout",
          "text": [
            "<class 'numpy.ndarray'>\n",
            "<class 'numpy.ndarray'>\n",
            "<class 'numpy.ndarray'>\n"
          ]
        }
      ]
    },
    {
      "cell_type": "markdown",
      "source": [
        "## Indexing and Slicing NumPy arrays"
      ],
      "metadata": {
        "id": "NDxD6-hPG35m"
      }
    },
    {
      "cell_type": "markdown",
      "source": [
        "**2D Array**\n",
        "\n",
        "\n",
        "*   first value: index of inner array\n",
        "*   Second value: index of inner element inside that inner array\n",
        "\n"
      ],
      "metadata": {
        "id": "-KPQdY48HE-D"
      }
    },
    {
      "cell_type": "code",
      "source": [
        "print(b[0, 1])\n",
        "print(b[1])\n",
        "print(b[1:3, 0:2])\n",
        "print(b[0:1])"
      ],
      "metadata": {
        "colab": {
          "base_uri": "https://localhost:8080/"
        },
        "id": "TbzQJjW-HDZ8",
        "outputId": "7fa6744e-28d4-441a-b0af-976afe18ca5b"
      },
      "execution_count": 9,
      "outputs": [
        {
          "output_type": "stream",
          "name": "stdout",
          "text": [
            "2.0\n",
            "[4. 5. 6.]\n",
            "[[4. 5.]]\n",
            "[[1. 2. 3.]]\n"
          ]
        }
      ]
    },
    {
      "cell_type": "markdown",
      "source": [
        "**3D Array**\n",
        "\n",
        "\n",
        "*   first value: index of inner 2D array in first dimension\n",
        "*   second value: index of inner 1D array in second dimension\n",
        "*   third value: index of element in third dimension\n",
        "\n",
        "\n",
        "\n"
      ],
      "metadata": {
        "id": "I-L62W4AH2Fq"
      }
    },
    {
      "cell_type": "code",
      "source": [
        "print(c)"
      ],
      "metadata": {
        "colab": {
          "base_uri": "https://localhost:8080/"
        },
        "id": "o6_70tFgITvk",
        "outputId": "ce10094c-6a79-44c8-fd98-5c83b904c17e"
      },
      "execution_count": 12,
      "outputs": [
        {
          "output_type": "stream",
          "name": "stdout",
          "text": [
            "[[[1. 2. 3.]\n",
            "  [4. 5. 6.]]\n",
            "\n",
            " [[3. 2. 1.]\n",
            "  [4. 5. 6.]]]\n"
          ]
        }
      ]
    },
    {
      "cell_type": "code",
      "source": [
        "print(c[1,0,2])\n",
        "print(c[0,1,0])"
      ],
      "metadata": {
        "colab": {
          "base_uri": "https://localhost:8080/"
        },
        "id": "FHUQVFKyIU_l",
        "outputId": "dd5836d6-13a4-4382-ac30-cadfebe6fdc2"
      },
      "execution_count": 13,
      "outputs": [
        {
          "output_type": "stream",
          "name": "stdout",
          "text": [
            "1.0\n",
            "4.0\n"
          ]
        }
      ]
    },
    {
      "cell_type": "markdown",
      "source": [
        "## Shape"
      ],
      "metadata": {
        "id": "E0v4pn_6Im7V"
      }
    },
    {
      "cell_type": "code",
      "source": [
        "print(a)\n",
        "print(f\"Dimension:{a.ndim}, Shape:{a.shape}, Size:{a.size}\")"
      ],
      "metadata": {
        "colab": {
          "base_uri": "https://localhost:8080/"
        },
        "id": "5PU3I8wtIx2g",
        "outputId": "ec405eee-7e7b-4540-b728-33e5ccc0db6d"
      },
      "execution_count": 20,
      "outputs": [
        {
          "output_type": "stream",
          "name": "stdout",
          "text": [
            "[1 2 3]\n",
            "Dimension:1, Shape:(3,), Size:3\n"
          ]
        }
      ]
    },
    {
      "cell_type": "code",
      "source": [
        "print(b)\n",
        "print(f\"Dimension:{b.ndim}, Shape:{b.shape}, Size:{b.size}\")"
      ],
      "metadata": {
        "colab": {
          "base_uri": "https://localhost:8080/"
        },
        "id": "NobF5SnlJAbc",
        "outputId": "c8d5497f-f566-421e-f2b9-1c4c86a8b279"
      },
      "execution_count": 21,
      "outputs": [
        {
          "output_type": "stream",
          "name": "stdout",
          "text": [
            "[[1. 2. 3.]\n",
            " [4. 5. 6.]]\n",
            "Dimension:2, Shape:(2, 3), Size:6\n"
          ]
        }
      ]
    },
    {
      "cell_type": "code",
      "source": [
        "print(c)\n",
        "print(f\"Dimension:{c.ndim}, Shape:{c.shape}, Size:{c.size}\")"
      ],
      "metadata": {
        "colab": {
          "base_uri": "https://localhost:8080/"
        },
        "id": "H5MgxTiaJCzw",
        "outputId": "6784f204-9ea5-44ba-a6a2-271e2c1171cd"
      },
      "execution_count": 22,
      "outputs": [
        {
          "output_type": "stream",
          "name": "stdout",
          "text": [
            "[[[1. 2. 3.]\n",
            "  [4. 5. 6.]]\n",
            "\n",
            " [[3. 2. 1.]\n",
            "  [4. 5. 6.]]]\n",
            "Dimension:3, Shape:(2, 2, 3), Size:12\n"
          ]
        }
      ]
    },
    {
      "cell_type": "markdown",
      "source": [
        "## Basic Numpy Functions"
      ],
      "metadata": {
        "id": "5UAkF5nkJU37"
      }
    },
    {
      "cell_type": "markdown",
      "source": [
        "**linspace**- Creates an array of n equally spaced values from a to b\n",
        "\n",
        "Syntax: np.linspace(a, b, n)\n",
        "\n"
      ],
      "metadata": {
        "id": "Dvz3GhAXJaNt"
      }
    },
    {
      "cell_type": "code",
      "source": [
        "np.linspace(2, 3, 7)"
      ],
      "metadata": {
        "colab": {
          "base_uri": "https://localhost:8080/"
        },
        "id": "bZBiRsb6Jm8V",
        "outputId": "43672245-e3d3-4a7e-f35e-c6be9e44ef1c"
      },
      "execution_count": 25,
      "outputs": [
        {
          "output_type": "execute_result",
          "data": {
            "text/plain": [
              "array([2.        , 2.16666667, 2.33333333, 2.5       , 2.66666667,\n",
              "       2.83333333, 3.        ])"
            ]
          },
          "metadata": {},
          "execution_count": 25
        }
      ]
    },
    {
      "cell_type": "markdown",
      "source": [
        "**logspace** - Creates an array of n equally spaced logarithmically values from a to b   \n",
        "Syntax: **np.logspace(a, b, n)**"
      ],
      "metadata": {
        "id": "JbVgmY2CKB2S"
      }
    },
    {
      "cell_type": "code",
      "source": [
        "np.logspace(0, 2, 5)"
      ],
      "metadata": {
        "colab": {
          "base_uri": "https://localhost:8080/"
        },
        "id": "z4M8pc-TKdOD",
        "outputId": "2a287774-ad3b-47b4-8d72-c0541c305538"
      },
      "execution_count": 26,
      "outputs": [
        {
          "output_type": "execute_result",
          "data": {
            "text/plain": [
              "array([  1.        ,   3.16227766,  10.        ,  31.6227766 ,\n",
              "       100.        ])"
            ]
          },
          "metadata": {},
          "execution_count": 26
        }
      ]
    },
    {
      "cell_type": "markdown",
      "source": [
        "**arrange** - Creates arrays of values from a to b with step size of n\n",
        "\n",
        "Syntax: **np.arrange(a, b, n)**"
      ],
      "metadata": {
        "id": "jitkXXsBKiZM"
      }
    },
    {
      "cell_type": "code",
      "source": [
        "np.arange(10, 20, 2)"
      ],
      "metadata": {
        "colab": {
          "base_uri": "https://localhost:8080/"
        },
        "id": "NH1u9otTKyif",
        "outputId": "1f3e685a-1b43-43f7-c620-358d01e54d3e"
      },
      "execution_count": 28,
      "outputs": [
        {
          "output_type": "execute_result",
          "data": {
            "text/plain": [
              "array([10, 12, 14, 16, 18])"
            ]
          },
          "metadata": {},
          "execution_count": 28
        }
      ]
    },
    {
      "cell_type": "markdown",
      "source": [
        "**zeros** - Creates a 'n x m' array filled with zeros\n",
        "\n",
        "Syntax: **np.zeros((n,m))**"
      ],
      "metadata": {
        "id": "wp9aMAr8LClZ"
      }
    },
    {
      "cell_type": "code",
      "source": [
        "np.zeros((3,4))"
      ],
      "metadata": {
        "colab": {
          "base_uri": "https://localhost:8080/"
        },
        "id": "e_Yh1yxKLQ5L",
        "outputId": "6b198399-83fe-4cf7-bdea-c7c479424fbd"
      },
      "execution_count": 31,
      "outputs": [
        {
          "output_type": "execute_result",
          "data": {
            "text/plain": [
              "array([[0., 0., 0., 0.],\n",
              "       [0., 0., 0., 0.],\n",
              "       [0., 0., 0., 0.]])"
            ]
          },
          "metadata": {},
          "execution_count": 31
        }
      ]
    },
    {
      "cell_type": "markdown",
      "source": [
        "**ones** - Creates a 'n x m' array filled with ones\n",
        "\n",
        "Syntax: **np.ones(n, m)**"
      ],
      "metadata": {
        "id": "Q-NPPbR7Li0-"
      }
    },
    {
      "cell_type": "code",
      "source": [
        "np.ones((2,3))"
      ],
      "metadata": {
        "colab": {
          "base_uri": "https://localhost:8080/"
        },
        "id": "x5-8Mo3cLs9v",
        "outputId": "f820b877-f4e6-48e8-a925-8d84fd398474"
      },
      "execution_count": 32,
      "outputs": [
        {
          "output_type": "execute_result",
          "data": {
            "text/plain": [
              "array([[1., 1., 1.],\n",
              "       [1., 1., 1.]])"
            ]
          },
          "metadata": {},
          "execution_count": 32
        }
      ]
    },
    {
      "cell_type": "markdown",
      "source": [
        "## Array Append and Delete"
      ],
      "metadata": {
        "id": "uoY7PI0aL8cj"
      }
    },
    {
      "cell_type": "markdown",
      "source": [
        " **np.append(arr, list/tuple/element)**\n",
        "\n",
        "**np.delete(arr, index, axis = 0(for row)/1(for column))**"
      ],
      "metadata": {
        "id": "sqfJLSjMMrcQ"
      }
    },
    {
      "cell_type": "code",
      "source": [
        "a = np.append(a, [7,8,9])\n",
        "print(a)"
      ],
      "metadata": {
        "colab": {
          "base_uri": "https://localhost:8080/"
        },
        "id": "_8FLLfkpNFSI",
        "outputId": "7f31f42a-0994-4bac-b4f2-812f9eb01144"
      },
      "execution_count": 43,
      "outputs": [
        {
          "output_type": "stream",
          "name": "stdout",
          "text": [
            "[1 2 3 7 8 9]\n"
          ]
        }
      ]
    },
    {
      "cell_type": "code",
      "source": [
        "np.delete(a, 2, 0)"
      ],
      "metadata": {
        "colab": {
          "base_uri": "https://localhost:8080/"
        },
        "id": "G68X4W2zNh73",
        "outputId": "08191dcd-8bcc-4b01-aff9-b5d9d48f19b2"
      },
      "execution_count": 44,
      "outputs": [
        {
          "output_type": "execute_result",
          "data": {
            "text/plain": [
              "array([1, 2, 7, 8, 9])"
            ]
          },
          "metadata": {},
          "execution_count": 44
        }
      ]
    },
    {
      "cell_type": "code",
      "source": [
        "print(b)\n",
        "np.delete(b, 2, 1)"
      ],
      "metadata": {
        "colab": {
          "base_uri": "https://localhost:8080/"
        },
        "id": "xb5Y0Yk2NqNj",
        "outputId": "0d48dd61-53ad-46cf-a85f-46a38ab079fc"
      },
      "execution_count": 47,
      "outputs": [
        {
          "output_type": "stream",
          "name": "stdout",
          "text": [
            "[[1. 2. 3.]\n",
            " [4. 5. 6.]]\n"
          ]
        },
        {
          "output_type": "execute_result",
          "data": {
            "text/plain": [
              "array([[1., 2.],\n",
              "       [4., 5.]])"
            ]
          },
          "metadata": {},
          "execution_count": 47
        }
      ]
    },
    {
      "cell_type": "markdown",
      "source": [
        "## Reshaping the Arrays"
      ],
      "metadata": {
        "id": "ypclYtWYN5wV"
      }
    },
    {
      "cell_type": "code",
      "source": [
        "arr = np.array([1, 2, 3, 4, 5, 6])\n",
        "arr.reshape(3,2)"
      ],
      "metadata": {
        "colab": {
          "base_uri": "https://localhost:8080/"
        },
        "id": "RtNVZlETO5c3",
        "outputId": "2c55f211-ce03-43d2-d30f-a136a3877e59"
      },
      "execution_count": 49,
      "outputs": [
        {
          "output_type": "execute_result",
          "data": {
            "text/plain": [
              "array([[1, 2],\n",
              "       [3, 4],\n",
              "       [5, 6]])"
            ]
          },
          "metadata": {},
          "execution_count": 49
        }
      ]
    },
    {
      "cell_type": "code",
      "source": [
        "arr = np.array([[1, 2, 3], [4, 5, 6]])\n",
        "arr.reshape(6)"
      ],
      "metadata": {
        "colab": {
          "base_uri": "https://localhost:8080/"
        },
        "id": "6yIiBNMCPF1t",
        "outputId": "3382c618-f122-4080-be37-cf46342263ca"
      },
      "execution_count": 53,
      "outputs": [
        {
          "output_type": "execute_result",
          "data": {
            "text/plain": [
              "array([1, 2, 3, 4, 5, 6])"
            ]
          },
          "metadata": {},
          "execution_count": 53
        }
      ]
    },
    {
      "cell_type": "markdown",
      "source": [
        "## Combining Arrays"
      ],
      "metadata": {
        "id": "w20ugjGTPTsH"
      }
    },
    {
      "cell_type": "code",
      "source": [
        "arr1 = np.array([[1,2,3], [4,5,6]])\n",
        "arr2 = np.array([[7,8,9], [10,11,12]])\n",
        "print(arr1)\n",
        "print(arr2)"
      ],
      "metadata": {
        "colab": {
          "base_uri": "https://localhost:8080/"
        },
        "id": "LXJeYRJAPmoH",
        "outputId": "602be61a-5476-45ee-d1a9-bbb2d003f13c"
      },
      "execution_count": 62,
      "outputs": [
        {
          "output_type": "stream",
          "name": "stdout",
          "text": [
            "[[1 2 3]\n",
            " [4 5 6]]\n",
            "[[ 7  8  9]\n",
            " [10 11 12]]\n"
          ]
        }
      ]
    },
    {
      "cell_type": "code",
      "source": [
        "np.concatenate((arr1, arr2))"
      ],
      "metadata": {
        "colab": {
          "base_uri": "https://localhost:8080/"
        },
        "id": "FZr3HMpbQVuu",
        "outputId": "50ea47aa-0bce-4a7d-aabd-1e595be8b107"
      },
      "execution_count": 63,
      "outputs": [
        {
          "output_type": "execute_result",
          "data": {
            "text/plain": [
              "array([[ 1,  2,  3],\n",
              "       [ 4,  5,  6],\n",
              "       [ 7,  8,  9],\n",
              "       [10, 11, 12]])"
            ]
          },
          "metadata": {},
          "execution_count": 63
        }
      ]
    },
    {
      "cell_type": "code",
      "source": [
        "np.vstack((arr1, arr2))"
      ],
      "metadata": {
        "colab": {
          "base_uri": "https://localhost:8080/"
        },
        "id": "9btqpS63QF-I",
        "outputId": "6950f4c7-723a-4e59-dcdf-02a2b74f561d"
      },
      "execution_count": 59,
      "outputs": [
        {
          "output_type": "execute_result",
          "data": {
            "text/plain": [
              "array([[ 1,  2,  3],\n",
              "       [ 4,  5,  6],\n",
              "       [ 7,  8,  9],\n",
              "       [10, 11, 12]])"
            ]
          },
          "metadata": {},
          "execution_count": 59
        }
      ]
    },
    {
      "cell_type": "code",
      "source": [
        "np.hstack((arr1, arr2))"
      ],
      "metadata": {
        "colab": {
          "base_uri": "https://localhost:8080/"
        },
        "id": "xkkz7_7BQMc8",
        "outputId": "1b14c867-6031-4f74-b64d-82c21cfca4eb"
      },
      "execution_count": 60,
      "outputs": [
        {
          "output_type": "execute_result",
          "data": {
            "text/plain": [
              "array([[ 1,  2,  3,  7,  8,  9],\n",
              "       [ 4,  5,  6, 10, 11, 12]])"
            ]
          },
          "metadata": {},
          "execution_count": 60
        }
      ]
    },
    {
      "cell_type": "markdown",
      "source": [
        "## Array Element-wise Operations"
      ],
      "metadata": {
        "id": "ahelqWuKQanJ"
      }
    },
    {
      "cell_type": "code",
      "source": [
        "add = arr1 + arr2\n",
        "dif = arr1 - arr2\n",
        "mul = arr1 * arr2"
      ],
      "metadata": {
        "id": "2kSooOOwQmm_"
      },
      "execution_count": 64,
      "outputs": []
    },
    {
      "cell_type": "code",
      "source": [
        "print(add)\n",
        "print(dif)\n",
        "print(mul)"
      ],
      "metadata": {
        "colab": {
          "base_uri": "https://localhost:8080/"
        },
        "id": "s6z4XPzjQwJO",
        "outputId": "7cac0d82-9fef-48a1-ae62-577b0d053c11"
      },
      "execution_count": 65,
      "outputs": [
        {
          "output_type": "stream",
          "name": "stdout",
          "text": [
            "[[ 8 10 12]\n",
            " [14 16 18]]\n",
            "[[-6 -6 -6]\n",
            " [-6 -6 -6]]\n",
            "[[ 7 16 27]\n",
            " [40 55 72]]\n"
          ]
        }
      ]
    },
    {
      "cell_type": "markdown",
      "source": [
        "## Aggregating Functions"
      ],
      "metadata": {
        "id": "qroU4qXORA_q"
      }
    },
    {
      "cell_type": "code",
      "source": [
        "arr = [1, 2, 3, 4, 5, 6]\n",
        "print(np.mean(arr))\n",
        "print(np.median(arr))\n",
        "print(np.var(arr1))\n",
        "print(np.std(arr1))\n",
        "print(np.max(arr1))\n",
        "print(np.min(arr1))"
      ],
      "metadata": {
        "colab": {
          "base_uri": "https://localhost:8080/"
        },
        "id": "B4Hf2fQqRHgn",
        "outputId": "3be88cc4-0571-4a9a-ef3a-7bfe0cbd4a3c"
      },
      "execution_count": 67,
      "outputs": [
        {
          "output_type": "stream",
          "name": "stdout",
          "text": [
            "3.5\n",
            "3.5\n",
            "2.9166666666666665\n",
            "1.707825127659933\n",
            "6\n",
            "1\n"
          ]
        }
      ]
    },
    {
      "cell_type": "markdown",
      "source": [
        "## Finding missing values in the matrix"
      ],
      "metadata": {
        "id": "eXkLyfz5RkO8"
      }
    },
    {
      "cell_type": "code",
      "source": [
        "mat = np.array([[1, np.nan, 3], [4, 5, np.nan]])\n",
        "np.isnan(mat)"
      ],
      "metadata": {
        "colab": {
          "base_uri": "https://localhost:8080/"
        },
        "id": "WJ-HNWOMRn3m",
        "outputId": "a59a3e0f-8b5e-44d5-a6a5-1493d65555a6"
      },
      "execution_count": 71,
      "outputs": [
        {
          "output_type": "execute_result",
          "data": {
            "text/plain": [
              "array([[False,  True, False],\n",
              "       [False, False,  True]])"
            ]
          },
          "metadata": {},
          "execution_count": 71
        }
      ]
    }
  ]
}