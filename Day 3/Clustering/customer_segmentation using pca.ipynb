{
 "cells": [
  {
   "cell_type": "code",
   "execution_count": 5,
   "metadata": {
    "ExecuteTime": {
     "end_time": "2023-11-25T12:33:36.059554Z",
     "start_time": "2023-11-25T12:33:35.841051800Z"
    }
   },
   "outputs": [],
   "source": [
    "import pandas as pd\n",
    "\n",
    "import matplotlib.pyplot as plt\n",
    "# import seaborn as sns"
   ]
  },
  {
   "cell_type": "code",
   "execution_count": 6,
   "metadata": {
    "ExecuteTime": {
     "end_time": "2023-11-25T12:33:36.137601900Z",
     "start_time": "2023-11-25T12:33:35.848578700Z"
    }
   },
   "outputs": [],
   "source": [
    "data = pd.read_csv(\"Customers_segmentation.csv\")"
   ]
  },
  {
   "cell_type": "code",
   "execution_count": 7,
   "metadata": {
    "ExecuteTime": {
     "end_time": "2023-11-25T12:33:36.139601400Z",
     "start_time": "2023-11-25T12:33:35.870122100Z"
    }
   },
   "outputs": [
    {
     "data": {
      "text/plain": "   CustomerID  Gender  Age  Annual Income (k$)  Spending Score (1-100)\n0           1    Male   19                  15                      39\n1           2    Male   21                  15                      81\n2           3  Female   20                  16                       6\n3           4  Female   23                  16                      77\n4           5  Female   31                  17                      40",
      "text/html": "<div>\n<style scoped>\n    .dataframe tbody tr th:only-of-type {\n        vertical-align: middle;\n    }\n\n    .dataframe tbody tr th {\n        vertical-align: top;\n    }\n\n    .dataframe thead th {\n        text-align: right;\n    }\n</style>\n<table border=\"1\" class=\"dataframe\">\n  <thead>\n    <tr style=\"text-align: right;\">\n      <th></th>\n      <th>CustomerID</th>\n      <th>Gender</th>\n      <th>Age</th>\n      <th>Annual Income (k$)</th>\n      <th>Spending Score (1-100)</th>\n    </tr>\n  </thead>\n  <tbody>\n    <tr>\n      <th>0</th>\n      <td>1</td>\n      <td>Male</td>\n      <td>19</td>\n      <td>15</td>\n      <td>39</td>\n    </tr>\n    <tr>\n      <th>1</th>\n      <td>2</td>\n      <td>Male</td>\n      <td>21</td>\n      <td>15</td>\n      <td>81</td>\n    </tr>\n    <tr>\n      <th>2</th>\n      <td>3</td>\n      <td>Female</td>\n      <td>20</td>\n      <td>16</td>\n      <td>6</td>\n    </tr>\n    <tr>\n      <th>3</th>\n      <td>4</td>\n      <td>Female</td>\n      <td>23</td>\n      <td>16</td>\n      <td>77</td>\n    </tr>\n    <tr>\n      <th>4</th>\n      <td>5</td>\n      <td>Female</td>\n      <td>31</td>\n      <td>17</td>\n      <td>40</td>\n    </tr>\n  </tbody>\n</table>\n</div>"
     },
     "execution_count": 7,
     "metadata": {},
     "output_type": "execute_result"
    }
   ],
   "source": [
    "data.head()"
   ]
  },
  {
   "cell_type": "code",
   "execution_count": 8,
   "metadata": {
    "ExecuteTime": {
     "end_time": "2023-11-25T12:33:36.140603300Z",
     "start_time": "2023-11-25T12:33:35.890130500Z"
    }
   },
   "outputs": [
    {
     "data": {
      "text/plain": "(200, 5)"
     },
     "execution_count": 8,
     "metadata": {},
     "output_type": "execute_result"
    }
   ],
   "source": [
    "data.shape"
   ]
  },
  {
   "cell_type": "code",
   "execution_count": 9,
   "metadata": {
    "ExecuteTime": {
     "end_time": "2023-11-25T12:33:36.140603300Z",
     "start_time": "2023-11-25T12:33:35.900147500Z"
    }
   },
   "outputs": [
    {
     "data": {
      "text/plain": "CustomerID                0\nGender                    0\nAge                       0\nAnnual Income (k$)        0\nSpending Score (1-100)    0\ndtype: int64"
     },
     "execution_count": 9,
     "metadata": {},
     "output_type": "execute_result"
    }
   ],
   "source": [
    "data.isna().sum()"
   ]
  },
  {
   "cell_type": "code",
   "execution_count": 10,
   "metadata": {
    "ExecuteTime": {
     "end_time": "2023-11-25T12:33:36.141605100Z",
     "start_time": "2023-11-25T12:33:35.912142100Z"
    }
   },
   "outputs": [
    {
     "name": "stdout",
     "output_type": "stream",
     "text": [
      "<class 'pandas.core.frame.DataFrame'>\n",
      "RangeIndex: 200 entries, 0 to 199\n",
      "Data columns (total 5 columns):\n",
      " #   Column                  Non-Null Count  Dtype \n",
      "---  ------                  --------------  ----- \n",
      " 0   CustomerID              200 non-null    int64 \n",
      " 1   Gender                  200 non-null    object\n",
      " 2   Age                     200 non-null    int64 \n",
      " 3   Annual Income (k$)      200 non-null    int64 \n",
      " 4   Spending Score (1-100)  200 non-null    int64 \n",
      "dtypes: int64(4), object(1)\n",
      "memory usage: 7.9+ KB\n"
     ]
    }
   ],
   "source": [
    "data.info()"
   ]
  },
  {
   "cell_type": "code",
   "execution_count": 11,
   "metadata": {
    "ExecuteTime": {
     "end_time": "2023-11-25T12:33:36.156043800Z",
     "start_time": "2023-11-25T12:33:35.939165400Z"
    }
   },
   "outputs": [
    {
     "data": {
      "text/plain": "Index(['CustomerID', 'Gender', 'Age', 'Annual Income (k$)',\n       'Spending Score (1-100)'],\n      dtype='object')"
     },
     "execution_count": 11,
     "metadata": {},
     "output_type": "execute_result"
    }
   ],
   "source": [
    "data.columns"
   ]
  },
  {
   "cell_type": "code",
   "execution_count": 12,
   "metadata": {
    "ExecuteTime": {
     "end_time": "2023-11-25T12:33:36.156043800Z",
     "start_time": "2023-11-25T12:33:35.949312500Z"
    }
   },
   "outputs": [],
   "source": [
    "data.columns = ['CustomerID', 'Gender', 'Age', 'Annual_Income',\n",
    "       'Spending_Score']"
   ]
  },
  {
   "cell_type": "code",
   "execution_count": 13,
   "metadata": {
    "ExecuteTime": {
     "end_time": "2023-11-25T12:33:36.157044700Z",
     "start_time": "2023-11-25T12:33:35.955321100Z"
    }
   },
   "outputs": [
    {
     "data": {
      "text/plain": "   CustomerID  Gender  Age  Annual_Income  Spending_Score\n0           1    Male   19             15              39\n1           2    Male   21             15              81\n2           3  Female   20             16               6\n3           4  Female   23             16              77\n4           5  Female   31             17              40",
      "text/html": "<div>\n<style scoped>\n    .dataframe tbody tr th:only-of-type {\n        vertical-align: middle;\n    }\n\n    .dataframe tbody tr th {\n        vertical-align: top;\n    }\n\n    .dataframe thead th {\n        text-align: right;\n    }\n</style>\n<table border=\"1\" class=\"dataframe\">\n  <thead>\n    <tr style=\"text-align: right;\">\n      <th></th>\n      <th>CustomerID</th>\n      <th>Gender</th>\n      <th>Age</th>\n      <th>Annual_Income</th>\n      <th>Spending_Score</th>\n    </tr>\n  </thead>\n  <tbody>\n    <tr>\n      <th>0</th>\n      <td>1</td>\n      <td>Male</td>\n      <td>19</td>\n      <td>15</td>\n      <td>39</td>\n    </tr>\n    <tr>\n      <th>1</th>\n      <td>2</td>\n      <td>Male</td>\n      <td>21</td>\n      <td>15</td>\n      <td>81</td>\n    </tr>\n    <tr>\n      <th>2</th>\n      <td>3</td>\n      <td>Female</td>\n      <td>20</td>\n      <td>16</td>\n      <td>6</td>\n    </tr>\n    <tr>\n      <th>3</th>\n      <td>4</td>\n      <td>Female</td>\n      <td>23</td>\n      <td>16</td>\n      <td>77</td>\n    </tr>\n    <tr>\n      <th>4</th>\n      <td>5</td>\n      <td>Female</td>\n      <td>31</td>\n      <td>17</td>\n      <td>40</td>\n    </tr>\n  </tbody>\n</table>\n</div>"
     },
     "execution_count": 13,
     "metadata": {},
     "output_type": "execute_result"
    }
   ],
   "source": [
    "data.head()"
   ]
  },
  {
   "cell_type": "code",
   "execution_count": 14,
   "metadata": {
    "ExecuteTime": {
     "end_time": "2023-11-25T12:33:36.158048300Z",
     "start_time": "2023-11-25T12:33:35.970331Z"
    }
   },
   "outputs": [],
   "source": [
    "data['Gender'] = data['Gender'].map({\"Male\":0,\"Female\":1})"
   ]
  },
  {
   "cell_type": "code",
   "execution_count": 15,
   "metadata": {
    "ExecuteTime": {
     "end_time": "2023-11-25T12:33:36.158048300Z",
     "start_time": "2023-11-25T12:33:35.978330600Z"
    }
   },
   "outputs": [],
   "source": [
    "x = data.drop(\"CustomerID\",axis=1)"
   ]
  },
  {
   "cell_type": "code",
   "execution_count": 16,
   "metadata": {
    "ExecuteTime": {
     "end_time": "2023-11-25T12:33:36.159047300Z",
     "start_time": "2023-11-25T12:33:35.987329800Z"
    }
   },
   "outputs": [
    {
     "data": {
      "text/plain": "   Gender  Age  Annual_Income  Spending_Score\n0       0   19             15              39\n1       0   21             15              81\n2       1   20             16               6\n3       1   23             16              77\n4       1   31             17              40",
      "text/html": "<div>\n<style scoped>\n    .dataframe tbody tr th:only-of-type {\n        vertical-align: middle;\n    }\n\n    .dataframe tbody tr th {\n        vertical-align: top;\n    }\n\n    .dataframe thead th {\n        text-align: right;\n    }\n</style>\n<table border=\"1\" class=\"dataframe\">\n  <thead>\n    <tr style=\"text-align: right;\">\n      <th></th>\n      <th>Gender</th>\n      <th>Age</th>\n      <th>Annual_Income</th>\n      <th>Spending_Score</th>\n    </tr>\n  </thead>\n  <tbody>\n    <tr>\n      <th>0</th>\n      <td>0</td>\n      <td>19</td>\n      <td>15</td>\n      <td>39</td>\n    </tr>\n    <tr>\n      <th>1</th>\n      <td>0</td>\n      <td>21</td>\n      <td>15</td>\n      <td>81</td>\n    </tr>\n    <tr>\n      <th>2</th>\n      <td>1</td>\n      <td>20</td>\n      <td>16</td>\n      <td>6</td>\n    </tr>\n    <tr>\n      <th>3</th>\n      <td>1</td>\n      <td>23</td>\n      <td>16</td>\n      <td>77</td>\n    </tr>\n    <tr>\n      <th>4</th>\n      <td>1</td>\n      <td>31</td>\n      <td>17</td>\n      <td>40</td>\n    </tr>\n  </tbody>\n</table>\n</div>"
     },
     "execution_count": 16,
     "metadata": {},
     "output_type": "execute_result"
    }
   ],
   "source": [
    "x.head()"
   ]
  },
  {
   "cell_type": "code",
   "execution_count": 17,
   "metadata": {
    "ExecuteTime": {
     "end_time": "2023-11-25T12:33:37.636981600Z",
     "start_time": "2023-11-25T12:33:36.001361900Z"
    }
   },
   "outputs": [],
   "source": [
    "from sklearn.preprocessing import StandardScaler\n",
    "\n",
    "features = ['Gender','Age', 'Annual_Income', 'Spending_Score']\n",
    "scaler = StandardScaler()\n",
    "x[features] = scaler.fit_transform(x[features])\n"
   ]
  },
  {
   "cell_type": "code",
   "execution_count": 18,
   "metadata": {
    "ExecuteTime": {
     "end_time": "2023-11-25T12:33:37.653023600Z",
     "start_time": "2023-11-25T12:33:37.640985800Z"
    }
   },
   "outputs": [
    {
     "data": {
      "text/plain": "     Gender       Age  Annual_Income  Spending_Score\n0 -1.128152 -1.424569      -1.738999       -0.434801\n1 -1.128152 -1.281035      -1.738999        1.195704\n2  0.886405 -1.352802      -1.700830       -1.715913\n3  0.886405 -1.137502      -1.700830        1.040418\n4  0.886405 -0.563369      -1.662660       -0.395980",
      "text/html": "<div>\n<style scoped>\n    .dataframe tbody tr th:only-of-type {\n        vertical-align: middle;\n    }\n\n    .dataframe tbody tr th {\n        vertical-align: top;\n    }\n\n    .dataframe thead th {\n        text-align: right;\n    }\n</style>\n<table border=\"1\" class=\"dataframe\">\n  <thead>\n    <tr style=\"text-align: right;\">\n      <th></th>\n      <th>Gender</th>\n      <th>Age</th>\n      <th>Annual_Income</th>\n      <th>Spending_Score</th>\n    </tr>\n  </thead>\n  <tbody>\n    <tr>\n      <th>0</th>\n      <td>-1.128152</td>\n      <td>-1.424569</td>\n      <td>-1.738999</td>\n      <td>-0.434801</td>\n    </tr>\n    <tr>\n      <th>1</th>\n      <td>-1.128152</td>\n      <td>-1.281035</td>\n      <td>-1.738999</td>\n      <td>1.195704</td>\n    </tr>\n    <tr>\n      <th>2</th>\n      <td>0.886405</td>\n      <td>-1.352802</td>\n      <td>-1.700830</td>\n      <td>-1.715913</td>\n    </tr>\n    <tr>\n      <th>3</th>\n      <td>0.886405</td>\n      <td>-1.137502</td>\n      <td>-1.700830</td>\n      <td>1.040418</td>\n    </tr>\n    <tr>\n      <th>4</th>\n      <td>0.886405</td>\n      <td>-0.563369</td>\n      <td>-1.662660</td>\n      <td>-0.395980</td>\n    </tr>\n  </tbody>\n</table>\n</div>"
     },
     "execution_count": 18,
     "metadata": {},
     "output_type": "execute_result"
    }
   ],
   "source": [
    "x.head()"
   ]
  },
  {
   "cell_type": "code",
   "execution_count": 19,
   "metadata": {
    "ExecuteTime": {
     "end_time": "2023-11-25T12:33:37.696143400Z",
     "start_time": "2023-11-25T12:33:37.655040300Z"
    }
   },
   "outputs": [],
   "source": [
    "# sns.distplot(x['Annual_Income'],kde=True)\n",
    "# plt.show()\n",
    "# sns.distplot(x['Spending_Score'],kde=True)\n",
    "# plt.show()"
   ]
  },
  {
   "cell_type": "code",
   "execution_count": 20,
   "metadata": {
    "ExecuteTime": {
     "end_time": "2023-11-25T12:33:37.696143400Z",
     "start_time": "2023-11-25T12:33:37.661390700Z"
    }
   },
   "outputs": [],
   "source": [
    "# sns.pairplot(x)\n",
    "# plt.show()"
   ]
  },
  {
   "cell_type": "code",
   "execution_count": 21,
   "metadata": {
    "ExecuteTime": {
     "end_time": "2023-11-25T12:33:37.894067500Z",
     "start_time": "2023-11-25T12:33:37.668050500Z"
    }
   },
   "outputs": [],
   "source": [
    "from sklearn.decomposition import PCA\n",
    "\n",
    "\n",
    "# assume X is a pandas DataFrame containing the data to be transformed\n",
    "pca = PCA(n_components=2)\n",
    "X_pca = pca.fit_transform(x)\n",
    "\n",
    "# convert the transformed data back to a pandas DataFrame for further analysis or visualization\n",
    "X_pca_df = pd.DataFrame(data=X_pca, columns=['f1', 'f2'])"
   ]
  },
  {
   "cell_type": "code",
   "execution_count": 22,
   "metadata": {
    "ExecuteTime": {
     "end_time": "2023-11-25T12:33:37.911616100Z",
     "start_time": "2023-11-25T12:33:37.898602700Z"
    }
   },
   "outputs": [
    {
     "data": {
      "text/plain": "         f1        f2\n0 -0.406383 -0.520714\n1 -1.427673 -0.367310\n2  0.050761 -1.894068\n3 -1.694513 -1.631908\n4 -0.313108 -1.810483",
      "text/html": "<div>\n<style scoped>\n    .dataframe tbody tr th:only-of-type {\n        vertical-align: middle;\n    }\n\n    .dataframe tbody tr th {\n        vertical-align: top;\n    }\n\n    .dataframe thead th {\n        text-align: right;\n    }\n</style>\n<table border=\"1\" class=\"dataframe\">\n  <thead>\n    <tr style=\"text-align: right;\">\n      <th></th>\n      <th>f1</th>\n      <th>f2</th>\n    </tr>\n  </thead>\n  <tbody>\n    <tr>\n      <th>0</th>\n      <td>-0.406383</td>\n      <td>-0.520714</td>\n    </tr>\n    <tr>\n      <th>1</th>\n      <td>-1.427673</td>\n      <td>-0.367310</td>\n    </tr>\n    <tr>\n      <th>2</th>\n      <td>0.050761</td>\n      <td>-1.894068</td>\n    </tr>\n    <tr>\n      <th>3</th>\n      <td>-1.694513</td>\n      <td>-1.631908</td>\n    </tr>\n    <tr>\n      <th>4</th>\n      <td>-0.313108</td>\n      <td>-1.810483</td>\n    </tr>\n  </tbody>\n</table>\n</div>"
     },
     "execution_count": 22,
     "metadata": {},
     "output_type": "execute_result"
    }
   ],
   "source": [
    "X_pca_df.head()"
   ]
  },
  {
   "cell_type": "code",
   "execution_count": 22,
   "metadata": {
    "ExecuteTime": {
     "end_time": "2023-11-25T12:33:37.943837100Z",
     "start_time": "2023-11-25T12:33:37.909616800Z"
    }
   },
   "outputs": [],
   "source": []
  },
  {
   "cell_type": "code",
   "execution_count": 23,
   "metadata": {
    "ExecuteTime": {
     "end_time": "2023-11-25T12:33:38.098603Z",
     "start_time": "2023-11-25T12:33:37.917616900Z"
    }
   },
   "outputs": [],
   "source": [
    "from sklearn.cluster import KMeans"
   ]
  },
  {
   "cell_type": "code",
   "execution_count": 24,
   "metadata": {
    "ExecuteTime": {
     "end_time": "2023-11-25T12:33:38.746189700Z",
     "start_time": "2023-11-25T12:33:38.083784600Z"
    }
   },
   "outputs": [
    {
     "name": "stderr",
     "output_type": "stream",
     "text": [
      "C:\\Python v3.9.7\\lib\\site-packages\\sklearn\\cluster\\_kmeans.py:1416: FutureWarning: The default value of `n_init` will change from 10 to 'auto' in 1.4. Set the value of `n_init` explicitly to suppress the warning\n",
      "  super()._check_params_vs_input(X, default_n_init=10)\n",
      "C:\\Python v3.9.7\\lib\\site-packages\\sklearn\\cluster\\_kmeans.py:1416: FutureWarning: The default value of `n_init` will change from 10 to 'auto' in 1.4. Set the value of `n_init` explicitly to suppress the warning\n",
      "  super()._check_params_vs_input(X, default_n_init=10)\n",
      "C:\\Python v3.9.7\\lib\\site-packages\\sklearn\\cluster\\_kmeans.py:1416: FutureWarning: The default value of `n_init` will change from 10 to 'auto' in 1.4. Set the value of `n_init` explicitly to suppress the warning\n",
      "  super()._check_params_vs_input(X, default_n_init=10)\n",
      "C:\\Python v3.9.7\\lib\\site-packages\\sklearn\\cluster\\_kmeans.py:1416: FutureWarning: The default value of `n_init` will change from 10 to 'auto' in 1.4. Set the value of `n_init` explicitly to suppress the warning\n",
      "  super()._check_params_vs_input(X, default_n_init=10)\n",
      "C:\\Python v3.9.7\\lib\\site-packages\\sklearn\\cluster\\_kmeans.py:1416: FutureWarning: The default value of `n_init` will change from 10 to 'auto' in 1.4. Set the value of `n_init` explicitly to suppress the warning\n",
      "  super()._check_params_vs_input(X, default_n_init=10)\n",
      "C:\\Python v3.9.7\\lib\\site-packages\\sklearn\\cluster\\_kmeans.py:1416: FutureWarning: The default value of `n_init` will change from 10 to 'auto' in 1.4. Set the value of `n_init` explicitly to suppress the warning\n",
      "  super()._check_params_vs_input(X, default_n_init=10)\n",
      "C:\\Python v3.9.7\\lib\\site-packages\\sklearn\\cluster\\_kmeans.py:1416: FutureWarning: The default value of `n_init` will change from 10 to 'auto' in 1.4. Set the value of `n_init` explicitly to suppress the warning\n",
      "  super()._check_params_vs_input(X, default_n_init=10)\n",
      "C:\\Python v3.9.7\\lib\\site-packages\\sklearn\\cluster\\_kmeans.py:1416: FutureWarning: The default value of `n_init` will change from 10 to 'auto' in 1.4. Set the value of `n_init` explicitly to suppress the warning\n",
      "  super()._check_params_vs_input(X, default_n_init=10)\n",
      "C:\\Python v3.9.7\\lib\\site-packages\\sklearn\\cluster\\_kmeans.py:1416: FutureWarning: The default value of `n_init` will change from 10 to 'auto' in 1.4. Set the value of `n_init` explicitly to suppress the warning\n",
      "  super()._check_params_vs_input(X, default_n_init=10)\n",
      "C:\\Python v3.9.7\\lib\\site-packages\\sklearn\\cluster\\_kmeans.py:1416: FutureWarning: The default value of `n_init` will change from 10 to 'auto' in 1.4. Set the value of `n_init` explicitly to suppress the warning\n",
      "  super()._check_params_vs_input(X, default_n_init=10)\n"
     ]
    }
   ],
   "source": [
    "sse_ = []\n",
    "\n",
    "for i in range(1,11):\n",
    "  kmeans = KMeans(n_clusters=i, init='k-means++', random_state=42)\n",
    "  kmeans.fit(X_pca_df)\n",
    "\n",
    "  sse_.append(kmeans.inertia_)"
   ]
  },
  {
   "cell_type": "code",
   "execution_count": 25,
   "metadata": {
    "ExecuteTime": {
     "end_time": "2023-11-25T12:33:38.896654200Z",
     "start_time": "2023-11-25T12:33:38.735728800Z"
    }
   },
   "outputs": [
    {
     "data": {
      "text/plain": "<Figure size 640x480 with 1 Axes>",
      "image/png": "[encoded data removed]"
     },
     "metadata": {},
     "output_type": "display_data"
    }
   ],
   "source": [
    "plt.plot(range(1,11),sse_,marker='*')\n",
    "plt.show()"
   ]
  },
  {
   "cell_type": "code",
   "execution_count": 26,
   "metadata": {
    "ExecuteTime": {
     "end_time": "2023-11-25T12:33:38.986349600Z",
     "start_time": "2023-11-25T12:33:38.897651100Z"
    }
   },
   "outputs": [
    {
     "name": "stderr",
     "output_type": "stream",
     "text": [
      "C:\\Python v3.9.7\\lib\\site-packages\\sklearn\\cluster\\_kmeans.py:1416: FutureWarning: The default value of `n_init` will change from 10 to 'auto' in 1.4. Set the value of `n_init` explicitly to suppress the warning\n",
      "  super()._check_params_vs_input(X, default_n_init=10)\n"
     ]
    }
   ],
   "source": [
    "kmeans = KMeans(n_clusters=4, init='k-means++', random_state=0)\n",
    "\n",
    "Y = kmeans.fit_predict(X_pca_df)\n"
   ]
  },
  {
   "cell_type": "code",
   "execution_count": 27,
   "metadata": {
    "ExecuteTime": {
     "end_time": "2023-11-25T12:33:38.987349500Z",
     "start_time": "2023-11-25T12:33:38.936222200Z"
    }
   },
   "outputs": [
    {
     "data": {
      "text/plain": "         f1        f2  cluster\n0 -0.406383 -0.520714        0\n1 -1.427673 -0.367310        0\n2  0.050761 -1.894068        1\n3 -1.694513 -1.631908        0\n4 -0.313108 -1.810483        1",
      "text/html": "<div>\n<style scoped>\n    .dataframe tbody tr th:only-of-type {\n        vertical-align: middle;\n    }\n\n    .dataframe tbody tr th {\n        vertical-align: top;\n    }\n\n    .dataframe thead th {\n        text-align: right;\n    }\n</style>\n<table border=\"1\" class=\"dataframe\">\n  <thead>\n    <tr style=\"text-align: right;\">\n      <th></th>\n      <th>f1</th>\n      <th>f2</th>\n      <th>cluster</th>\n    </tr>\n  </thead>\n  <tbody>\n    <tr>\n      <th>0</th>\n      <td>-0.406383</td>\n      <td>-0.520714</td>\n      <td>0</td>\n    </tr>\n    <tr>\n      <th>1</th>\n      <td>-1.427673</td>\n      <td>-0.367310</td>\n      <td>0</td>\n    </tr>\n    <tr>\n      <th>2</th>\n      <td>0.050761</td>\n      <td>-1.894068</td>\n      <td>1</td>\n    </tr>\n    <tr>\n      <th>3</th>\n      <td>-1.694513</td>\n      <td>-1.631908</td>\n      <td>0</td>\n    </tr>\n    <tr>\n      <th>4</th>\n      <td>-0.313108</td>\n      <td>-1.810483</td>\n      <td>1</td>\n    </tr>\n  </tbody>\n</table>\n</div>"
     },
     "execution_count": 27,
     "metadata": {},
     "output_type": "execute_result"
    }
   ],
   "source": [
    "X_pca_df['cluster'] = Y\n",
    "X_pca_df.head()"
   ]
  },
  {
   "cell_type": "code",
   "execution_count": 28,
   "metadata": {
    "ExecuteTime": {
     "end_time": "2023-11-25T12:33:38.987349500Z",
     "start_time": "2023-11-25T12:33:38.948771500Z"
    }
   },
   "outputs": [],
   "source": [
    "df1 = X_pca_df[X_pca_df.cluster == 0]\n",
    "df2 = X_pca_df[X_pca_df.cluster == 1]\n",
    "df3 = X_pca_df[X_pca_df.cluster == 2]\n",
    "df4 = X_pca_df[X_pca_df.cluster == 3]\n"
   ]
  },
  {
   "cell_type": "code",
   "execution_count": 33,
   "metadata": {
    "ExecuteTime": {
     "end_time": "2023-11-25T12:35:23.673600300Z",
     "start_time": "2023-11-25T12:35:23.487524100Z"
    }
   },
   "outputs": [
    {
     "data": {
      "text/plain": "<Figure size 800x800 with 1 Axes>",
      "image/png": "[encoded data removed]"
     },
     "metadata": {},
     "output_type": "display_data"
    }
   ],
   "source": [
    "# plotting all the clusters and their Centroids\n",
    "\n",
    "plt.figure(figsize=(8,8))\n",
    "plt.scatter(df1['f1'],df1['f2'], s=50, c='green', label='Cluster 1')\n",
    "plt.scatter(df2['f1'],df2['f2'] , s=50, c='red', label='Cluster 2')\n",
    "plt.scatter(df3['f1'],df3['f2'], s=50, c='yellow', label='Cluster 3')\n",
    "plt.scatter(df4['f1'],df4['f2'], s=50, c='violet', label='Cluster 4')\n",
    "\n",
    "\n",
    "# plot the centroids\n",
    "plt.scatter(kmeans.cluster_centers_[:,0], kmeans.cluster_centers_[:,1], s=100, c='black', label='Centroids')\n",
    "\n",
    "plt.title('Customer Groups')\n",
    "plt.xlabel('f1')\n",
    "plt.ylabel('f2')\n",
    "plt.show()\n"
   ]
  },
  {
   "cell_type": "code",
   "execution_count": 30,
   "metadata": {
    "ExecuteTime": {
     "end_time": "2023-11-25T12:33:39.281085800Z",
     "start_time": "2023-11-25T12:33:39.261508400Z"
    }
   },
   "outputs": [
    {
     "name": "stdout",
     "output_type": "stream",
     "text": [
      "0.5717319994118709\n"
     ]
    }
   ],
   "source": [
    "from sklearn.metrics import  silhouette_score\n",
    "\n",
    "score = silhouette_score(X_pca_df,Y)\n",
    "\n",
    "print(score)\n"
   ]
  },
  {
   "cell_type": "code",
   "execution_count": 30,
   "metadata": {
    "ExecuteTime": {
     "end_time": "2023-11-25T12:33:39.281085800Z",
     "start_time": "2023-11-25T12:33:39.276073400Z"
    }
   },
   "outputs": [],
   "source": []
  }
 ],
 "metadata": {
  "kernelspec": {
   "display_name": "Python 3",
   "language": "python",
   "name": "python3"
  },
  "language_info": {
   "codemirror_mode": {
    "name": "ipython",
    "version": 3
   },
   "file_extension": ".py",
   "mimetype": "text/x-python",
   "name": "python",
   "nbconvert_exporter": "python",
   "pygments_lexer": "ipython3",
   "version": "3.10.10"
  },
  "orig_nbformat": 4
 },
 "nbformat": 4,
 "nbformat_minor": 2
}
