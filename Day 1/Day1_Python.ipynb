{
 "nbformat": 4,
 "nbformat_minor": 0,
 "metadata": {
  "colab": {
   "provenance": [],
   "collapsed_sections": [
    "fnl_74VfrKAd",
    "0NgAVoonslyd",
    "GTVTqDkdunjo",
    "zr9casWPwwuH",
    "uM43-Sca2J_u",
    "nZ9yhAhD66xa",
    "jfecBRd6FITY",
    "EFRobG13HAJj",
    "nO1V-J6pK4jQ"
   ]
  },
  "kernelspec": {
   "name": "python3",
   "language": "python",
   "display_name": "Python 3 (ipykernel)"
  },
  "language_info": {
   "name": "python"
  }
 },
 "cells": [
  {
   "cell_type": "markdown",
   "source": [
    "## Output using print() statement in Python"
   ],
   "metadata": {
    "id": "fnl_74VfrKAd"
   }
  },
  {
   "cell_type": "markdown",
   "source": [
    "Python print() function prints the message to the screen or any other standard output device."
   ],
   "metadata": {
    "id": "LFq2f81TpV4w"
   }
  },
  {
   "cell_type": "code",
   "execution_count": 1,
   "metadata": {
    "colab": {
     "base_uri": "https://localhost:8080/"
    },
    "id": "uxpFOfnanvqh",
    "outputId": "30d02f5f-b117-49bc-bc45-2eb191dc4caa",
    "ExecuteTime": {
     "end_time": "2023-11-22T18:09:18.769433600Z",
     "start_time": "2023-11-22T18:09:18.165275200Z"
    }
   },
   "outputs": [
    {
     "name": "stdout",
     "output_type": "stream",
     "text": [
      "Good morning, everyone. Welcome to the AI Workshop.\n"
     ]
    }
   ],
   "source": [
    "print(\"Good morning, everyone. Welcome to the AI Workshop.\")"
   ]
  },
  {
   "cell_type": "markdown",
   "source": [
    "Python \"end()\" parameter"
   ],
   "metadata": {
    "id": "cA2e8GnWr6d2"
   }
  },
  {
   "cell_type": "code",
   "source": [
    "# we can end a print statement with any character/string using this parameter.\n",
    "print(\"Good morning,\", end = \" \")\n",
    "print(\"This is Vijay\")"
   ],
   "metadata": {
    "colab": {
     "base_uri": "https://localhost:8080/"
    },
    "id": "yV-yDdf8sLis",
    "outputId": "473c0a5f-7fac-4b0f-ce60-8514e2cf835d",
    "ExecuteTime": {
     "end_time": "2023-11-22T18:09:18.781837800Z",
     "start_time": "2023-11-22T18:09:18.204045300Z"
    }
   },
   "execution_count": 2,
   "outputs": [
    {
     "name": "stdout",
     "output_type": "stream",
     "text": [
      "Good morning, This is Vijay\n"
     ]
    }
   ]
  },
  {
   "cell_type": "markdown",
   "source": [
    "## Taking Input from User in Python\n",
    "\n"
   ],
   "metadata": {
    "id": "0NgAVoonslyd"
   }
  },
  {
   "cell_type": "markdown",
   "source": [
    "input (): This function first takes the input from the user and converts it into a string."
   ],
   "metadata": {
    "id": "uui6A149stds"
   }
  },
  {
   "cell_type": "code",
   "source": [
    "college = input(\"Enter your college name: \")"
   ],
   "metadata": {
    "colab": {
     "base_uri": "https://localhost:8080/"
    },
    "id": "yJETKWVnszoU",
    "outputId": "9b664fea-f319-445d-fee8-3a3f57fb793b",
    "ExecuteTime": {
     "end_time": "2023-11-22T18:09:26.408446500Z",
     "start_time": "2023-11-22T18:09:18.217573600Z"
    }
   },
   "execution_count": 3,
   "outputs": []
  },
  {
   "cell_type": "markdown",
   "source": [
    "Taking multiple inputs from the User\n",
    "Using split() method :\n",
    "*  This function helps in getting multiple inputs from users.\n",
    "*  It breaks the given input by the specified separator. If a separator is not provided then any white space is a separator.\n",
    "\n"
   ],
   "metadata": {
    "id": "9EYdB9wStcsj"
   }
  },
  {
   "cell_type": "code",
   "source": [
    "# taking three inputs at a time\n",
    "students, boys, girls = input(\"Enter three values: \").split()\n",
    "print(\"Total number of students: \", students)\n",
    "print(\"Number of boys is : \", boys)\n",
    "print(\"Number of girls is : \", girls)"
   ],
   "metadata": {
    "colab": {
     "base_uri": "https://localhost:8080/"
    },
    "id": "XxcZQIfqt3aL",
    "outputId": "a2280a53-338d-422d-8f3d-1017769b9136",
    "ExecuteTime": {
     "end_time": "2023-11-22T18:09:30.671735100Z",
     "start_time": "2023-11-22T18:09:26.324068600Z"
    }
   },
   "execution_count": 4,
   "outputs": [
    {
     "name": "stdout",
     "output_type": "stream",
     "text": [
      "Total number of students:  10\n",
      "Number of boys is :  20\n",
      "Number of girls is :  30\n"
     ]
    }
   ]
  },
  {
   "cell_type": "markdown",
   "source": [
    "## Python variables"
   ],
   "metadata": {
    "id": "GTVTqDkdunjo"
   }
  },
  {
   "cell_type": "markdown",
   "source": [
    "\n",
    "\n",
    "*   Variables are containers for storing data values.\n",
    "*   A variable is created the moment you first assign a value to it.\n",
    "\n"
   ],
   "metadata": {
    "id": "0ddRZm-AuvZZ"
   }
  },
  {
   "cell_type": "code",
   "source": [
    "instructor_name = \"Mahaan SRK\"\n",
    "experience = 10"
   ],
   "metadata": {
    "id": "oV9C9lh0usyi",
    "ExecuteTime": {
     "end_time": "2023-11-22T18:09:30.673735400Z",
     "start_time": "2023-11-22T18:09:30.636800800Z"
    }
   },
   "execution_count": 5,
   "outputs": []
  },
  {
   "cell_type": "code",
   "source": [
    "print(instructor_name)\n",
    "print(experience)"
   ],
   "metadata": {
    "colab": {
     "base_uri": "https://localhost:8080/"
    },
    "id": "dvS21YaEvNnl",
    "outputId": "f08a9b6a-9971-4edf-b743-6a5e796031e7",
    "ExecuteTime": {
     "end_time": "2023-11-22T18:09:30.674735300Z",
     "start_time": "2023-11-22T18:09:30.647333800Z"
    }
   },
   "execution_count": 6,
   "outputs": [
    {
     "name": "stdout",
     "output_type": "stream",
     "text": [
      "Mahaan SRK\n",
      "11\n"
     ]
    }
   ]
  },
  {
   "cell_type": "markdown",
   "source": [
    "Python allows you to assign values to multiple variables in one line"
   ],
   "metadata": {
    "id": "6NZwJ3gjvWfB"
   }
  },
  {
   "cell_type": "code",
   "source": [
    "teamLead, AiLead, dl_lead, ds_lead, _manager = \"Zameel\", \"Vijay\", \"Jayasri\", \"Naveen\", \"Prasad\"\n",
    "print(teamLead)\n",
    "print(AiLead)\n",
    "print(dl_lead)\n",
    "print(ds_lead)\n",
    "print(_manager)"
   ],
   "metadata": {
    "colab": {
     "base_uri": "https://localhost:8080/"
    },
    "id": "78MY0D2kvc6p",
    "outputId": "80de04d8-173c-4537-a07b-3b004d3cc816",
    "ExecuteTime": {
     "end_time": "2023-11-22T18:09:30.703234600Z",
     "start_time": "2023-11-22T18:09:30.662677Z"
    }
   },
   "execution_count": 7,
   "outputs": [
    {
     "name": "stdout",
     "output_type": "stream",
     "text": [
      "Zameel\n",
      "Vijay\n",
      "Jayasri\n",
      "Naveen\n",
      "Prasad\n"
     ]
    }
   ]
  },
  {
   "cell_type": "markdown",
   "source": [
    "## Python Operators"
   ],
   "metadata": {
    "id": "zr9casWPwwuH"
   }
  },
  {
   "cell_type": "markdown",
   "source": [
    "Operators in general are used to perform operations on values and variables.\n",
    "\n",
    "\n",
    "*  OPERATORS: These are the special symbols. Eg- + , * , /, etc.\n",
    "*   OPERAND: It is the value on which the operator is applied.\n",
    "\n",
    "\n"
   ],
   "metadata": {
    "id": "ws0dBlXCw-sX"
   }
  },
  {
   "cell_type": "markdown",
   "source": [
    "1. Arithmetic Operators (+, -, *, /, //, %, **)"
   ],
   "metadata": {
    "id": "KJAgLmxExSzf"
   }
  },
  {
   "cell_type": "code",
   "source": [
    "a = 8\n",
    "b = 7\n",
    "add = a + b\n",
    "\n",
    "sub = a - b\n",
    "\n",
    "mul = a * b\n",
    "\n",
    "mod = a % b\n",
    "\n",
    "power = a ** b\n",
    "\n",
    "float_div = a / b\n",
    "\n",
    "int_div = a // b\n",
    "\n",
    "print(add)\n",
    "print(sub)\n",
    "print(mul)\n",
    "print(mod)\n",
    "print(power)\n",
    "print(float_div)\n",
    "print(int_div)"
   ],
   "metadata": {
    "colab": {
     "base_uri": "https://localhost:8080/"
    },
    "id": "X6lTrjKgw2Wp",
    "outputId": "1f3c9606-1dc9-4ce1-a7c4-1085cdc7b820",
    "ExecuteTime": {
     "end_time": "2023-11-22T18:09:30.709231Z",
     "start_time": "2023-11-22T18:09:30.678734400Z"
    }
   },
   "execution_count": 8,
   "outputs": [
    {
     "name": "stdout",
     "output_type": "stream",
     "text": [
      "15\n",
      "1\n",
      "56\n",
      "1\n",
      "2097152\n",
      "1.1428571428571428\n",
      "1\n"
     ]
    }
   ]
  },
  {
   "cell_type": "markdown",
   "source": [
    "2. Comparision Operators (>, <, ==, !=, >=, <=)"
   ],
   "metadata": {
    "id": "rSGhS87jx7Mn"
   }
  },
  {
   "cell_type": "code",
   "source": [
    "a = 7\n",
    "b = 18\n",
    "\n",
    "print(a > b)\n",
    "print(a < b)\n",
    "print(a == b)\n",
    "print(a != b)\n",
    "print(a >= b)\n",
    "print(a <= b)"
   ],
   "metadata": {
    "colab": {
     "base_uri": "https://localhost:8080/"
    },
    "id": "ofb4FdBLyhsf",
    "outputId": "24fc5c8f-f680-4281-ad24-cac7ca0157fd",
    "ExecuteTime": {
     "end_time": "2023-11-22T18:09:30.842837600Z",
     "start_time": "2023-11-22T18:09:30.692699800Z"
    }
   },
   "execution_count": 9,
   "outputs": [
    {
     "name": "stdout",
     "output_type": "stream",
     "text": [
      "False\n",
      "True\n",
      "False\n",
      "True\n",
      "False\n",
      "True\n"
     ]
    }
   ]
  },
  {
   "cell_type": "markdown",
   "source": [
    "3. Logical Operators (Logical AND, Logical OR, Logical NOT)"
   ],
   "metadata": {
    "id": "AR-tndIU0FtP"
   }
  },
  {
   "cell_type": "code",
   "source": [
    "a = True\n",
    "b = False\n",
    "print(a and b)\n",
    "print(a or b)\n",
    "print(not a)"
   ],
   "metadata": {
    "colab": {
     "base_uri": "https://localhost:8080/"
    },
    "id": "_TEHrXkv0XT9",
    "outputId": "b02623fa-c490-4554-d921-a8e29221ff8a",
    "ExecuteTime": {
     "end_time": "2023-11-22T18:09:30.866489600Z",
     "start_time": "2023-11-22T18:09:30.708231900Z"
    }
   },
   "execution_count": 10,
   "outputs": [
    {
     "name": "stdout",
     "output_type": "stream",
     "text": [
      "False\n",
      "True\n",
      "False\n"
     ]
    }
   ]
  },
  {
   "cell_type": "markdown",
   "source": [
    "4. Identity Operators (is, is not)"
   ],
   "metadata": {
    "id": "rZufV5E-0oPU"
   }
  },
  {
   "cell_type": "code",
   "source": [
    "a = 18\n",
    "b = 7\n",
    "c = a\n",
    "\n",
    "print(a is not b)\n",
    "print(a is c)"
   ],
   "metadata": {
    "colab": {
     "base_uri": "https://localhost:8080/"
    },
    "id": "LjTmEsUW0q71",
    "outputId": "b8573f1c-df75-4fc4-bafa-102102fbf65c",
    "ExecuteTime": {
     "end_time": "2023-11-22T18:09:30.881474Z",
     "start_time": "2023-11-22T18:09:30.723296800Z"
    }
   },
   "execution_count": 11,
   "outputs": [
    {
     "name": "stdout",
     "output_type": "stream",
     "text": [
      "True\n",
      "True\n"
     ]
    }
   ]
  },
  {
   "cell_type": "markdown",
   "source": [
    "5. Membership Operators (in, not in)"
   ],
   "metadata": {
    "id": "Vw0dTPbg04yS"
   }
  },
  {
   "cell_type": "code",
   "source": [
    "string = \"This is a AI workshop\"\n",
    "print(\"AI\" in string)\n",
    "print(\"Robotics\" in string)\n",
    "print(\"workshop\" not in string)"
   ],
   "metadata": {
    "colab": {
     "base_uri": "https://localhost:8080/"
    },
    "id": "lEKhHUNO08uT",
    "outputId": "f16add09-d8f0-4a5c-f129-424e8a5c9edf",
    "ExecuteTime": {
     "end_time": "2023-11-22T18:09:30.882476Z",
     "start_time": "2023-11-22T18:09:30.741311Z"
    }
   },
   "execution_count": 12,
   "outputs": [
    {
     "name": "stdout",
     "output_type": "stream",
     "text": [
      "True\n",
      "False\n",
      "False\n"
     ]
    }
   ]
  },
  {
   "cell_type": "markdown",
   "source": [
    "## Python Data Types"
   ],
   "metadata": {
    "id": "uM43-Sca2J_u"
   }
  },
  {
   "cell_type": "markdown",
   "source": [
    "You can get the data type of any object by using the \"type()\" function"
   ],
   "metadata": {
    "id": "sMjd3Xt72gzC"
   }
  },
  {
   "cell_type": "code",
   "source": [
    "a = \"Hello Shafi\"\n",
    "b = 7\n",
    "c = 7.55\n",
    "d = 3j\n",
    "\n",
    "print(\"Type of a: \", type(a))\n",
    "print(\"Type of b: \", type(b))\n",
    "print(\"Type of c: \", type(c))\n",
    "print(\"Type of d: \", type(d))"
   ],
   "metadata": {
    "colab": {
     "base_uri": "https://localhost:8080/"
    },
    "id": "-ECwD5n_2VIk",
    "outputId": "1b9345b2-25e4-43e4-967e-17ca06706605",
    "ExecuteTime": {
     "end_time": "2023-11-22T18:09:30.883475100Z",
     "start_time": "2023-11-22T18:09:30.755848Z"
    }
   },
   "execution_count": 13,
   "outputs": [
    {
     "name": "stdout",
     "output_type": "stream",
     "text": [
      "Type of a:  <class 'str'>\n",
      "Type of b:  <class 'int'>\n",
      "Type of c:  <class 'float'>\n",
      "Type of d:  <class 'complex'>\n"
     ]
    }
   ]
  },
  {
   "cell_type": "markdown",
   "source": [
    "Strings"
   ],
   "metadata": {
    "id": "Ju6wk6yP3ME5"
   }
  },
  {
   "cell_type": "code",
   "source": [
    "a = \"This is a String\"\n",
    "b = '''We will create string using single quotes, double quotes and triple quotes'''\n",
    "\n",
    "# Concatenating the strings using +\n",
    "print(a + b)\n",
    "\n",
    "# length of string\n",
    "print(\"\\n\")\n",
    "print(len(a))\n",
    "print(len(b))\n",
    "\n",
    "# String Slicing\n",
    "print(\"\\n\")\n",
    "print(a[:16])\n",
    "print(b[9:])\n",
    "print(b[5:17])\n",
    "print(a[:])\n",
    "\n",
    "# String operations\n",
    "print(\"\\n\")\n",
    "print(a.upper())\n",
    "print(b.lower())\n",
    "print(b.replace(\"quotes\", \"''\"))\n",
    "print(a.split(\" \"))"
   ],
   "metadata": {
    "colab": {
     "base_uri": "https://localhost:8080/"
    },
    "id": "utwhE2ga261O",
    "outputId": "bb95a83c-6f5d-490e-e8c7-80d2a5a90dfd",
    "ExecuteTime": {
     "end_time": "2023-11-22T18:09:30.885475900Z",
     "start_time": "2023-11-22T18:09:30.774577700Z"
    }
   },
   "execution_count": 14,
   "outputs": [
    {
     "name": "stdout",
     "output_type": "stream",
     "text": [
      "This is a StringWe will create string using single quotes, double quotes and triple quotes\n",
      "\n",
      "\n",
      "16\n",
      "74\n",
      "\n",
      "\n",
      "This is a String\n",
      "reate string using single quotes, double quotes and triple quotes\n",
      "ll create st\n",
      "This is a String\n",
      "\n",
      "\n",
      "THIS IS A STRING\n",
      "we will create string using single quotes, double quotes and triple quotes\n",
      "We will create string using single '', double '' and triple ''\n",
      "['This', 'is', 'a', 'String']\n"
     ]
    }
   ]
  },
  {
   "cell_type": "markdown",
   "source": [
    "Data type conversions"
   ],
   "metadata": {
    "id": "hr2SZsru6fEZ"
   }
  },
  {
   "cell_type": "code",
   "source": [
    "a = input(\"Enter any number: \")\n",
    "print(type(a))\n",
    "a = int(a)\n",
    "print(type(a))"
   ],
   "metadata": {
    "colab": {
     "base_uri": "https://localhost:8080/"
    },
    "id": "uzOhu0dg6iMf",
    "outputId": "a195e363-ef12-4535-ed24-45b1ead707af",
    "ExecuteTime": {
     "end_time": "2023-11-22T18:09:33.024390200Z",
     "start_time": "2023-11-22T18:09:30.785728700Z"
    }
   },
   "execution_count": 15,
   "outputs": [
    {
     "name": "stdout",
     "output_type": "stream",
     "text": [
      "<class 'str'>\n",
      "<class 'int'>\n"
     ]
    }
   ]
  },
  {
   "cell_type": "code",
   "source": [
    "b = 5\n",
    "print(type(b))\n",
    "b = float(b)\n",
    "print(type(b))"
   ],
   "metadata": {
    "colab": {
     "base_uri": "https://localhost:8080/"
    },
    "id": "kikelfS26xd_",
    "outputId": "f0612679-5792-46fe-fc49-14bd7221d29f",
    "ExecuteTime": {
     "end_time": "2023-11-22T18:09:33.025388500Z",
     "start_time": "2023-11-22T18:09:32.848298400Z"
    }
   },
   "execution_count": 16,
   "outputs": [
    {
     "name": "stdout",
     "output_type": "stream",
     "text": [
      "<class 'int'>\n",
      "<class 'float'>\n"
     ]
    }
   ]
  },
  {
   "cell_type": "markdown",
   "source": [
    "## Non-primitive Data types"
   ],
   "metadata": {
    "id": "nZ9yhAhD66xa"
   }
  },
  {
   "cell_type": "markdown",
   "source": [
    "1. **Lists** (mutable, ordered, allow duplicates)"
   ],
   "metadata": {
    "id": "V0B_RQS_7G-m"
   }
  },
  {
   "cell_type": "code",
   "source": [
    "cricketers = [\"Dhoni\", \"Virat\", \"Jaddu\", \"Sachin\", \"Dhoni\", 7, 18, True]\n",
    "print(cricketers)\n",
    "print(len(cricketers))\n",
    "print(type(cricketers))"
   ],
   "metadata": {
    "colab": {
     "base_uri": "https://localhost:8080/"
    },
    "id": "flKyKXXh7GbG",
    "outputId": "f419bca2-1710-44c7-bd66-c927586f63a1",
    "ExecuteTime": {
     "end_time": "2023-11-22T18:09:33.028390Z",
     "start_time": "2023-11-22T18:09:32.856826500Z"
    }
   },
   "execution_count": 17,
   "outputs": [
    {
     "name": "stdout",
     "output_type": "stream",
     "text": [
      "['Dhoni', 'Virat', 'Jaddu', 'Sachin', 'Dhoni', 7, 18, True]\n",
      "8\n",
      "<class 'list'>\n"
     ]
    }
   ]
  },
  {
   "cell_type": "markdown",
   "source": [
    "list() constructor to create a new list."
   ],
   "metadata": {
    "id": "GZMoY2L48H7l"
   }
  },
  {
   "cell_type": "code",
   "source": [
    "fruits = list((\"Apple\", \"Cherry\", \"Orange\", \"Kiwi\"))\n",
    "print(fruits)"
   ],
   "metadata": {
    "colab": {
     "base_uri": "https://localhost:8080/"
    },
    "id": "dAXanIef8LFt",
    "outputId": "2646a9fe-0fb9-4fcd-de27-cfbd59bc2f62",
    "ExecuteTime": {
     "end_time": "2023-11-22T18:09:33.044257800Z",
     "start_time": "2023-11-22T18:09:32.872807700Z"
    }
   },
   "execution_count": 18,
   "outputs": [
    {
     "name": "stdout",
     "output_type": "stream",
     "text": [
      "['Apple', 'Cherry', 'Orange', 'Kiwi']\n"
     ]
    }
   ]
  },
  {
   "cell_type": "markdown",
   "source": [
    "List operations"
   ],
   "metadata": {
    "id": "dYndXcmR8jrF"
   }
  },
  {
   "cell_type": "code",
   "source": [
    "# List Slicing\n",
    "print(fruits[:3])\n",
    "print(fruits[1:3])\n",
    "print(fruits[-2])"
   ],
   "metadata": {
    "colab": {
     "base_uri": "https://localhost:8080/"
    },
    "id": "Do0rzNLK8jMn",
    "outputId": "462fb67c-c5c3-4a5e-ae66-e5ce6a355471",
    "ExecuteTime": {
     "end_time": "2023-11-22T18:09:33.045252500Z",
     "start_time": "2023-11-22T18:09:32.889305800Z"
    }
   },
   "execution_count": 19,
   "outputs": [
    {
     "name": "stdout",
     "output_type": "stream",
     "text": [
      "['Apple', 'Cherry', 'Orange']\n",
      "['Cherry', 'Orange']\n",
      "Orange\n"
     ]
    }
   ]
  },
  {
   "cell_type": "code",
   "source": [
    "# Adding and Removing elements\n",
    "fruits.append(\"banana\")\n",
    "print(fruits)"
   ],
   "metadata": {
    "colab": {
     "base_uri": "https://localhost:8080/"
    },
    "id": "M0lOnYIe9nuM",
    "outputId": "c3e35faf-5b10-49f1-a800-ce3b9c02ccb2",
    "ExecuteTime": {
     "end_time": "2023-11-22T18:09:33.046254300Z",
     "start_time": "2023-11-22T18:09:32.905337100Z"
    }
   },
   "execution_count": 20,
   "outputs": [
    {
     "name": "stdout",
     "output_type": "stream",
     "text": [
      "['Apple', 'Cherry', 'Orange', 'Kiwi', 'banana']\n"
     ]
    }
   ]
  },
  {
   "cell_type": "code",
   "source": [
    "fruits.extend(cricketers)\n",
    "print(fruits)"
   ],
   "metadata": {
    "colab": {
     "base_uri": "https://localhost:8080/"
    },
    "id": "ZJ2naIRZ-TpD",
    "outputId": "a539a20e-379a-4455-b546-159a3b8e36c0",
    "ExecuteTime": {
     "end_time": "2023-11-22T18:09:33.047253700Z",
     "start_time": "2023-11-22T18:09:32.919855400Z"
    }
   },
   "execution_count": 21,
   "outputs": [
    {
     "name": "stdout",
     "output_type": "stream",
     "text": [
      "['Apple', 'Cherry', 'Orange', 'Kiwi', 'banana', 'Dhoni', 'Virat', 'Jaddu', 'Sachin', 'Dhoni', 7, 18, True]\n"
     ]
    }
   ]
  },
  {
   "cell_type": "code",
   "source": [
    "fruits.pop(4)\n",
    "del fruits[2]\n",
    "cricketers.remove(True)\n",
    "\n",
    "print(fruits)\n",
    "print(cricketers)"
   ],
   "metadata": {
    "colab": {
     "base_uri": "https://localhost:8080/"
    },
    "id": "nDJYpiOn-bO9",
    "outputId": "c22bd63e-46ba-4d0d-915b-07901ee112b2",
    "ExecuteTime": {
     "end_time": "2023-11-22T18:09:33.048254200Z",
     "start_time": "2023-11-22T18:09:32.937549200Z"
    }
   },
   "execution_count": 22,
   "outputs": [
    {
     "name": "stdout",
     "output_type": "stream",
     "text": [
      "['Apple', 'Cherry', 'Kiwi', 'Dhoni', 'Virat', 'Jaddu', 'Sachin', 'Dhoni', 7, 18, True]\n",
      "['Dhoni', 'Virat', 'Jaddu', 'Sachin', 'Dhoni', 7, 18]\n"
     ]
    }
   ]
  },
  {
   "cell_type": "code",
   "source": [
    "# List operations\n",
    "fruits.reverse()\n",
    "print(fruits)\n",
    "cricketers.count(\"Dhoni\")"
   ],
   "metadata": {
    "colab": {
     "base_uri": "https://localhost:8080/"
    },
    "id": "bdtOsy2a-3qT",
    "outputId": "50140b3c-97ad-44d7-e0a7-78e1cf877b51",
    "ExecuteTime": {
     "end_time": "2023-11-22T18:09:33.056784500Z",
     "start_time": "2023-11-22T18:09:32.952599400Z"
    }
   },
   "execution_count": 23,
   "outputs": [
    {
     "name": "stdout",
     "output_type": "stream",
     "text": [
      "[True, 18, 7, 'Dhoni', 'Sachin', 'Jaddu', 'Virat', 'Dhoni', 'Kiwi', 'Cherry', 'Apple']\n"
     ]
    },
    {
     "data": {
      "text/plain": "2"
     },
     "execution_count": 23,
     "metadata": {},
     "output_type": "execute_result"
    }
   ]
  },
  {
   "cell_type": "markdown",
   "source": [
    "2. **Tuples** (ordered, immutable, allow duplicates)"
   ],
   "metadata": {
    "id": "RWtVkk_f_NIS"
   }
  },
  {
   "cell_type": "code",
   "source": [
    "languages = (\"English\", \"Telugu\", \"Hindi\", \"Spanish\")\n",
    "print(languages)\n",
    "print(len(languages))\n",
    "print(type(languages))"
   ],
   "metadata": {
    "colab": {
     "base_uri": "https://localhost:8080/"
    },
    "id": "bvkF9ltG_avy",
    "outputId": "b8c66445-9f96-43b2-8941-afa9c74612a6",
    "ExecuteTime": {
     "end_time": "2023-11-22T18:09:33.057783200Z",
     "start_time": "2023-11-22T18:09:32.969118900Z"
    }
   },
   "execution_count": 24,
   "outputs": [
    {
     "name": "stdout",
     "output_type": "stream",
     "text": [
      "('English', 'Telugu', 'Hindi', 'Spanish')\n",
      "4\n",
      "<class 'tuple'>\n"
     ]
    }
   ]
  },
  {
   "cell_type": "markdown",
   "source": [
    "tuple() constructor to make a tuple."
   ],
   "metadata": {
    "id": "DUhOCHxQAEiR"
   }
  },
  {
   "cell_type": "code",
   "source": [
    "languages2 = tuple((\"French\", \"Dharug\", \"Italain\"))"
   ],
   "metadata": {
    "id": "E_InB_2P_8Za",
    "ExecuteTime": {
     "end_time": "2023-11-22T18:09:33.059779800Z",
     "start_time": "2023-11-22T18:09:32.982812800Z"
    }
   },
   "execution_count": 25,
   "outputs": []
  },
  {
   "cell_type": "markdown",
   "source": [
    "Tuple Operations"
   ],
   "metadata": {
    "id": "TUCwUHiBAVhS"
   }
  },
  {
   "cell_type": "code",
   "source": [
    "print(languages[2])\n",
    "print(languages2[1:3])\n",
    "print(languages[-3])"
   ],
   "metadata": {
    "colab": {
     "base_uri": "https://localhost:8080/"
    },
    "id": "6sp2iZEoAYRS",
    "outputId": "6036f22d-cc34-4328-f621-4710da421369",
    "ExecuteTime": {
     "end_time": "2023-11-22T18:09:33.060778300Z",
     "start_time": "2023-11-22T18:09:32.999515200Z"
    }
   },
   "execution_count": 26,
   "outputs": [
    {
     "name": "stdout",
     "output_type": "stream",
     "text": [
      "Hindi\n",
      "('Dharug', 'Italain')\n",
      "Telugu\n"
     ]
    }
   ]
  },
  {
   "cell_type": "code",
   "source": [
    "languages = list(languages)\n",
    "languages.append(languages2)\n",
    "print(languages)"
   ],
   "metadata": {
    "colab": {
     "base_uri": "https://localhost:8080/"
    },
    "id": "vQyLwGt9AwgD",
    "outputId": "7c8042ec-a2b3-4f20-82e0-5118f1a1ab89",
    "ExecuteTime": {
     "end_time": "2023-11-22T18:09:33.080830300Z",
     "start_time": "2023-11-22T18:09:33.012871800Z"
    }
   },
   "execution_count": 27,
   "outputs": [
    {
     "name": "stdout",
     "output_type": "stream",
     "text": [
      "['English', 'Telugu', 'Hindi', 'Spanish', ('French', 'Dharug', 'Italain')]\n"
     ]
    }
   ]
  },
  {
   "cell_type": "code",
   "source": [
    "del(languages)\n",
    "print(languages)"
   ],
   "metadata": {
    "colab": {
     "base_uri": "https://localhost:8080/",
     "height": 192
    },
    "id": "xo_fWBlkBFLw",
    "outputId": "6a0cc62b-18f4-4c58-a471-9c83af633060",
    "ExecuteTime": {
     "end_time": "2023-11-22T18:09:33.460497600Z",
     "start_time": "2023-11-22T18:09:33.030897200Z"
    }
   },
   "execution_count": 28,
   "outputs": [
    {
     "ename": "NameError",
     "evalue": "name 'languages' is not defined",
     "output_type": "error",
     "traceback": [
      "\u001B[1;31m---------------------------------------------------------------------------\u001B[0m",
      "\u001B[1;31mNameError\u001B[0m                                 Traceback (most recent call last)",
      "Cell \u001B[1;32mIn[28], line 2\u001B[0m\n\u001B[0;32m      1\u001B[0m \u001B[38;5;28;01mdel\u001B[39;00m(languages)\n\u001B[1;32m----> 2\u001B[0m \u001B[38;5;28mprint\u001B[39m(\u001B[43mlanguages\u001B[49m)\n",
      "\u001B[1;31mNameError\u001B[0m: name 'languages' is not defined"
     ]
    }
   ]
  },
  {
   "cell_type": "markdown",
   "source": [
    "3. **Dictionaries** (mutable, ordered, no duplicates)"
   ],
   "metadata": {
    "id": "JW5OEktnBRiQ"
   }
  },
  {
   "cell_type": "code",
   "source": [
    "cities = {\"Australia\":\"Sydney\", \"India\":\"Madras\", \"Italy\":\"Flourence\"}\n",
    "print(cities)\n",
    "print(len(cities))\n",
    "print(type(cities))"
   ],
   "metadata": {
    "colab": {
     "base_uri": "https://localhost:8080/"
    },
    "id": "m_u_7_XABbLZ",
    "outputId": "61eee997-a0ec-4f4a-ab7a-861c4fc7133f",
    "ExecuteTime": {
     "end_time": "2023-11-22T18:10:15.355668Z",
     "start_time": "2023-11-22T18:10:15.321019400Z"
    }
   },
   "execution_count": 29,
   "outputs": [
    {
     "name": "stdout",
     "output_type": "stream",
     "text": [
      "{'Australia': 'Sydney', 'India': 'Madras', 'Italy': 'Flourence'}\n",
      "3\n",
      "<class 'dict'>\n"
     ]
    }
   ]
  },
  {
   "cell_type": "markdown",
   "source": [
    "dict() constructor to make a dictionary."
   ],
   "metadata": {
    "id": "VIM0uy1RCObw"
   }
  },
  {
   "cell_type": "code",
   "source": [
    "cities2 = dict(France =\"Paris\", California = \"Los Angeles\")\n",
    "print(cities2)"
   ],
   "metadata": {
    "colab": {
     "base_uri": "https://localhost:8080/"
    },
    "id": "kshDYUuxCCWA",
    "outputId": "786672ef-9a02-4826-e4ec-6f94c639491c",
    "ExecuteTime": {
     "end_time": "2023-11-22T18:10:17.547027700Z",
     "start_time": "2023-11-22T18:10:17.522452500Z"
    }
   },
   "execution_count": 30,
   "outputs": [
    {
     "name": "stdout",
     "output_type": "stream",
     "text": [
      "{'France': 'Paris', 'California': 'Los Angeles'}\n"
     ]
    }
   ]
  },
  {
   "cell_type": "code",
   "source": [
    "# Accessing Dict elements\n",
    "print(cities[\"Australia\"])\n",
    "print(cities2.get('France'))"
   ],
   "metadata": {
    "colab": {
     "base_uri": "https://localhost:8080/"
    },
    "id": "u1MbtbLuDNxv",
    "outputId": "d13c27b4-24ab-4c48-c45a-c4f21147ff1b",
    "ExecuteTime": {
     "end_time": "2023-11-22T18:10:18.128776Z",
     "start_time": "2023-11-22T18:10:18.107403400Z"
    }
   },
   "execution_count": 31,
   "outputs": [
    {
     "name": "stdout",
     "output_type": "stream",
     "text": [
      "Sydney\n",
      "Paris\n"
     ]
    }
   ]
  },
  {
   "cell_type": "code",
   "source": [
    "print(cities.items())"
   ],
   "metadata": {
    "colab": {
     "base_uri": "https://localhost:8080/"
    },
    "id": "3_gjbzIODkxw",
    "outputId": "86f1a46e-4dc8-40e8-fce2-d4973d120971",
    "ExecuteTime": {
     "end_time": "2023-11-22T18:10:18.551519900Z",
     "start_time": "2023-11-22T18:10:18.523607700Z"
    }
   },
   "execution_count": 32,
   "outputs": [
    {
     "name": "stdout",
     "output_type": "stream",
     "text": [
      "dict_items([('Australia', 'Sydney'), ('India', 'Madras'), ('Italy', 'Flourence')])\n"
     ]
    }
   ]
  },
  {
   "cell_type": "code",
   "source": [
    "# Updating elements\n",
    "cities[\"India\"] = \"Kakinada\"\n",
    "cities.update({\"Africa\" : \"Cape Town\"})\n",
    "print(cities)"
   ],
   "metadata": {
    "colab": {
     "base_uri": "https://localhost:8080/"
    },
    "id": "SiXYuTT8DopB",
    "outputId": "5481c512-4523-4002-f802-8665d0ce53d2",
    "ExecuteTime": {
     "end_time": "2023-11-22T18:10:19.073580700Z",
     "start_time": "2023-11-22T18:10:19.063055300Z"
    }
   },
   "execution_count": 33,
   "outputs": [
    {
     "name": "stdout",
     "output_type": "stream",
     "text": [
      "{'Australia': 'Sydney', 'India': 'Kakinada', 'Italy': 'Flourence', 'Africa': 'Cape Town'}\n"
     ]
    }
   ]
  },
  {
   "cell_type": "code",
   "source": [
    "# Removing elements\n",
    "cities.pop(\"India\")\n",
    "cities.popitem()\n",
    "print(cities)"
   ],
   "metadata": {
    "colab": {
     "base_uri": "https://localhost:8080/"
    },
    "id": "Ag53AoGWEFq2",
    "outputId": "c159f9f7-0baf-4dac-fcd8-6ee83034c2a2",
    "ExecuteTime": {
     "end_time": "2023-11-22T18:10:19.518556500Z",
     "start_time": "2023-11-22T18:10:19.477288700Z"
    }
   },
   "execution_count": 34,
   "outputs": [
    {
     "name": "stdout",
     "output_type": "stream",
     "text": [
      "{'Australia': 'Sydney', 'Italy': 'Flourence'}\n"
     ]
    }
   ]
  },
  {
   "cell_type": "markdown",
   "source": [
    "## Conditional Statements"
   ],
   "metadata": {
    "id": "jfecBRd6FITY"
   }
  },
  {
   "cell_type": "markdown",
   "source": [
    "**If...Else**"
   ],
   "metadata": {
    "id": "vStzFa4vFLhn"
   }
  },
  {
   "cell_type": "code",
   "source": [
    "# Check whether integer is positive or negative\n",
    "num = int(input())\n",
    "if num > 0:\n",
    "  print(\"Given num {0} is positive integer\".format(num))\n",
    "elif num < 0:\n",
    "  print(\"Given num {0} is negative interger\".format(num))\n",
    "else:\n",
    "  print(\"Given num {} is neither negative or positive integer\".format(num))"
   ],
   "metadata": {
    "colab": {
     "base_uri": "https://localhost:8080/"
    },
    "id": "8CnQQgj7FhF8",
    "outputId": "1698dd31-6222-4b93-b7a1-2ba45da92d0d",
    "ExecuteTime": {
     "end_time": "2023-11-22T18:10:26.084193800Z",
     "start_time": "2023-11-22T18:10:22.600450300Z"
    }
   },
   "execution_count": 35,
   "outputs": [
    {
     "name": "stdout",
     "output_type": "stream",
     "text": [
      "Given num 4 is positive integer\n"
     ]
    }
   ]
  },
  {
   "cell_type": "markdown",
   "source": [
    "## Looping Statements"
   ],
   "metadata": {
    "id": "EFRobG13HAJj"
   }
  },
  {
   "cell_type": "markdown",
   "source": [
    "**For** loop"
   ],
   "metadata": {
    "id": "u-4fGz_IHDuU"
   }
  },
  {
   "cell_type": "code",
   "source": [
    "# List of items and their prices\n",
    "items = [\n",
    "    {\"name\": \"Laptop\", \"price\": 100},\n",
    "    {\"name\": \"Mouse\", \"price\": 25},\n",
    "    {\"name\": \"Headphones\", \"price\": 30}]\n",
    "\n",
    "# Initialize total cost\n",
    "total_cost = 0\n",
    "\n",
    "# Calculate the total cost using a for loop\n",
    "for item in items:\n",
    "    total_cost += item[\"price\"]\n",
    "\n",
    "# Print the result\n",
    "print(f\"The total cost of the items in the shopping cart is: ${total_cost:.2f}\")\n"
   ],
   "metadata": {
    "colab": {
     "base_uri": "https://localhost:8080/"
    },
    "id": "Cj9x8vaEHFtD",
    "outputId": "351917c2-186a-4950-a34e-bb583fed6fbf",
    "ExecuteTime": {
     "end_time": "2023-11-22T18:10:29.160237Z",
     "start_time": "2023-11-22T18:10:29.112811200Z"
    }
   },
   "execution_count": 36,
   "outputs": [
    {
     "name": "stdout",
     "output_type": "stream",
     "text": [
      "The total cost of the items in the shopping cart is: $155.00\n"
     ]
    }
   ]
  },
  {
   "cell_type": "markdown",
   "source": [
    "**While** loop"
   ],
   "metadata": {
    "id": "65FG-h1pHn-K"
   }
  },
  {
   "cell_type": "code",
   "source": [
    "# Simple program to simulate a countdown\n",
    "countdown = 10\n",
    "\n",
    "print(\"Starting countdown...\")\n",
    "while countdown > 0:\n",
    "    print(countdown)\n",
    "    countdown -= 1\n",
    "\n",
    "print(\"Blastoff!\")\n"
   ],
   "metadata": {
    "colab": {
     "base_uri": "https://localhost:8080/"
    },
    "id": "yiQOodNfHpms",
    "outputId": "76481a94-efa5-40a0-cd66-e16fdcdbab57",
    "ExecuteTime": {
     "end_time": "2023-11-22T18:10:30.315670500Z",
     "start_time": "2023-11-22T18:10:30.298633900Z"
    }
   },
   "execution_count": 37,
   "outputs": [
    {
     "name": "stdout",
     "output_type": "stream",
     "text": [
      "Starting countdown...\n",
      "10\n",
      "9\n",
      "8\n",
      "7\n",
      "6\n",
      "5\n",
      "4\n",
      "3\n",
      "2\n",
      "1\n",
      "Blastoff!\n"
     ]
    }
   ]
  },
  {
   "cell_type": "markdown",
   "source": [
    "## Functions"
   ],
   "metadata": {
    "id": "3C1dFTSxIROt"
   }
  },
  {
   "cell_type": "code",
   "source": [
    "# Creating a Function\n",
    "def my_name(fname, lname):\n",
    "  print(fname + \" \" + lname)\n",
    "\n",
    "# Calling function\n",
    "my_name(\"Zameel\", \"Ali\")\n",
    "\n",
    "# user inputs\n",
    "fname,lname = input(), input()\n",
    "my_name(fname, lname)"
   ],
   "metadata": {
    "colab": {
     "base_uri": "https://localhost:8080/"
    },
    "id": "MRhtLCRgIemq",
    "outputId": "59e724dd-b3f0-4833-dfe4-ee49183af82e",
    "ExecuteTime": {
     "end_time": "2023-11-22T18:10:40.995365300Z",
     "start_time": "2023-11-22T18:10:33.601228300Z"
    }
   },
   "execution_count": 38,
   "outputs": [
    {
     "name": "stdout",
     "output_type": "stream",
     "text": [
      "Zameel Ali\n",
      "vijay subash\n"
     ]
    }
   ]
  },
  {
   "cell_type": "markdown",
   "source": [
    "**lambda function** : A lambda function can take any number of arguments, but can only have one expression."
   ],
   "metadata": {
    "id": "UO7XvKmXJaka"
   }
  },
  {
   "cell_type": "code",
   "source": [
    "# Define a lambda function for calculating simple interest\n",
    "calculate_simple_interest = lambda p, t, r: (p * t * r) / 100\n",
    "\n",
    "principal_amount = float(input(\"Enter the principal amount: \"))\n",
    "interest_rate = float(input(\"Enter the annual interest rate: \"))\n",
    "time_period = float(input(\"Enter the time period (in years): \"))\n",
    "\n",
    "# Calculate simple interest using the lambda function\n",
    "simple_interest = calculate_simple_interest(principal_amount, interest_rate, time_period)\n",
    "\n",
    "# Display the result\n",
    "print(\"Simple Interest: {}\".format(simple_interest))\n"
   ],
   "metadata": {
    "colab": {
     "base_uri": "https://localhost:8080/"
    },
    "id": "aEgt4CdjJebw",
    "outputId": "31c1339f-b10b-4fcb-a5c7-6021fd6c3340",
    "ExecuteTime": {
     "end_time": "2023-11-22T18:10:50.294451400Z",
     "start_time": "2023-11-22T18:10:45.100237500Z"
    }
   },
   "execution_count": 39,
   "outputs": [
    {
     "name": "stdout",
     "output_type": "stream",
     "text": [
      "Simple Interest: 60.0\n"
     ]
    }
   ]
  },
  {
   "cell_type": "markdown",
   "source": [
    "## File Handling"
   ],
   "metadata": {
    "id": "nO1V-J6pK4jQ"
   }
  },
  {
   "cell_type": "markdown",
   "source": [
    "**open()**"
   ],
   "metadata": {
    "id": "PeZb2RKnK78Z"
   }
  },
  {
   "cell_type": "code",
   "source": [
    "f = open(\"text.txt\")"
   ],
   "metadata": {
    "id": "ezBXVF7hLAZU",
    "ExecuteTime": {
     "end_time": "2023-11-22T18:10:53.516088Z",
     "start_time": "2023-11-22T18:10:53.426354100Z"
    }
   },
   "execution_count": 40,
   "outputs": []
  },
  {
   "cell_type": "markdown",
   "source": [
    "**read()**"
   ],
   "metadata": {
    "id": "cv8nmxL7MH4I"
   }
  },
  {
   "cell_type": "code",
   "source": [
    "# print(f.read())"
   ],
   "metadata": {
    "id": "0zgjAc3MML7v",
    "ExecuteTime": {
     "end_time": "2023-11-22T18:10:56.606588500Z",
     "start_time": "2023-11-22T18:10:56.586856Z"
    }
   },
   "execution_count": 41,
   "outputs": []
  },
  {
   "cell_type": "code",
   "source": [
    "# print(f.readline())\n",
    "# print(f.readline())"
   ],
   "metadata": {
    "id": "brx0YdgNMObw",
    "ExecuteTime": {
     "end_time": "2023-11-22T18:10:57.100126700Z",
     "start_time": "2023-11-22T18:10:57.077343300Z"
    }
   },
   "execution_count": 42,
   "outputs": []
  },
  {
   "cell_type": "markdown",
   "source": [
    "**write()**"
   ],
   "metadata": {
    "id": "OP-pRmdEMjwe"
   }
  },
  {
   "cell_type": "code",
   "source": [
    "f = open(\"text.txt\", \"a\")\n",
    "f.write(\"\\nGreetings from AI team\")\n",
    "f.close()\n",
    "\n",
    "#open and read the file after the appending:\n",
    "f = open(\"text.txt\", \"r\")\n",
    "print(f.read())"
   ],
   "metadata": {
    "colab": {
     "base_uri": "https://localhost:8080/"
    },
    "id": "B2TqtLW7MjTX",
    "outputId": "335c10c7-a360-4997-95e1-1719483e6e1f",
    "ExecuteTime": {
     "end_time": "2023-11-22T18:10:58.441469700Z",
     "start_time": "2023-11-22T18:10:58.380351300Z"
    }
   },
   "execution_count": 43,
   "outputs": [
    {
     "name": "stdout",
     "output_type": "stream",
     "text": [
      "Hello Everyone!\n",
      "This is Jayasri from the AI team.\n",
      "This file is created for text purpose.\n",
      "Greetings from AI team\n"
     ]
    }
   ]
  },
  {
   "cell_type": "code",
   "source": [
    "f = open(\"text.txt\", \"w\")\n",
    "f.write(\"Content has been deleted\")\n",
    "f.close()\n",
    "\n",
    "#open and read the file after the overwriting:\n",
    "f = open(\"text.txt\", \"r\")\n",
    "print(f.read())"
   ],
   "metadata": {
    "colab": {
     "base_uri": "https://localhost:8080/"
    },
    "id": "Q1i4V8W1M323",
    "outputId": "b3b8a73f-ea53-4bb1-f9f4-e8aee8be7a31",
    "ExecuteTime": {
     "end_time": "2023-11-22T18:10:59.862305700Z",
     "start_time": "2023-11-22T18:10:59.843189400Z"
    }
   },
   "execution_count": 44,
   "outputs": [
    {
     "name": "stdout",
     "output_type": "stream",
     "text": [
      "Content has been deleted\n"
     ]
    }
   ]
  },
  {
   "cell_type": "markdown",
   "source": [
    "Creating a file"
   ],
   "metadata": {
    "id": "-70xdwEZNMzQ"
   }
  },
  {
   "cell_type": "code",
   "source": [
    "f = open(\"createtestfile.txt\", \"x\")"
   ],
   "metadata": {
    "id": "nlHMUuPUNQPt",
    "ExecuteTime": {
     "end_time": "2023-11-22T18:11:04.823090500Z",
     "start_time": "2023-11-22T18:11:04.800093600Z"
    }
   },
   "execution_count": 45,
   "outputs": []
  },
  {
   "cell_type": "code",
   "source": [
    "f = open(\"text.txt\", \"x\")"
   ],
   "metadata": {
    "colab": {
     "base_uri": "https://localhost:8080/",
     "height": 175
    },
    "id": "BmIcr9LsNXp2",
    "outputId": "21846bbb-cc88-4697-851b-18c3bd554441",
    "ExecuteTime": {
     "end_time": "2023-11-22T18:11:06.108524500Z",
     "start_time": "2023-11-22T18:11:05.999266500Z"
    }
   },
   "execution_count": 46,
   "outputs": [
    {
     "ename": "FileExistsError",
     "evalue": "[Errno 17] File exists: 'text.txt'",
     "output_type": "error",
     "traceback": [
      "\u001B[1;31m---------------------------------------------------------------------------\u001B[0m",
      "\u001B[1;31mFileExistsError\u001B[0m                           Traceback (most recent call last)",
      "Cell \u001B[1;32mIn[46], line 1\u001B[0m\n\u001B[1;32m----> 1\u001B[0m f \u001B[38;5;241m=\u001B[39m \u001B[38;5;28;43mopen\u001B[39;49m\u001B[43m(\u001B[49m\u001B[38;5;124;43m\"\u001B[39;49m\u001B[38;5;124;43mtext.txt\u001B[39;49m\u001B[38;5;124;43m\"\u001B[39;49m\u001B[43m,\u001B[49m\u001B[43m \u001B[49m\u001B[38;5;124;43m\"\u001B[39;49m\u001B[38;5;124;43mx\u001B[39;49m\u001B[38;5;124;43m\"\u001B[39;49m\u001B[43m)\u001B[49m\n",
      "File \u001B[1;32mC:\\Python v3.9.7\\lib\\site-packages\\IPython\\core\\interactiveshell.py:308\u001B[0m, in \u001B[0;36m_modified_open\u001B[1;34m(file, *args, **kwargs)\u001B[0m\n\u001B[0;32m    301\u001B[0m \u001B[38;5;28;01mif\u001B[39;00m file \u001B[38;5;129;01min\u001B[39;00m {\u001B[38;5;241m0\u001B[39m, \u001B[38;5;241m1\u001B[39m, \u001B[38;5;241m2\u001B[39m}:\n\u001B[0;32m    302\u001B[0m     \u001B[38;5;28;01mraise\u001B[39;00m \u001B[38;5;167;01mValueError\u001B[39;00m(\n\u001B[0;32m    303\u001B[0m         \u001B[38;5;124mf\u001B[39m\u001B[38;5;124m\"\u001B[39m\u001B[38;5;124mIPython won\u001B[39m\u001B[38;5;124m'\u001B[39m\u001B[38;5;124mt let you open fd=\u001B[39m\u001B[38;5;132;01m{\u001B[39;00mfile\u001B[38;5;132;01m}\u001B[39;00m\u001B[38;5;124m by default \u001B[39m\u001B[38;5;124m\"\u001B[39m\n\u001B[0;32m    304\u001B[0m         \u001B[38;5;124m\"\u001B[39m\u001B[38;5;124mas it is likely to crash IPython. If you know what you are doing, \u001B[39m\u001B[38;5;124m\"\u001B[39m\n\u001B[0;32m    305\u001B[0m         \u001B[38;5;124m\"\u001B[39m\u001B[38;5;124myou can use builtins\u001B[39m\u001B[38;5;124m'\u001B[39m\u001B[38;5;124m open.\u001B[39m\u001B[38;5;124m\"\u001B[39m\n\u001B[0;32m    306\u001B[0m     )\n\u001B[1;32m--> 308\u001B[0m \u001B[38;5;28;01mreturn\u001B[39;00m io_open(file, \u001B[38;5;241m*\u001B[39margs, \u001B[38;5;241m*\u001B[39m\u001B[38;5;241m*\u001B[39mkwargs)\n",
      "\u001B[1;31mFileExistsError\u001B[0m: [Errno 17] File exists: 'text.txt'"
     ]
    }
   ]
  },
  {
   "cell_type": "code",
   "execution_count": null,
   "outputs": [],
   "source": [],
   "metadata": {
    "collapsed": false
   }
  }
 ]
}
